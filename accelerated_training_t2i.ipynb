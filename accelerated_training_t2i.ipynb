{
 "cells": [
  {
   "cell_type": "markdown",
   "id": "7804df82-9664-40c5-b6c8-c787c2037212",
   "metadata": {
    "tags": []
   },
   "source": [
    "## Imports and helper functions"
   ]
  },
  {
   "cell_type": "code",
   "execution_count": 63,
   "id": "03d2a93a-8a00-4de8-b4ad-bd0ce0ed082d",
   "metadata": {},
   "outputs": [],
   "source": [
    "import transformers\n",
    "import diffusers\n",
    "\n",
    "from transformers import CLIPFeatureExtractor, CLIPTextModel, CLIPTokenizer\n",
    "\n",
    "from diffusers import (\n",
    "    AutoencoderKL,\n",
    "    T2IAdapter,\n",
    "    MultiAdapter,\n",
    "    StableDiffusionAdapterPipeline,\n",
    "    DDPMScheduler\n",
    ")\n",
    "\n",
    "import torch\n",
    "from torchvision import transforms\n",
    "from torch.utils.data import Dataset\n",
    "import torch.nn.functional as F\n",
    "from tqdm.auto import tqdm\n",
    "from diffusers.optimization import get_scheduler"
   ]
  },
  {
   "cell_type": "code",
   "execution_count": 29,
   "id": "5a35ba26-ddb4-40b4-b312-0ec96c4721f9",
   "metadata": {},
   "outputs": [],
   "source": [
    "from accelerate import Accelerator\n",
    "from accelerate.logging import get_logger\n",
    "from accelerate.utils import ProjectConfiguration, set_seed"
   ]
  },
  {
   "cell_type": "code",
   "execution_count": null,
   "id": "92e8dd68-a17b-445e-befa-357c3f30d524",
   "metadata": {},
   "outputs": [],
   "source": []
  },
  {
   "cell_type": "code",
   "execution_count": 117,
   "id": "82cc191f-074b-4e42-91ee-5f2567a403a5",
   "metadata": {},
   "outputs": [],
   "source": [
    "from types import SimpleNamespace\n",
    "from datasets import load_dataset\n",
    "\n",
    "#Generate an arg list \n",
    "\n",
    "args = SimpleNamespace()\n",
    "\n",
    "#Dataset generation args\n",
    "args.dataset_name = \"Overlapping triangles\"#\"fusing/fill50k\"\n",
    "args.train_data_dir = None #\"../ControlNet/training/fill50k\"\n",
    "args.dataset_config_name=None\n",
    "args.cache_dir = None\n",
    "args.image_column = \"image\"\n",
    "args.caption_column = \"text\"\n",
    "args.conditioning_image_column = \"conditioning_image\"\n",
    "args.resolution = 512\n",
    "args.max_train_samples = 1000\n",
    "args.seed = None\n",
    "args.train_batch_size = 4\n",
    "args.dataloader_num_workers = 0\n",
    "\n",
    "#Training args\n",
    "args.num_train_epochs = 10\n",
    "args.max_train_steps = 1000\n",
    "args.gradient_accumulation_steps = 1\n",
    "args.do_classifier_free_guidance= False\n",
    "args.validation_steps = 1\n",
    "args.set_grads_to_none = False\n",
    "#learning rate\n",
    "args.lr = 1e-4\n",
    "args.lr_scheduler = \"cosine\"\n",
    "args.lr_num_cycles = 1\n",
    "args.lr_power = 1\n",
    "args.lr_warmup_steps = 10\n",
    "\n",
    "#Validation args\n",
    "args.seed = None\n",
    "\n",
    "#adapter args\n",
    "args.adapter_conditioning_scale = 1.0\n",
    "args.num_images_per_prompt = 1"
   ]
  },
  {
   "cell_type": "markdown",
   "id": "7418c0fc-770e-43dc-8849-34ba75385e59",
   "metadata": {
    "tags": []
   },
   "source": [
    "## Generate training dataset"
   ]
  },
  {
   "cell_type": "markdown",
   "id": "00651edd-4743-425b-9d1d-faf0b7abea45",
   "metadata": {
    "tags": []
   },
   "source": [
    "### Generate base images first"
   ]
  },
  {
   "cell_type": "code",
   "execution_count": 12,
   "id": "ce4020bf-7bbf-418c-af38-1dd644e3c6cf",
   "metadata": {},
   "outputs": [
    {
     "data": {
      "text/plain": [
       "(-0.5, 511.5, 511.5, -0.5)"
      ]
     },
     "execution_count": 12,
     "metadata": {},
     "output_type": "execute_result"
    },
    {
     "data": {
      "image/png": "[encoded data removed]",
      "text/plain": [
       "<Figure size 432x288 with 1 Axes>"
      ]
     },
     "metadata": {
      "needs_background": "light"
     },
     "output_type": "display_data"
    },
    {
     "data": {
      "image/png": "[encoded data removed]",
      "text/plain": [
       "<Figure size 432x288 with 3 Axes>"
      ]
     },
     "metadata": {},
     "output_type": "display_data"
    },
    {
     "data": {
      "image/png": "[encoded data removed]",
      "text/plain": [
       "<Figure size 432x288 with 1 Axes>"
      ]
     },
     "metadata": {
      "needs_background": "light"
     },
     "output_type": "display_data"
    }
   ],
   "source": [
    "#Generate some generic training data real quick\n",
    "\n",
    "\n",
    "import numpy as np \n",
    "import cv2\n",
    "import matplotlib.pyplot as plt\n",
    "\n",
    "def generate_triangle_sdf(H,W):\n",
    "    \n",
    "    \n",
    "    EPS = 1e-12\n",
    "    x_pos, y_pos = np.meshgrid(np.linspace(0, (H-1), H),np.linspace(0, (W-1), W))\n",
    "\n",
    "    thresh = int(.2*W)\n",
    "    len_thresh = thresh*2\n",
    "    img_np = np.zeros((H, W), dtype=np.uint8)\n",
    "    valid2 = False\n",
    "    valid3 = False\n",
    "    while valid2 == False or valid3 == False:\n",
    "        x_1 = int(np.random.uniform(thresh,H-thresh))\n",
    "        y_1 = int(np.random.uniform(thresh,W-thresh))\n",
    "\n",
    "        #Compute a second point for the triangle\n",
    "        x_2 = int(np.random.uniform(thresh,H-thresh))\n",
    "        y_2 = int(np.random.uniform(thresh,W-thresh))\n",
    "        idx = 0 \n",
    "        while np.linalg.norm(np.array([x_1,y_1]) - np.array([x_2,y_2])) < len_thresh:\n",
    "            if idx < 50:\n",
    "                x_2 = int(np.random.uniform(thresh,H-thresh))\n",
    "                y_2 = int(np.random.uniform(thresh,W-thresh))\n",
    "                valid2 = True\n",
    "            else:\n",
    "                valid2 = False\n",
    "                break\n",
    "\n",
    "        x_3 = int(np.random.uniform(thresh,H-thresh))\n",
    "        y_3 = int(np.random.uniform(thresh,W-thresh))\n",
    "        idx = 0\n",
    "        while (np.linalg.norm(np.array([x_1,y_1]) - np.array([x_3,y_3])) < len_thresh) or (np.linalg.norm(np.array([x_2,y_2]) - np.array([x_3,y_3])) < len_thresh):\n",
    "            idx = idx +1\n",
    "            if idx < 50:\n",
    "                x_3 = int(np.random.uniform(thresh,H-thresh))\n",
    "                y_3 = int(np.random.uniform(thresh,W-thresh)) \n",
    "                valid3 = True\n",
    "            else:\n",
    "                valid3 = False\n",
    "                break\n",
    "    \n",
    "    pts_inp = np.array([[x_1, y_1], [x_2, y_2], [x_3, y_3]])\n",
    "    \n",
    "    oop_normal = [0,0,1]\n",
    "    \n",
    "    n = np.cross([x_1-x_2,y_1-y_2,0], [x_3-x_2,y_3-y_2])\n",
    "    \n",
    "    if np.dot(n,oop_normal) < 0:\n",
    "        pts_inp = pts_inp[[0,2,1],:]\n",
    "        x_2,y_2 = pts_inp[1,:]\n",
    "        x_3,y_3 = pts_inp[2,:]\n",
    "        \n",
    "    normals = []\n",
    "    ix_12 = np.linspace(x_1,x_2,500)\n",
    "    m_12 = (y_2-y_1)/(x_2-x_1 + EPS)\n",
    "    iy_12 = y_2 + m_12*(ix_12 - x_2)\n",
    "    out_12 =  np.array([[x, y] for (x, y) in zip(ix_12, iy_12)])\n",
    "    norm_12 = [np.arctan2(y_2-y_1, x_2-x_1)+np.pi/2] * len(ix_12)\n",
    "    normals.extend(norm_12)\n",
    "    \n",
    "    ix_23 = np.linspace(x_2,x_3,500)\n",
    "    m_23 = (y_3-y_2)/(x_3-x_2 + EPS)\n",
    "    iy_23 = y_3 + m_23*(ix_23 - x_3)\n",
    "    out_23 =  np.array([[x, y] for (x, y) in zip(ix_23, iy_23)])\n",
    "    norm_23 = [np.arctan2(y_3-y_2, x_3-x_2)+np.pi/2] * len(ix_23)\n",
    "    normals.extend(norm_23)\n",
    "    \n",
    "    ix_31 = np.linspace(x_3,x_1,500)\n",
    "    m_31 = (y_1-y_3)/(x_1-x_3 + EPS)\n",
    "    iy_31 = y_1 + m_31*(ix_31 - x_1)\n",
    "    out_31 =  np.array([[x, y] for (x, y) in zip(ix_31, iy_31)])\n",
    "    norm_31 = [np.arctan2(y_1-y_3, x_1-x_3)+np.pi/2] * len(ix_31)\n",
    "    normals.extend(norm_31)\n",
    "    \n",
    "    #Combine all 3 ouputs\n",
    "    out_pts = np.concatenate([out_12,out_23,out_31],axis=0)\n",
    "    out_pts = out_pts.reshape((1, -1, 2))\n",
    "\n",
    "    \n",
    "    pts = pts_inp.reshape((1,-1,2))\n",
    "    cv2.fillPoly(img_np, pts, color=255, lineType=cv2.LINE_AA)\n",
    "    img = img_np.reshape(img_np.shape[0],img_np.shape[1],1)\n",
    "    img = np.asarray(img/255.0,dtype=np.float32)\n",
    "    img = np.asarray(img>.5,dtype=np.float32)\n",
    "    normals = np.asarray(normals)\n",
    "    \n",
    "    return img, out_pts, normals\n",
    "\n",
    "H=W=512\n",
    "\n",
    "img,out_pts,normals = generate_triangle_sdf(H,W)\n",
    "img = 1- img\n",
    "first_img = (np.repeat(img,3,-1)* 255).astype(np.uint8)\n",
    "plt.imshow(first_img)\n",
    "\n",
    "mask_img,_,_ = generate_triangle_sdf(H,W)\n",
    "mask_img = mask_img[:,:,0].astype(int)\n",
    "\n",
    "\n",
    "masked_img = np.copy(img)\n",
    "masked_img[mask_img==1] = .5\n",
    "\n",
    "\n",
    "plt.subplot(122)\n",
    "plt.imshow((np.repeat(masked_img,3,-1)* 255).astype(np.uint8),cmap='gray_r')\n",
    "\n",
    "plt.figure()\n",
    "plt.subplot(131)\n",
    "fg_layer = mask_img\n",
    "plt.imshow(fg_layer,cmap='gray',vmin=0,vmax=1)\n",
    "plt.xticks([]);plt.yticks([]);\n",
    "\n",
    "plt.subplot(132)\n",
    "mid_layer = (1-img).squeeze()\n",
    "plt.imshow(mid_layer,cmap='gray',vmin=0,vmax=1)\n",
    "plt.xticks([]);plt.yticks([]);\n",
    "\n",
    "plt.subplot(133)\n",
    "bg_layer = np.ones(mid_layer.shape)\n",
    "plt.imshow(bg_layer,cmap='gray',vmin=0,vmax=1)\n",
    "plt.xticks([]);plt.yticks([]);\n",
    "\n",
    "plt.figure()\n",
    "layer_img = np.stack([fg_layer,mid_layer,bg_layer],axis=-1)\n",
    "plt.imshow(layer_img)\n",
    "plt.axis('off')"
   ]
  },
  {
   "cell_type": "code",
   "execution_count": 13,
   "id": "9e7077a8-9412-47a9-8962-21976d5cdcf8",
   "metadata": {},
   "outputs": [
    {
     "name": "stdout",
     "output_type": "stream",
     "text": [
      "0\n",
      "200\n",
      "400\n",
      "600\n",
      "800\n"
     ]
    }
   ],
   "source": [
    "DATASET_SIZE=1000\n",
    "H=W=512\n",
    "\n",
    "layer_binaries = []\n",
    "layer_imgs = []\n",
    "base_imgs = []\n",
    "\n",
    "def gray2rgb(img):\n",
    "    return (np.repeat(img,3,-1)* 255).astype(np.uint8)\n",
    "\n",
    "for itr in range(DATASET_SIZE):\n",
    "    img,_,_ = generate_triangle_sdf(H,W)\n",
    "    img = 1- img\n",
    "    \n",
    "    #Mask (foreground layer)\n",
    "    mask_img,_,_ = generate_triangle_sdf(H,W)\n",
    "    mask_img = mask_img[:,:,0].astype(int)\n",
    "\n",
    "    #Plain background layer\n",
    "    bg_layer = np.ones([H,W])\n",
    "    \n",
    "    #Compositing full image\n",
    "    masked_img = np.copy(img)\n",
    "    masked_img[mask_img==1] = .5\n",
    "    \n",
    "    #Compositing layer map\n",
    "    fg_layer = mask_img\n",
    "    mid_layer = (1-img).squeeze()\n",
    "    layer_bin = np.stack([fg_layer,mid_layer,bg_layer],axis=-1)\n",
    "\n",
    "    #add to lists\n",
    "    layer_binaries.append(layer_bin)\n",
    "    layer_imgs.append((gray2rgb(1-fg_layer[...,np.newaxis]*.5),\n",
    "                       gray2rgb(1-mid_layer[...,np.newaxis]),\n",
    "                       gray2rgb(bg_layer[...,np.newaxis])))\n",
    "    base_imgs.append(gray2rgb(masked_img))\n",
    "    \n",
    "    if itr%200 == 0:\n",
    "        print(itr)\n",
    "    "
   ]
  },
  {
   "cell_type": "code",
   "execution_count": 6,
   "id": "56b489f3-4420-48e6-81b3-5ed9846fc792",
   "metadata": {},
   "outputs": [],
   "source": [
    "# # Also need to generate some utils for the training for the layering maps\n",
    "# # For example need some code that combines all layer maps below a layer and all above a layer\n",
    "# # Also need analagous code that does this for the layered  objects in the image\n",
    "\n",
    "# def get_front_layers(layer_imgs, layer_bin, layer_no):\n",
    "#     num_layers = len(layer_imgs) -1 #subtract 1 for loops??\n",
    "#     front_layers = np.ones(layer_imgs[0].shape)\n",
    "#     front_bin = np.zeros(layer_bin.shape)\n",
    "#     if layer_no == num_layers:\n",
    "#         return front_layers,front_bin\n",
    "#     else:\n",
    "#         for layer_idx in range(layer_no,num_layers):\n",
    "#             front_layers[layer_bin==1,:] = layer_imgs[layer_bin==1,:]\n",
    "#             front_bin[layer_bin==1] = 1\n",
    "#         return front_layers,front_bin\n",
    "        \n",
    "\n",
    "# def get_back_layer(layer_imgs, layer_bin, layer_no):\n",
    "#     num_layers = len(layer_imgs) - 1\n",
    "#     back_layers = np.ones(layer_imgs[0].shape)\n",
    "#     back_bin = np.zeros(layer_bin.shape)\n",
    "#     for layer_idx in range(layer_no):\n",
    "#         #FINISH / FIX THIS CODE AT SOMEPOINT\n",
    "#         front_layers[layer_bin==1,:] = layer_imgs[layer_bin==1,:]\n",
    "#         front_bin[layer_bin==1] = 1\n",
    "#     return front_layers,front_bin"
   ]
  },
  {
   "cell_type": "markdown",
   "id": "680a5fc3-d250-440b-9553-d951055f9009",
   "metadata": {
    "tags": []
   },
   "source": [
    "### Put data into dataset objects"
   ]
  },
  {
   "cell_type": "code",
   "execution_count": 14,
   "id": "a412e66a-6b81-44f0-9ffd-fbb4eae7ac58",
   "metadata": {},
   "outputs": [],
   "source": [
    "#Define image transforms\n",
    "\n",
    "image_transforms = transforms.Compose(\n",
    "    [\n",
    "        transforms.ToPILImage(),\n",
    "        transforms.Resize(args.resolution, interpolation=transforms.InterpolationMode.BILINEAR),\n",
    "        transforms.CenterCrop(args.resolution),\n",
    "        transforms.ToTensor(),\n",
    "        transforms.Normalize([0.5], [0.5]),\n",
    "    ]\n",
    ")\n",
    "\n",
    "conditioning_image_transforms = transforms.Compose(\n",
    "    [\n",
    "        transforms.ToPILImage(),\n",
    "        transforms.Resize(args.resolution, interpolation=transforms.InterpolationMode.BILINEAR),\n",
    "        transforms.CenterCrop(args.resolution),\n",
    "        transforms.ToTensor(),\n",
    "    ]\n",
    ")"
   ]
  },
  {
   "cell_type": "code",
   "execution_count": 109,
   "id": "1d502d9c-7b20-4660-a885-419ba1e32030",
   "metadata": {},
   "outputs": [],
   "source": [
    "# Create a dataset class\n",
    "class LayerDataset(Dataset):\n",
    "    def __init__(self,base_imgs,layer_imgs):\n",
    "        self.data = list(zip(base_imgs,layer_imgs))\n",
    "        \n",
    "    def __len__(self):\n",
    "        return len(self.data)\n",
    "\n",
    "    def __getitem__(self, idx):\n",
    "        item = self.data[idx]\n",
    "        prompt = 'an image'\n",
    "\n",
    "        source = item[0] #base image (full image) (conditional input)\n",
    "        target = item[1]*255 #First layer only\n",
    "        \n",
    "        #Convert to torch tensors\n",
    "        source = torch.tensor(source).permute(2,0,1)\n",
    "        target = torch.tensor(target[0]).permute(2,0,1)\n",
    "        \n",
    "        #Apply transforms to both images\n",
    "        source = conditioning_image_transforms(source)\n",
    "        target = image_transforms(target)\n",
    "\n",
    "        return dict(pixel_values=target, txt=prompt, conditioning_pixel_values=source)"
   ]
  },
  {
   "cell_type": "code",
   "execution_count": 110,
   "id": "ff8e0a6d-f125-4ae5-95a1-2cfa34d539c4",
   "metadata": {},
   "outputs": [],
   "source": [
    "def collate_fn(examples):\n",
    "    pixel_values = torch.stack([example[\"pixel_values\"] for example in examples])\n",
    "    pixel_values = pixel_values.to(memory_format=torch.contiguous_format).float()\n",
    "\n",
    "    conditioning_pixel_values = torch.stack([example[\"conditioning_pixel_values\"] for example in examples])\n",
    "    conditioning_pixel_values = conditioning_pixel_values.to(memory_format=torch.contiguous_format).float()\n",
    "\n",
    "    # input_ids = torch.stack([example[\"input_ids\"] for example in examples])\n",
    "\n",
    "    return {\n",
    "        \"pixel_values\": pixel_values,\n",
    "        \"conditioning_pixel_values\": conditioning_pixel_values,\n",
    "        # \"input_ids\": input_ids,\n",
    "    }\n"
   ]
  },
  {
   "cell_type": "code",
   "execution_count": 111,
   "id": "e9512576-262d-4e7a-8a66-3b681be37eb6",
   "metadata": {},
   "outputs": [
    {
     "data": {
      "text/plain": [
       "<matplotlib.image.AxesImage at 0x14aa575248b0>"
      ]
     },
     "execution_count": 111,
     "metadata": {},
     "output_type": "execute_result"
    },
    {
     "data": {
      "image/png": "[encoded data removed]",
      "text/plain": [
       "<Figure size 432x288 with 2 Axes>"
      ]
     },
     "metadata": {
      "needs_background": "light"
     },
     "output_type": "display_data"
    }
   ],
   "source": [
    "train_dataset =  LayerDataset(base_imgs,layer_imgs)\n",
    "\n",
    "plt.subplot(121)\n",
    "plt.imshow(train_dataset[0]['pixel_values'].permute(1,2,0)/ 2 + 1/2)\n",
    "\n",
    "plt.subplot(122)\n",
    "plt.imshow(train_dataset[0]['conditioning_pixel_values'].permute(1,2,0))"
   ]
  },
  {
   "cell_type": "code",
   "execution_count": 18,
   "id": "f77162e9-bbd2-42a1-bdc0-02e5cfc3c737",
   "metadata": {},
   "outputs": [],
   "source": [
    "train_dataloader = torch.utils.data.DataLoader(\n",
    "    train_dataset,\n",
    "    shuffle=True,\n",
    "    collate_fn=collate_fn,\n",
    "    batch_size=args.train_batch_size,\n",
    "    num_workers=args.dataloader_num_workers,\n",
    ")"
   ]
  },
  {
   "cell_type": "markdown",
   "id": "43cbe135-bcc4-4c84-9089-4dc418a50204",
   "metadata": {},
   "source": [
    "### Create a subset of validation images"
   ]
  },
  {
   "cell_type": "code",
   "execution_count": 19,
   "id": "485ca10c-44d7-4838-a7c1-4e1962644d50",
   "metadata": {},
   "outputs": [],
   "source": [
    "VALIDATION_SIZE=2\n",
    "H=W=512\n",
    "\n",
    "val_binaries = []\n",
    "val_layers = []\n",
    "val_imgs = []\n",
    "\n",
    "def gray2rgb(img):\n",
    "    return (np.repeat(img,3,-1)* 255).astype(np.uint8)\n",
    "\n",
    "for itr in range(VALIDATION_SIZE):\n",
    "    img,_,_ = generate_triangle_sdf(H,W)\n",
    "    img = 1- img\n",
    "    \n",
    "    #Mask (foreground layer)\n",
    "    mask_img,_,_ = generate_triangle_sdf(H,W)\n",
    "    mask_img = mask_img[:,:,0].astype(int)\n",
    "\n",
    "    #Plain background layer\n",
    "    bg_layer = np.ones([H,W])\n",
    "    \n",
    "    #Compositing full image\n",
    "    masked_img = np.copy(img)\n",
    "    masked_img[mask_img==1] = .5\n",
    "    \n",
    "    #Compositing layer map\n",
    "    fg_layer = mask_img\n",
    "    mid_layer = (1-img).squeeze()\n",
    "    layer_bin = np.stack([fg_layer,mid_layer,bg_layer],axis=-1)\n",
    "\n",
    "    #add to lists\n",
    "    val_binaries.append(layer_bin)\n",
    "    val_layers.append((gray2rgb(1-fg_layer[...,np.newaxis]*.5),\n",
    "                       gray2rgb(1-mid_layer[...,np.newaxis]),\n",
    "                       gray2rgb(bg_layer[...,np.newaxis])))\n",
    "    val_imgs.append(gray2rgb(masked_img))\n",
    "    \n",
    "#     if itr%200 == 0:\n",
    "#         print(itr)"
   ]
  },
  {
   "cell_type": "code",
   "execution_count": 94,
   "id": "ef6462ff-ea36-4ada-aa8f-6ac9de8eee4d",
   "metadata": {},
   "outputs": [],
   "source": [
    "from PIL import Image\n",
    "\n",
    "val_imgs_PIL = []\n",
    "val_layers_PIL = []\n",
    "for idx in range(len(val_imgs)):\n",
    "    val_imgs_PIL.append(Image.fromarray(val_imgs[idx]))\n",
    "    val_layers_PIL.append(Image.fromarray(val_layers[idx][0]))\n",
    "\n",
    "args.validation_image = val_imgs_PIL\n",
    "args.validation_prompt = [\"\"]\n",
    "args.num_validation_images = VALIDATION_SIZE"
   ]
  },
  {
   "cell_type": "code",
   "execution_count": 21,
   "id": "8f563f67-4bb5-4321-9662-e8a183a106f6",
   "metadata": {},
   "outputs": [
    {
     "data": {
      "image/png": "[encoded data removed]",
      "text/plain": [
       "<Figure size 432x288 with 4 Axes>"
      ]
     },
     "metadata": {},
     "output_type": "display_data"
    }
   ],
   "source": [
    "## Hard code some things for getting the first layer of each val_layers for now\n",
    "\n",
    "plt.subplot(221)\n",
    "plt.imshow(val_imgs_PIL[0])\n",
    "plt.xticks([]);plt.yticks([]);\n",
    "\n",
    "plt.subplot(222)\n",
    "plt.imshow(val_layers_PIL[0])\n",
    "plt.xticks([]);plt.yticks([]);\n",
    "\n",
    "plt.subplot(223)\n",
    "plt.imshow(val_imgs_PIL[1])\n",
    "plt.xticks([]);plt.yticks([]);\n",
    "\n",
    "plt.subplot(224)\n",
    "plt.imshow(val_layers_PIL[1])\n",
    "plt.xticks([]);plt.yticks([]);"
   ]
  },
  {
   "cell_type": "code",
   "execution_count": 59,
   "id": "dd2b9610-2f38-4b33-b410-c640284e23c9",
   "metadata": {},
   "outputs": [],
   "source": [
    "# conditioning_image_transforms(np.array(val_imgs_PIL[0]))"
   ]
  },
  {
   "cell_type": "markdown",
   "id": "bf1cf04b-9400-4ba6-a406-2d65ba39c6a0",
   "metadata": {
    "tags": []
   },
   "source": [
    "## Implement the adapter models"
   ]
  },
  {
   "cell_type": "code",
   "execution_count": 22,
   "id": "a1817a7a-6ae8-4c74-93fe-dc36f318696f",
   "metadata": {},
   "outputs": [],
   "source": [
    "import torch\n",
    "import torch.nn as nn\n",
    "\n",
    "## Network that takes 4 dimensional input and pushes it to 3 dimensions for the vae\n",
    "class ContractNet(nn.Module):\n",
    "    def __init__(self):\n",
    "        super(ContractNet, self).__init__()\n",
    "        self.conv = nn.Conv2d(4, 3, kernel_size=1)\n",
    "\n",
    "    def forward(self, x):\n",
    "        return self.conv(x)\n",
    "\n",
    "    \n",
    "\n",
    "## Network that takes 3 dimensional input and pushes it to 4 dimensions for model out\n",
    "class ExpandNet(nn.Module):\n",
    "    def __init__(self):\n",
    "        super(ExpandNet, self).__init__()\n",
    "        self.conv = nn.Conv2d(3, 4, kernel_size=1)\n",
    "\n",
    "    def forward(self, x):\n",
    "        return self.conv(x)\n"
   ]
  },
  {
   "cell_type": "code",
   "execution_count": 113,
   "id": "0d58bbfc-ec06-42ee-8f25-0e7b5b22e583",
   "metadata": {},
   "outputs": [
    {
     "name": "stderr",
     "output_type": "stream",
     "text": [
      "{'adapter_weights', 'requires_safety_checker'} was not found in config. Values will be initialized to default values.\n",
      "{'class_embeddings_concat', 'conv_out_kernel', 'resnet_time_scale_shift', 'time_cond_proj_dim', 'dual_cross_attention', 'conv_in_kernel', 'time_embedding_type', 'projection_class_embeddings_input_dim', 'mid_block_only_cross_attention', 'time_embedding_act_fn', 'cross_attention_norm', 'timestep_post_act', 'mid_block_type', 'upcast_attention', 'resnet_skip_time_act', 'resnet_out_scale_factor', 'use_linear_projection', 'encoder_hid_dim', 'only_cross_attention', 'class_embed_type', 'num_class_embeds'} was not found in config. Values will be initialized to default values.\n",
      "{'scaling_factor'} was not found in config. Values will be initialized to default values.\n",
      "{'prediction_type'} was not found in config. Values will be initialized to default values.\n",
      "`text_config_dict` is provided which will be used to initialize `CLIPTextConfig`. The value `text_config[\"id2label\"]` will be overriden.\n",
      "{'sample_max_value', 'clip_sample_range', 'dynamic_thresholding_ratio', 'variance_type', 'prediction_type', 'thresholding'} was not found in config. Values will be initialized to default values.\n"
     ]
    }
   ],
   "source": [
    "#Instantiate the two adapters and the pretrained model\n",
    "\n",
    "# An adapter that takes in the original image (or a subset of layers)\n",
    "RGB_adapter = T2IAdapter(channels_in=int(3), \n",
    "                       block_out_channels=[320, 640, 1280, 1280][:4], \n",
    "                       num_res_blocks=2, \n",
    "                       kernel_size=1, \n",
    "                       res_block_skip=True, \n",
    "                       use_conv=False)\n",
    "\n",
    "# An adapter that takes in the mask given by the layers above the current one\n",
    "mask_adapter = T2IAdapter(channels_in=int(1), \n",
    "                       block_out_channels=[320, 640, 1280, 1280][:4], \n",
    "                       num_res_blocks=2, \n",
    "                       kernel_size=1, \n",
    "                       res_block_skip=True, \n",
    "                       use_conv=False)\n",
    "\n",
    "#Combine them into a single adapter\n",
    "# adapter = MultiAdapter([RGB_adapter,mask_adapter])\n",
    "adapter = RGB_adapter\n",
    "\n",
    "#Instantiate the Convolutional layers\n",
    "# contract_layer = ContractNet()\n",
    "# expand_layer = ExpandNet()\n",
    "\n",
    "#Pretrained stable diffusion model that we will try not to touch (may end up changing the final conv_out though.\n",
    "#To be honest I am really hoping this works\n",
    "\n",
    "model_name = \"runwayml/stable-diffusion-v1-5\"\n",
    "pipe = StableDiffusionAdapterPipeline.from_pretrained(model_name, torch_dtype=torch.float32).to('cuda')\n",
    "pipe.safety_checker = None\n",
    "\n",
    "vae = pipe.vae\n",
    "unet = pipe.unet\n",
    "\n",
    "noise_scheduler = DDPMScheduler.from_pretrained(model_name, subfolder=\"scheduler\")\n",
    "\n",
    "# also get the clip model because it matters probably....\n",
    "\n",
    "#But looks like it may not work as just the model for training so we have to separate it into parts for training anyway"
   ]
  },
  {
   "cell_type": "code",
   "execution_count": 24,
   "id": "3b858c58-d6e5-4006-8532-a35066896acc",
   "metadata": {},
   "outputs": [],
   "source": [
    "#Random point, what if I dont do anything about the masking etc, and just try and make a model that removes the top object in a scene, or like just tries to get the layer mappings?"
   ]
  },
  {
   "cell_type": "markdown",
   "id": "6036cf0b-3ce3-44d4-b42b-154d20d29045",
   "metadata": {},
   "source": [
    "## Train the model"
   ]
  },
  {
   "cell_type": "markdown",
   "id": "324e10a3-3e60-4314-806b-26bd3bd3c065",
   "metadata": {
    "tags": []
   },
   "source": [
    "### TODO: Write a validation loop"
   ]
  },
  {
   "cell_type": "code",
   "execution_count": 115,
   "id": "d903a7f3-9124-4b5a-8bea-814f144cf75e",
   "metadata": {},
   "outputs": [],
   "source": [
    "def log_validation(pipe, adapter, args, step=0,accelerator=None):\n",
    "    print(f\"step = {step}\")\n",
    "\n",
    "    # controlnet = accelerator.unwrap_model(controlnet)\n",
    "\n",
    "    pipe.adapter = adapter\n",
    "    # pipeline.scheduler = UniPCMultistepScheduler.from_config(pipeline.scheduler.config)\n",
    "    # pipeline = pipeline.to(accelerator.device)\n",
    "    # pipeline.set_progress_bar_config(disable=True)\n",
    "\n",
    "#     if args.enable_xformers_memory_efficient_attention:\n",
    "#         pipeline.enable_xformers_memory_efficient_attention()\n",
    "\n",
    "    if args.seed is None:\n",
    "        generator = None\n",
    "    else:\n",
    "        generator = torch.Generator(device=accelerator.device).manual_seed(args.seed)\n",
    "\n",
    "    if len(args.validation_image) == len(args.validation_prompt):\n",
    "        validation_images = args.validation_image\n",
    "        validation_prompts = args.validation_prompt\n",
    "    elif len(args.validation_image) == 1:\n",
    "        validation_images = args.validation_image * len(args.validation_prompt)\n",
    "        validation_prompts = args.validation_prompt\n",
    "    elif len(args.validation_prompt) == 1:\n",
    "        validation_images = args.validation_image\n",
    "        validation_prompts = args.validation_prompt * len(args.validation_image)\n",
    "    else:\n",
    "        raise ValueError(\n",
    "            \"number of `args.validation_image` and `args.validation_prompt` should be checked in `parse_args`\"\n",
    "        )\n",
    "\n",
    "    image_logs = []\n",
    "\n",
    "    for validation_prompt, validation_image in zip(validation_prompts, validation_images):\n",
    "        # validation_image = Image.open(validation_image).convert(\"RGB\")\n",
    "\n",
    "        images = []\n",
    "\n",
    "        for _ in range(args.num_validation_images):\n",
    "            with torch.autocast(\"cuda\"):\n",
    "                image = pipe(\n",
    "                    validation_prompt, validation_image, num_inference_steps=20, generator=generator\n",
    "                ).images[0]\n",
    "\n",
    "            images.append(image)\n",
    "\n",
    "        image_logs.append(\n",
    "            {\"validation_image\": validation_image, \"images\": images, \"validation_prompt\": validation_prompt}\n",
    "        )\n",
    "        \n",
    "    \n",
    "    for tracker in accelerator.trackers:\n",
    "        if tracker.name == \"tensorboard\":\n",
    "            for log in image_logs:\n",
    "                images = log[\"images\"]\n",
    "                validation_prompt = log[\"validation_prompt\"]\n",
    "                validation_image = log[\"validation_image\"]\n",
    "\n",
    "                formatted_images = []\n",
    "\n",
    "                formatted_images.append(np.asarray(validation_image))\n",
    "\n",
    "                for image in images:\n",
    "                    formatted_images.append(np.asarray(image))\n",
    "\n",
    "                formatted_images = np.stack(formatted_images)\n",
    "\n",
    "                tracker.writer.add_images(validation_prompt, formatted_images, step, dataformats=\"NHWC\")\n",
    "        elif tracker.name == \"wandb\":\n",
    "            formatted_images = []\n",
    "\n",
    "            for log in image_logs:\n",
    "                images = log[\"images\"]\n",
    "                validation_prompt = log[\"validation_prompt\"]\n",
    "                validation_image = log[\"validation_image\"]\n",
    "\n",
    "                formatted_images.append(wandb.Image(validation_image, caption=\"Controlnet conditioning\"))\n",
    "\n",
    "                for image in images:\n",
    "                    image = wandb.Image(image, caption=validation_prompt)\n",
    "                    formatted_images.append(image)\n",
    "\n",
    "            tracker.log({\"validation\": formatted_images})\n",
    "        else:\n",
    "            logger.warn(f\"image logging not implemented for {tracker.name}\")\n",
    "\n",
    "    return image_logs\n",
    "\n",
    "# Here I need to make a set of images \n",
    "# Looks like top row, validation image *2, next validation image *2, bottom row is outputs\n",
    "\n",
    "def save_image_logs(image_logs,step=0):\n",
    "    plt.figure()\n",
    "    plt.subplot(241)\n",
    "    plt.imshow(image_logs[0]['validation_image'])\n",
    "    plt.subplot(242)\n",
    "    plt.imshow(image_logs[0]['validation_image'])\n",
    "    plt.subplot(243)\n",
    "    plt.imshow(image_logs[1]['validation_image'])\n",
    "    plt.subplot(244)\n",
    "    plt.imshow(image_logs[1]['validation_image'])\n",
    "\n",
    "    plt.subplot(245)\n",
    "    plt.imshow(image_logs[0]['images'][0])\n",
    "    plt.subplot(246)\n",
    "    plt.imshow(image_logs[0]['images'][1])\n",
    "    plt.subplot(247)\n",
    "    plt.imshow(image_logs[1]['images'][0])\n",
    "    plt.subplot(248)\n",
    "    plt.imshow(image_logs[1]['images'][1])\n",
    "\n",
    "    plt.setp(plt.gcf().get_axes(), xticks=[], yticks=[]);\n",
    "\n",
    "    plt.savefig(f'test_logs/epoch_{step}_val.png')"
   ]
  },
  {
   "cell_type": "markdown",
   "id": "04d19bbe-9dd5-4be9-bf04-5920e16bf9d6",
   "metadata": {},
   "source": [
    "### Prepare the accelerator"
   ]
  },
  {
   "cell_type": "code",
   "execution_count": 116,
   "id": "1da31f96-7810-4672-a18c-4c495260d02b",
   "metadata": {},
   "outputs": [
    {
     "data": {
      "text/html": [
       "<pre style=\"white-space:pre;overflow-x:auto;line-height:normal;font-family:Menlo,'DejaVu Sans Mono',consolas,'Courier New',monospace\"><span style=\"color: #800000; text-decoration-color: #800000\">╭─────────────────────────────── </span><span style=\"color: #800000; text-decoration-color: #800000; font-weight: bold\">Traceback </span><span style=\"color: #bf7f7f; text-decoration-color: #bf7f7f; font-weight: bold\">(most recent call last)</span><span style=\"color: #800000; text-decoration-color: #800000\"> ────────────────────────────────╮</span>\n",
       "<span style=\"color: #800000; text-decoration-color: #800000\">│</span> in <span style=\"color: #00ff00; text-decoration-color: #00ff00\">&lt;module&gt;</span>:<span style=\"color: #0000ff; text-decoration-color: #0000ff\">2</span>                                                                                    <span style=\"color: #800000; text-decoration-color: #800000\">│</span>\n",
       "<span style=\"color: #800000; text-decoration-color: #800000\">╰──────────────────────────────────────────────────────────────────────────────────────────────────╯</span>\n",
       "<span style=\"color: #ff0000; text-decoration-color: #ff0000; font-weight: bold\">AttributeError: </span><span style=\"color: #008000; text-decoration-color: #008000\">'types.SimpleNamespace'</span> object has no attribute <span style=\"color: #008000; text-decoration-color: #008000\">'output_dir'</span>\n",
       "</pre>\n"
      ],
      "text/plain": [
       "\u001b[31m╭─\u001b[0m\u001b[31m──────────────────────────────\u001b[0m\u001b[31m \u001b[0m\u001b[1;31mTraceback \u001b[0m\u001b[1;2;31m(most recent call last)\u001b[0m\u001b[31m \u001b[0m\u001b[31m───────────────────────────────\u001b[0m\u001b[31m─╮\u001b[0m\n",
       "\u001b[31m│\u001b[0m in \u001b[92m<module>\u001b[0m:\u001b[94m2\u001b[0m                                                                                    \u001b[31m│\u001b[0m\n",
       "\u001b[31m╰──────────────────────────────────────────────────────────────────────────────────────────────────╯\u001b[0m\n",
       "\u001b[1;91mAttributeError: \u001b[0m\u001b[32m'types.SimpleNamespace'\u001b[0m object has no attribute \u001b[32m'output_dir'\u001b[0m\n"
      ]
     },
     "metadata": {},
     "output_type": "display_data"
    }
   ],
   "source": [
    "#Initialize the accelerator \n",
    "logging_dir = Path(args.output_dir, args.logging_dir)\n",
    "\n",
    "accelerator_project_config = ProjectConfiguration(project_dir=args.output_dir, logging_dir=logging_dir)\n",
    "\n",
    "accelerator = Accelerator(\n",
    "    gradient_accumulation_steps=args.gradient_accumulation_steps,\n",
    "    mixed_precision=args.mixed_precision,\n",
    "    log_with=args.report_to,\n",
    "    project_config=accelerator_project_config,\n",
    ")\n",
    "\n",
    "logging.basicConfig(\n",
    "    format=\"%(asctime)s - %(levelname)s - %(name)s - %(message)s\",\n",
    "    datefmt=\"%m/%d/%Y %H:%M:%S\",\n",
    "    level=logging.INFO,\n",
    ")\n",
    "\n",
    "logger.info(accelerator.state, main_process_only=False)\n",
    "if accelerator.is_local_main_process:\n",
    "    transformers.utils.logging.set_verbosity_warning()\n",
    "    diffusers.utils.logging.set_verbosity_info()\n",
    "else:\n",
    "    transformers.utils.logging.set_verbosity_error()\n",
    "    diffusers.utils.logging.set_verbosity_error()\n",
    "    \n",
    "if accelerator.is_main_process:\n",
    "    if args.output_dir is not None:\n",
    "        os.makedirs(args.output_dir, exist_ok=True)\n",
    "    \n",
    "    "
   ]
  },
  {
   "cell_type": "markdown",
   "id": "3a02b598-6e3f-4e60-96a0-1051c8f99c3c",
   "metadata": {},
   "source": [
    "### Actual training loop"
   ]
  },
  {
   "cell_type": "code",
   "execution_count": 118,
   "id": "22b83ac8-25c0-42f8-82c0-0509f147bf67",
   "metadata": {},
   "outputs": [],
   "source": [
    "#Put adapter on GPU / prepare accelerator\n",
    "vae.requires_grad_(False)\n",
    "# adapter = adapter.to(\"cuda\")\n",
    "adapter = accelerator.unwrap_model(adapter)\n",
    "adapter, optimizer, train_dataloader, lr_scheduler = accelerator.prepare(\n",
    "    adapter, optimizer, train_dataloader, lr_scheduler)\n",
    "\n",
    "#Set optimizer class\n",
    "optimizer_class = torch.optim.AdamW\n",
    "\n",
    "#Get parameters to optimize\n",
    "params_to_optimize = adapter.parameters()\n",
    "optimizer = optimizer_class(\n",
    "    params_to_optimize,\n",
    "    lr = args.lr\n",
    ") \n",
    "\n",
    "#Get lr scheduler = \n",
    "lr_scheduler = get_scheduler(\n",
    "    args.lr_scheduler,\n",
    "    optimizer=optimizer,\n",
    "    num_warmup_steps=args.lr_warmup_steps,# * args.gradient_accumulation_steps,\n",
    "    num_training_steps=args.max_train_steps,# * args.gradient_accumulation_steps,\n",
    "    num_cycles=args.lr_num_cycles,\n",
    "    power=args.lr_power,\n",
    ")\n",
    "\n",
    "# additional, try to figure out accelerator"
   ]
  },
  {
   "cell_type": "code",
   "execution_count": 119,
   "id": "3fc73a99-6882-4914-ad29-e9e2c3693067",
   "metadata": {},
   "outputs": [],
   "source": [
    "# !pip install wandb"
   ]
  },
  {
   "cell_type": "code",
   "execution_count": null,
   "id": "7e7875a7-36e7-479b-9d30-20249fe0fed8",
   "metadata": {},
   "outputs": [
    {
     "name": "stderr",
     "output_type": "stream",
     "text": [
      "06/22/2023 15:39:14 - INFO - __main__ - ***** Running training *****\n",
      "06/22/2023 15:39:14 - INFO - __main__ -   Num examples = 1000\n",
      "06/22/2023 15:39:14 - INFO - __main__ -   Num batches each epoch = 250\n",
      "06/22/2023 15:39:14 - INFO - __main__ -   Num Epochs = 10\n",
      "06/22/2023 15:39:14 - INFO - __main__ -   Instantaneous batch size per device = 4\n",
      "06/22/2023 15:39:14 - INFO - __main__ -   Total train batch size (w. parallel, distributed & accumulation) = 4\n",
      "06/22/2023 15:39:14 - INFO - __main__ -   Gradient Accumulation steps = 1\n",
      "06/22/2023 15:39:14 - INFO - __main__ -   Total optimization steps = 2500\n"
     ]
    },
    {
     "data": {
      "application/vnd.jupyter.widget-view+json": {
       "model_id": "6fba6b73621a4fee8e4ec6d6c2ed5e9a",
       "version_major": 2,
       "version_minor": 0
      },
      "text/plain": [
       "Steps:   0%|          | 0/2500 [00:00<?, ?it/s]"
      ]
     },
     "metadata": {},
     "output_type": "display_data"
    }
   ],
   "source": [
    "## https://github.com/huggingface/diffusers/blob/main/examples/controlnet/train_controlnet.py\n",
    "#Set number of max train steps?\n",
    "args.max_train_steps = args.num_train_epochs * len(train_dataloader)\n",
    "\n",
    "\n",
    "# Train!\n",
    "total_batch_size = args.train_batch_size #* accelerator.num_processes * args.gradient_accumulation_steps\n",
    "\n",
    "logger.info(\"***** Running training *****\")\n",
    "logger.info(f\"  Num examples = {len(train_dataset)}\")\n",
    "logger.info(f\"  Num batches each epoch = {len(train_dataloader)}\")\n",
    "logger.info(f\"  Num Epochs = {args.num_train_epochs}\")\n",
    "logger.info(f\"  Instantaneous batch size per device = {args.train_batch_size}\")\n",
    "logger.info(f\"  Total train batch size (w. parallel, distributed & accumulation) = {total_batch_size}\")\n",
    "logger.info(f\"  Gradient Accumulation steps = {args.gradient_accumulation_steps}\")\n",
    "logger.info(f\"  Total optimization steps = {args.max_train_steps}\")\n",
    "global_step = 0\n",
    "first_epoch = 0\n",
    "\n",
    "initial_global_step = 0\n",
    "\n",
    "progress_bar = tqdm(\n",
    "    range(0, args.max_train_steps),\n",
    "    initial=initial_global_step,\n",
    "    desc=\"Steps\",\n",
    "    # Only show the progress bar once on each machine.\n",
    "    # disable=not accelerator.is_local_main_process,\n",
    ")\n",
    "\n",
    "weight_dtype = torch.float32\n",
    "image_logs = None\n",
    "for epoch in range(first_epoch, args.num_train_epochs):\n",
    "    for step, batch in enumerate(train_dataloader):\n",
    "        with accelerator.accumulate(adapter):\n",
    "            #### Convert images to latent space\n",
    "            #network that goes from four to three dimensions\n",
    "            # contract_in = contract_layer()\n",
    "            latents = vae.encode(batch[\"pixel_values\"].to(dtype=weight_dtype).to('cuda')).latent_dist.sample()\n",
    "            latents = latents * vae.config.scaling_factor\n",
    "            # print('Latents calculated')\n",
    "\n",
    "            # Sample noise that we'll add to the latents\n",
    "            noise = torch.randn_like(latents)\n",
    "            bsz = latents.shape[0]\n",
    "            # Sample a random timestep for each image\n",
    "            timesteps = torch.randint(0, noise_scheduler.config.num_train_timesteps, (bsz,), device=latents.device)\n",
    "            timesteps = timesteps.long()\n",
    "            # print('Noise Generated')\n",
    "\n",
    "            # Add noise to the latents according to the noise magnitude at each timestep\n",
    "            # (this is the forward diffusion process)\n",
    "            noisy_latents = noise_scheduler.add_noise(latents, noise, timesteps)\n",
    "\n",
    "            # Get the text embedding for conditioning\n",
    "            prompt_embeds = pipe._encode_prompt(\n",
    "                \"\",\n",
    "                device=\"cuda\",\n",
    "                num_images_per_prompt = args.train_batch_size ,\n",
    "                do_classifier_free_guidance=args.do_classifier_free_guidance,\n",
    "                negative_prompt=None,\n",
    "                prompt_embeds=None,\n",
    "                negative_prompt_embeds=None,\n",
    "            )\n",
    "            # print('Prompt Embeddings Generated')\n",
    "\n",
    "            # Denoising loop\n",
    "            adapter_input = batch[\"conditioning_pixel_values\"].to(dtype=weight_dtype).to('cuda')\n",
    "            adapter_state = adapter(adapter_input)\n",
    "            for k, v in enumerate(adapter_state):\n",
    "                adapter_state[k] = v * args.adapter_conditioning_scale\n",
    "            if args.num_images_per_prompt > 1:\n",
    "                for k, v in enumerate(adapter_state):\n",
    "                    adapter_state[k] = v.repeat(args.num_images_per_prompt, 1, 1, 1)\n",
    "            if args.do_classifier_free_guidance:\n",
    "                for k, v in enumerate(adapter_state):\n",
    "                    adapter_state[k] = torch.cat([v] * 2, dim=0)\n",
    "            # print('Adapter values Generated')\n",
    "\n",
    "\n",
    "            ## expand the latents if we are doing classifier free guidance\n",
    "            latent_model_input = torch.cat([noisy_latents] * 2) if args.do_classifier_free_guidance else noisy_latents\n",
    "\n",
    "            # predict the noise residual\n",
    "            noise_pred = unet(\n",
    "                    latent_model_input,\n",
    "                    timesteps,\n",
    "                    encoder_hidden_states=prompt_embeds,\n",
    "                    cross_attention_kwargs=None,\n",
    "                    down_block_additional_residuals=[state.clone() for state in adapter_state],\n",
    "            ).sample\n",
    "\n",
    "            # print('Prediction complete')\n",
    "            # Get the target for loss depending on the prediction type\n",
    "            if noise_scheduler.config.prediction_type == \"epsilon\":\n",
    "                target = noise\n",
    "            elif noise_scheduler.config.prediction_type == \"v_prediction\":\n",
    "                target = noise_scheduler.get_velocity(latents, noise, timesteps)\n",
    "            else:\n",
    "                raise ValueError(f\"Unknown prediction type {noise_scheduler.config.prediction_type}\")\n",
    "            loss = F.mse_loss(noise_pred.float(), target.float(), reduction=\"mean\")\n",
    "            # print('loss computed')\n",
    "            # loss.backward()\n",
    "            accelerator.backward(loss)\n",
    "            optimizer.step()\n",
    "            lr_scheduler.step()\n",
    "            optimizer.zero_grad(set_to_none=args.set_grads_to_none)\n",
    "            \n",
    "\n",
    "        #Stuff here for accelerator\n",
    "        if accelerator.sync_gradients:\n",
    "            progress_bar.update(1)\n",
    "            global_step += 1\n",
    "            if accelerator.is_main_process:\n",
    "                #Code for saving checkpoints\n",
    "                pass\n",
    "                \n",
    "                \n",
    "        logs = {\"loss\": loss.detach().item(), \"lr\": lr_scheduler.get_last_lr()[0]}\n",
    "        progress_bar.set_postfix(**logs)\n",
    "        accelerator.log(logs, step=global_step)\n",
    "    if epoch % 2 == 0:\n",
    "        val_out = log_validation(pipe, adapter, args)\n",
    "        save_image_logs(val_out,step=epoch)\n",
    "    if global_step >= args.max_train_steps:\n",
    "        break\n",
    "        \n",
    "accelerator.end_training()"
   ]
  },
  {
   "cell_type": "code",
   "execution_count": 108,
   "id": "7ed01fab-3c04-4360-a45a-c6e207b48f47",
   "metadata": {},
   "outputs": [
    {
     "name": "stderr",
     "output_type": "stream",
     "text": [
      "06/22/2023 15:28:05 - WARNING - matplotlib.image - Clipping input data to the valid range for imshow with RGB data ([0..1] for floats or [0..255] for integers).\n"
     ]
    },
    {
     "data": {
      "text/plain": [
       "<matplotlib.image.AxesImage at 0x14aa57500100>"
      ]
     },
     "execution_count": 108,
     "metadata": {},
     "output_type": "execute_result"
    },
    {
     "data": {
      "image/png": "[encoded data removed]",
      "text/plain": [
       "<Figure size 432x288 with 1 Axes>"
      ]
     },
     "metadata": {
      "needs_background": "light"
     },
     "output_type": "display_data"
    }
   ],
   "source": [
    "# plt.imshow(train_dataset[0]['pixel_values'].permute(1,2,0))\n",
    "plt.imshow(train_dataset[0]['conditioning_pixel_values'].permute(1,2,0)) "
   ]
  },
  {
   "cell_type": "markdown",
   "id": "9575327f-d6e2-43de-a2d1-abfc3e0fcb8b",
   "metadata": {},
   "source": [
    "### wandbstuff"
   ]
  },
  {
   "cell_type": "code",
   "execution_count": 42,
   "id": "b92e0662-e37d-4b22-9438-fe0d65e15421",
   "metadata": {},
   "outputs": [
    {
     "name": "stdout",
     "output_type": "stream",
     "text": [
      "\u001b[34m\u001b[1mwandb\u001b[0m: Logging into wandb.ai. (Learn how to deploy a W&B server locally: https://wandb.me/wandb-server)\n",
      "\u001b[34m\u001b[1mwandb\u001b[0m: You can find your API key in your browser here: https://wandb.ai/authorize\n",
      "\u001b[34m\u001b[1mwandb\u001b[0m: Paste an API key from your profile and hit enter, or press ctrl+c to quit: \n",
      "Aborted!\n",
      "/bin/bash: d9387a82bf250d82223965b50544c06bfa6bf8bd: command not found\n"
     ]
    }
   ],
   "source": [
    "!wandb login\n",
    "!d9387a82bf250d82223965b50544c06bfa6bf8bd"
   ]
  },
  {
   "cell_type": "code",
   "execution_count": 43,
   "id": "0ae2dfd8-8c6c-4e12-bb8e-9c8cc4bd7ce5",
   "metadata": {},
   "outputs": [
    {
     "name": "stdout",
     "output_type": "stream",
     "text": [
      "\u001b[34m\u001b[1mwandb\u001b[0m: Appending key for api.wandb.ai to your netrc file: /n/home07/adamaraju/.netrc\n"
     ]
    }
   ],
   "source": [
    "!wandb login \"d9387a82bf250d82223965b50544c06bfa6bf8bd\""
   ]
  },
  {
   "cell_type": "code",
   "execution_count": 44,
   "id": "a0f7f844-2005-4149-bc99-63dd6118d4e6",
   "metadata": {},
   "outputs": [
    {
     "name": "stderr",
     "output_type": "stream",
     "text": [
      "Failed to detect the name of this notebook, you can set it manually with the WANDB_NOTEBOOK_NAME environment variable to enable code saving.\n",
      "\u001b[34m\u001b[1mwandb\u001b[0m: Currently logged in as: \u001b[33maneeldamaraju\u001b[0m. Use \u001b[1m`wandb login --relogin`\u001b[0m to force relogin\n"
     ]
    },
    {
     "data": {
      "text/html": [
       "Tracking run with wandb version 0.15.4"
      ],
      "text/plain": [
       "<IPython.core.display.HTML object>"
      ]
     },
     "metadata": {},
     "output_type": "display_data"
    },
    {
     "data": {
      "text/html": [
       "Run data is saved locally in <code>/n/home07/adamaraju/fasrc/diffusers-t2i-adapter/wandb/run-20230621_165637-ucb66kwj</code>"
      ],
      "text/plain": [
       "<IPython.core.display.HTML object>"
      ]
     },
     "metadata": {},
     "output_type": "display_data"
    },
    {
     "data": {
      "text/html": [
       "Syncing run <strong><a href='https://wandb.ai/aneeldamaraju/my-awesome-project/runs/ucb66kwj' target=\"_blank\">lunar-pond-1</a></strong> to <a href='https://wandb.ai/aneeldamaraju/my-awesome-project' target=\"_blank\">Weights & Biases</a> (<a href='https://wandb.me/run' target=\"_blank\">docs</a>)<br/>"
      ],
      "text/plain": [
       "<IPython.core.display.HTML object>"
      ]
     },
     "metadata": {},
     "output_type": "display_data"
    },
    {
     "data": {
      "text/html": [
       " View project at <a href='https://wandb.ai/aneeldamaraju/my-awesome-project' target=\"_blank\">https://wandb.ai/aneeldamaraju/my-awesome-project</a>"
      ],
      "text/plain": [
       "<IPython.core.display.HTML object>"
      ]
     },
     "metadata": {},
     "output_type": "display_data"
    },
    {
     "data": {
      "text/html": [
       " View run at <a href='https://wandb.ai/aneeldamaraju/my-awesome-project/runs/ucb66kwj' target=\"_blank\">https://wandb.ai/aneeldamaraju/my-awesome-project/runs/ucb66kwj</a>"
      ],
      "text/plain": [
       "<IPython.core.display.HTML object>"
      ]
     },
     "metadata": {},
     "output_type": "display_data"
    },
    {
     "data": {
      "text/html": [
       "Waiting for W&B process to finish... <strong style=\"color:green\">(success).</strong>"
      ],
      "text/plain": [
       "<IPython.core.display.HTML object>"
      ]
     },
     "metadata": {},
     "output_type": "display_data"
    },
    {
     "data": {
      "text/html": [
       "<style>\n",
       "    table.wandb td:nth-child(1) { padding: 0 10px; text-align: left ; width: auto;} td:nth-child(2) {text-align: left ; width: 100%}\n",
       "    .wandb-row { display: flex; flex-direction: row; flex-wrap: wrap; justify-content: flex-start; width: 100% }\n",
       "    .wandb-col { display: flex; flex-direction: column; flex-basis: 100%; flex: 1; padding: 10px; }\n",
       "    </style>\n",
       "<div class=\"wandb-row\"><div class=\"wandb-col\"><h3>Run history:</h3><br/><table class=\"wandb\"><tr><td>acc</td><td>▁▄█████▇</td></tr><tr><td>loss</td><td>█▃▂▂▁▁▁▂</td></tr></table><br/></div><div class=\"wandb-col\"><h3>Run summary:</h3><br/><table class=\"wandb\"><tr><td>acc</td><td>0.77963</td></tr><tr><td>loss</td><td>0.21944</td></tr></table><br/></div></div>"
      ],
      "text/plain": [
       "<IPython.core.display.HTML object>"
      ]
     },
     "metadata": {},
     "output_type": "display_data"
    },
    {
     "data": {
      "text/html": [
       " View run <strong style=\"color:#cdcd00\">lunar-pond-1</strong> at: <a href='https://wandb.ai/aneeldamaraju/my-awesome-project/runs/ucb66kwj' target=\"_blank\">https://wandb.ai/aneeldamaraju/my-awesome-project/runs/ucb66kwj</a><br/>Synced 5 W&B file(s), 0 media file(s), 0 artifact file(s) and 0 other file(s)"
      ],
      "text/plain": [
       "<IPython.core.display.HTML object>"
      ]
     },
     "metadata": {},
     "output_type": "display_data"
    },
    {
     "data": {
      "text/html": [
       "Find logs at: <code>./wandb/run-20230621_165637-ucb66kwj/logs</code>"
      ],
      "text/plain": [
       "<IPython.core.display.HTML object>"
      ]
     },
     "metadata": {},
     "output_type": "display_data"
    }
   ],
   "source": [
    "import wandb\n",
    "import random\n",
    "\n",
    "# start a new wandb run to track this script\n",
    "wandb.init(\n",
    "    # set the wandb project where this run will be logged\n",
    "    project=\"my-awesome-project\",\n",
    "    \n",
    "    # track hyperparameters and run metadata\n",
    "    config={\n",
    "    \"learning_rate\": 0.02,\n",
    "    \"architecture\": \"CNN\",\n",
    "    \"dataset\": \"CIFAR-100\",\n",
    "    \"epochs\": 10,\n",
    "    }\n",
    ")\n",
    "\n",
    "# simulate training\n",
    "epochs = 10\n",
    "offset = random.random() / 5\n",
    "for epoch in range(2, epochs):\n",
    "    acc = 1 - 2 ** -epoch - random.random() / epoch - offset\n",
    "    loss = 2 ** -epoch + random.random() / epoch + offset\n",
    "    \n",
    "    # log metrics to wandb\n",
    "    wandb.log({\"acc\": acc, \"loss\": loss})\n",
    "    \n",
    "# [optional] finish the wandb run, necessary in notebooks\n",
    "wandb.finish()"
   ]
  },
  {
   "cell_type": "code",
   "execution_count": 69,
   "id": "851c6452-de2f-42c7-801e-8349139dd1a7",
   "metadata": {},
   "outputs": [],
   "source": [
    "from pathlib import Path\n",
    "args.output_dir = \"test_logs/test_out\"\n",
    "args.logging_dir = \"test_logs/test_logs\"\n",
    "\n",
    "args.gradient_accumulation_steps=1\n",
    "args.mixed_precision = None\n",
    "args.report_to = \"wandb\"\n",
    "args.push_to_hub = False"
   ]
  },
  {
   "cell_type": "code",
   "execution_count": 50,
   "id": "0cd8910f-f98b-4252-892d-2ecb21ab0efa",
   "metadata": {},
   "outputs": [],
   "source": [
    "logging_dir = Path(args.output_dir, args.logging_dir)\n",
    "accelerator_project_config = ProjectConfiguration(project_dir=args.output_dir, logging_dir=logging_dir)\n",
    "\n"
   ]
  },
  {
   "cell_type": "code",
   "execution_count": 53,
   "id": "e6d809df-5e7c-4c8d-b6af-b0da931b4bb5",
   "metadata": {},
   "outputs": [],
   "source": [
    "accelerator = Accelerator(\n",
    "    gradient_accumulation_steps=args.gradient_accumulation_steps,\n",
    "    mixed_precision=args.mixed_precision,\n",
    "    log_with=args.report_to,\n",
    "    project_config=accelerator_project_config,\n",
    ")"
   ]
  },
  {
   "cell_type": "code",
   "execution_count": 66,
   "id": "678e0aee-35e5-4d1a-aa8e-37a53e11454a",
   "metadata": {},
   "outputs": [],
   "source": [
    "import logging\n",
    "import os"
   ]
  },
  {
   "cell_type": "code",
   "execution_count": 58,
   "id": "b12836ee-2a48-4cb5-bd6b-cbe28f3387b9",
   "metadata": {},
   "outputs": [],
   "source": [
    "logging.basicConfig(\n",
    "    format=\"%(asctime)s - %(levelname)s - %(name)s - %(message)s\",\n",
    "    datefmt=\"%m/%d/%Y %H:%M:%S\",\n",
    "    level=logging.INFO,\n",
    ")"
   ]
  },
  {
   "cell_type": "code",
   "execution_count": 60,
   "id": "163a16b4-4301-4311-a2de-8c3916de2026",
   "metadata": {},
   "outputs": [
    {
     "name": "stderr",
     "output_type": "stream",
     "text": [
      "06/21/2023 17:10:36 - INFO - __main__ - Distributed environment: NO\n",
      "Num processes: 1\n",
      "Process index: 0\n",
      "Local process index: 0\n",
      "Device: cuda\n",
      "\n",
      "Mixed precision type: no\n",
      "\n"
     ]
    }
   ],
   "source": [
    "logger = get_logger(__name__)\n",
    "logger.info(accelerator.state, main_process_only=False)"
   ]
  },
  {
   "cell_type": "code",
   "execution_count": 70,
   "id": "f5678465-8af6-4f05-a2b0-cdee735c13d7",
   "metadata": {},
   "outputs": [],
   "source": [
    "if accelerator.is_local_main_process:\n",
    "    transformers.utils.logging.set_verbosity_warning()\n",
    "    diffusers.utils.logging.set_verbosity_info()\n",
    "else:\n",
    "    transformers.utils.logging.set_verbosity_error()\n",
    "    diffusers.utils.logging.set_verbosity_error()\n",
    "    \n",
    "if accelerator.is_main_process:\n",
    "    if args.output_dir is not None:\n",
    "        os.makedirs(args.output_dir, exist_ok=True)\n",
    "\n",
    "    if args.push_to_hub:\n",
    "        repo_id = create_repo(\n",
    "            repo_id=args.hub_model_id or Path(args.output_dir).name, exist_ok=True, token=args.hub_token\n",
    "        ).repo_id"
   ]
  },
  {
   "cell_type": "code",
   "execution_count": 81,
   "id": "92ac6bb1-72b6-4606-9267-35bf6ef8a787",
   "metadata": {},
   "outputs": [],
   "source": [
    "adapter = accelerator.unwrap_model(adapter)\n",
    "adapter, optimizer, train_dataloader, lr_scheduler = accelerator.prepare(\n",
    "    adapter, optimizer, train_dataloader, lr_scheduler\n",
    ")"
   ]
  },
  {
   "cell_type": "code",
   "execution_count": 82,
   "id": "4e324056-4fbe-4d81-8ca4-49133210fa41",
   "metadata": {},
   "outputs": [],
   "source": [
    "if accelerator.is_main_process:\n",
    "    tracker_config = dict(vars(args))\n",
    "\n",
    "    # tensorboard cannot handle list types for config\n",
    "    tracker_config.pop(\"validation_prompt\")\n",
    "    tracker_config.pop(\"validation_image\")\n",
    "\n",
    "    accelerator.init_trackers(args.tracker_project_name, config=tracker_config)"
   ]
  },
  {
   "cell_type": "code",
   "execution_count": 83,
   "id": "db1274dc-459b-4010-aa15-3fd1b665f749",
   "metadata": {},
   "outputs": [],
   "source": [
    "args.tracker_project_name = \"training_t2i\""
   ]
  },
  {
   "cell_type": "code",
   "execution_count": 84,
   "id": "c0edb02b-19ad-4f39-97b0-5f50af3d3609",
   "metadata": {},
   "outputs": [
    {
     "data": {
      "text/plain": [
       "[]"
      ]
     },
     "execution_count": 84,
     "metadata": {},
     "output_type": "execute_result"
    }
   ],
   "source": [
    "accelerator.trackers"
   ]
  },
  {
   "cell_type": "code",
   "execution_count": 80,
   "id": "55cff375-ec02-4f83-b5ab-5c12ae38a905",
   "metadata": {},
   "outputs": [
    {
     "data": {
      "text/plain": [
       "{'dataset_name': 'fusing/fill50k',\n",
       " 'train_data_dir': None,\n",
       " 'dataset_config_name': None,\n",
       " 'cache_dir': None,\n",
       " 'image_column': 'image',\n",
       " 'caption_column': 'text',\n",
       " 'conditioning_image_column': 'conditioning_image',\n",
       " 'resolution': 512,\n",
       " 'max_train_samples': 1000,\n",
       " 'seed': None,\n",
       " 'train_batch_size': 4,\n",
       " 'dataloader_num_workers': 0,\n",
       " 'num_train_epochs': 10,\n",
       " 'max_train_steps': 1000,\n",
       " 'gradient_accumulation_steps': 1,\n",
       " 'do_classifier_free_guidance': False,\n",
       " 'validation_steps': 1,\n",
       " 'set_grads_to_none': False,\n",
       " 'lr_scheduler': 'constant',\n",
       " 'lr_num_cycles': 1,\n",
       " 'lr_power': 1,\n",
       " 'lr_warmup_steps': 10,\n",
       " 'adapter_conditioning_scale': 1.0,\n",
       " 'num_images_per_prompt': 1,\n",
       " 'num_validation_images': 2,\n",
       " 'output_dir': 'test_logs/test_out',\n",
       " 'logging_dir': 'test_logs/test_logs',\n",
       " 'mixed_precision': None,\n",
       " 'report_to': 'wandb',\n",
       " 'push_to_hun': False,\n",
       " 'push_to_hub': False,\n",
       " 'tracker_project_name': 'training_t2i'}"
      ]
     },
     "execution_count": 80,
     "metadata": {},
     "output_type": "execute_result"
    }
   ],
   "source": [
    "tracker_config"
   ]
  },
  {
   "cell_type": "code",
   "execution_count": null,
   "id": "03d7ed5a-0b8b-44c4-81bd-8e4d714d4e50",
   "metadata": {},
   "outputs": [],
   "source": []
  }
 ],
 "metadata": {
  "kernelspec": {
   "display_name": "Python 3",
   "language": "python",
   "name": "python3"
  },
  "language_info": {
   "codemirror_mode": {
    "name": "ipython",
    "version": 3
   },
   "file_extension": ".py",
   "mimetype": "text/x-python",
   "name": "python",
   "nbconvert_exporter": "python",
   "pygments_lexer": "ipython3",
   "version": "3.8.8"
  }
 },
 "nbformat": 4,
 "nbformat_minor": 5
}
