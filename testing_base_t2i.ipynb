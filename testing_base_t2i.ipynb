{
 "cells": [
  {
   "cell_type": "code",
   "execution_count": 1,
   "id": "42e5375d-89a6-44f3-83fd-f420ce73c963",
   "metadata": {},
   "outputs": [
    {
     "name": "stderr",
     "output_type": "stream",
     "text": [
      "`text_config_dict` is provided which will be used to initialize `CLIPTextConfig`. The value `text_config[\"id2label\"]` will be overriden.\n"
     ]
    }
   ],
   "source": [
    "import torch\n",
    "from typing import *\n",
    "from diffusers.utils import load_image\n",
    "from diffusers import StableDiffusionAdapterPipeline, T2IAdapter\n",
    "\n",
    "model_name = \"runwayml/stable-diffusion-v1-5\"\n",
    "pipe = StableDiffusionAdapterPipeline.from_pretrained(model_name, torch_dtype=torch.float32).to('cuda')\n",
    "\n",
    "adapter_ckpt = \"./models/t2iadapter_seg_sd14v1.pth\"\n",
    "pipe.adapter = T2IAdapter(channels_in=int(3), \n",
    "                       block_out_channels=[320, 640, 1280, 1280][:4], \n",
    "                       num_res_blocks=2, \n",
    "                       kernel_size=1, \n",
    "                       res_block_skip=True, \n",
    "                       use_conv=False)\n",
    "pipe.adapter.load_state_dict(torch.load(adapter_ckpt))\n",
    "pipe.adapter = pipe.adapter.to('cuda')"
   ]
  },
  {
   "cell_type": "code",
   "execution_count": 2,
   "id": "17f31edf-449c-4503-8231-8b5e4d7152c7",
   "metadata": {},
   "outputs": [
    {
     "data": {
      "text/html": [
       "<pre style=\"white-space:pre;overflow-x:auto;line-height:normal;font-family:Menlo,'DejaVu Sans Mono',consolas,'Courier New',monospace\"><span style=\"color: #800000; text-decoration-color: #800000\">╭─────────────────────────────── </span><span style=\"color: #800000; text-decoration-color: #800000; font-weight: bold\">Traceback </span><span style=\"color: #bf7f7f; text-decoration-color: #bf7f7f; font-weight: bold\">(most recent call last)</span><span style=\"color: #800000; text-decoration-color: #800000\"> ────────────────────────────────╮</span>\n",
       "<span style=\"color: #800000; text-decoration-color: #800000\">│</span> in <span style=\"color: #00ff00; text-decoration-color: #00ff00\">&lt;module&gt;</span>:<span style=\"color: #0000ff; text-decoration-color: #0000ff\">16</span>                                                                                   <span style=\"color: #800000; text-decoration-color: #800000\">│</span>\n",
       "<span style=\"color: #800000; text-decoration-color: #800000\">│</span>                                                                                                  <span style=\"color: #800000; text-decoration-color: #800000\">│</span>\n",
       "<span style=\"color: #800000; text-decoration-color: #800000\">│</span> <span style=\"color: #bfbf7f; text-decoration-color: #bfbf7f\">/n/home07/adamaraju/.local/lib/python3.8/site-packages/diffusers/utils/</span><span style=\"color: #808000; text-decoration-color: #808000; font-weight: bold\">testing_utils.py</span>:<span style=\"color: #0000ff; text-decoration-color: #0000ff\">268</span> in   <span style=\"color: #800000; text-decoration-color: #800000\">│</span>\n",
       "<span style=\"color: #800000; text-decoration-color: #800000\">│</span> <span style=\"color: #00ff00; text-decoration-color: #00ff00\">load_image</span>                                                                                       <span style=\"color: #800000; text-decoration-color: #800000\">│</span>\n",
       "<span style=\"color: #800000; text-decoration-color: #800000\">│</span>                                                                                                  <span style=\"color: #800000; text-decoration-color: #800000\">│</span>\n",
       "<span style=\"color: #800000; text-decoration-color: #800000\">│</span>   <span style=\"color: #7f7f7f; text-decoration-color: #7f7f7f\">265 </span><span style=\"color: #7f7f7f; text-decoration-color: #7f7f7f\">│   │   </span><span style=\"color: #0000ff; text-decoration-color: #0000ff\">elif</span> os.path.isfile(image):                                                        <span style=\"color: #800000; text-decoration-color: #800000\">│</span>\n",
       "<span style=\"color: #800000; text-decoration-color: #800000\">│</span>   <span style=\"color: #7f7f7f; text-decoration-color: #7f7f7f\">266 </span><span style=\"color: #7f7f7f; text-decoration-color: #7f7f7f\">│   │   │   </span>image = PIL.Image.open(image)                                                  <span style=\"color: #800000; text-decoration-color: #800000\">│</span>\n",
       "<span style=\"color: #800000; text-decoration-color: #800000\">│</span>   <span style=\"color: #7f7f7f; text-decoration-color: #7f7f7f\">267 </span><span style=\"color: #7f7f7f; text-decoration-color: #7f7f7f\">│   │   </span><span style=\"color: #0000ff; text-decoration-color: #0000ff\">else</span>:                                                                              <span style=\"color: #800000; text-decoration-color: #800000\">│</span>\n",
       "<span style=\"color: #800000; text-decoration-color: #800000\">│</span> <span style=\"color: #800000; text-decoration-color: #800000\">❱ </span>268 <span style=\"color: #7f7f7f; text-decoration-color: #7f7f7f\">│   │   │   </span><span style=\"color: #0000ff; text-decoration-color: #0000ff\">raise</span> <span style=\"color: #00ffff; text-decoration-color: #00ffff\">ValueError</span>(                                                              <span style=\"color: #800000; text-decoration-color: #800000\">│</span>\n",
       "<span style=\"color: #800000; text-decoration-color: #800000\">│</span>   <span style=\"color: #7f7f7f; text-decoration-color: #7f7f7f\">269 </span><span style=\"color: #7f7f7f; text-decoration-color: #7f7f7f\">│   │   │   │   </span><span style=\"color: #808000; text-decoration-color: #808000\">f\"Incorrect path or url, URLs must start with `http://` or `https://`, a</span>   <span style=\"color: #800000; text-decoration-color: #800000\">│</span>\n",
       "<span style=\"color: #800000; text-decoration-color: #800000\">│</span>   <span style=\"color: #7f7f7f; text-decoration-color: #7f7f7f\">270 </span><span style=\"color: #7f7f7f; text-decoration-color: #7f7f7f\">│   │   │   </span>)                                                                              <span style=\"color: #800000; text-decoration-color: #800000\">│</span>\n",
       "<span style=\"color: #800000; text-decoration-color: #800000\">│</span>   <span style=\"color: #7f7f7f; text-decoration-color: #7f7f7f\">271 </span><span style=\"color: #7f7f7f; text-decoration-color: #7f7f7f\">│   </span><span style=\"color: #0000ff; text-decoration-color: #0000ff\">elif</span> <span style=\"color: #00ffff; text-decoration-color: #00ffff\">isinstance</span>(image, PIL.Image.Image):                                               <span style=\"color: #800000; text-decoration-color: #800000\">│</span>\n",
       "<span style=\"color: #800000; text-decoration-color: #800000\">╰──────────────────────────────────────────────────────────────────────────────────────────────────╯</span>\n",
       "<span style=\"color: #ff0000; text-decoration-color: #ff0000; font-weight: bold\">ValueError: </span>Incorrect path or url, URLs must start with `<span style=\"color: #0000ff; text-decoration-color: #0000ff; text-decoration: underline\">http://`</span> or `<span style=\"color: #0000ff; text-decoration-color: #0000ff; text-decoration: underline\">https://`,</span> and \n",
       ".<span style=\"color: #800080; text-decoration-color: #800080\">/diffusers-t2i-adapter/</span><span style=\"color: #ff00ff; text-decoration-color: #ff00ff\">motor.png</span> is not a valid path\n",
       "</pre>\n"
      ],
      "text/plain": [
       "\u001b[31m╭─\u001b[0m\u001b[31m──────────────────────────────\u001b[0m\u001b[31m \u001b[0m\u001b[1;31mTraceback \u001b[0m\u001b[1;2;31m(most recent call last)\u001b[0m\u001b[31m \u001b[0m\u001b[31m───────────────────────────────\u001b[0m\u001b[31m─╮\u001b[0m\n",
       "\u001b[31m│\u001b[0m in \u001b[92m<module>\u001b[0m:\u001b[94m16\u001b[0m                                                                                   \u001b[31m│\u001b[0m\n",
       "\u001b[31m│\u001b[0m                                                                                                  \u001b[31m│\u001b[0m\n",
       "\u001b[31m│\u001b[0m \u001b[2;33m/n/home07/adamaraju/.local/lib/python3.8/site-packages/diffusers/utils/\u001b[0m\u001b[1;33mtesting_utils.py\u001b[0m:\u001b[94m268\u001b[0m in   \u001b[31m│\u001b[0m\n",
       "\u001b[31m│\u001b[0m \u001b[92mload_image\u001b[0m                                                                                       \u001b[31m│\u001b[0m\n",
       "\u001b[31m│\u001b[0m                                                                                                  \u001b[31m│\u001b[0m\n",
       "\u001b[31m│\u001b[0m   \u001b[2m265 \u001b[0m\u001b[2m│   │   \u001b[0m\u001b[94melif\u001b[0m os.path.isfile(image):                                                        \u001b[31m│\u001b[0m\n",
       "\u001b[31m│\u001b[0m   \u001b[2m266 \u001b[0m\u001b[2m│   │   │   \u001b[0mimage = PIL.Image.open(image)                                                  \u001b[31m│\u001b[0m\n",
       "\u001b[31m│\u001b[0m   \u001b[2m267 \u001b[0m\u001b[2m│   │   \u001b[0m\u001b[94melse\u001b[0m:                                                                              \u001b[31m│\u001b[0m\n",
       "\u001b[31m│\u001b[0m \u001b[31m❱ \u001b[0m268 \u001b[2m│   │   │   \u001b[0m\u001b[94mraise\u001b[0m \u001b[96mValueError\u001b[0m(                                                              \u001b[31m│\u001b[0m\n",
       "\u001b[31m│\u001b[0m   \u001b[2m269 \u001b[0m\u001b[2m│   │   │   │   \u001b[0m\u001b[33mf\u001b[0m\u001b[33m\"\u001b[0m\u001b[33mIncorrect path or url, URLs must start with `http://` or `https://`, a\u001b[0m   \u001b[31m│\u001b[0m\n",
       "\u001b[31m│\u001b[0m   \u001b[2m270 \u001b[0m\u001b[2m│   │   │   \u001b[0m)                                                                              \u001b[31m│\u001b[0m\n",
       "\u001b[31m│\u001b[0m   \u001b[2m271 \u001b[0m\u001b[2m│   \u001b[0m\u001b[94melif\u001b[0m \u001b[96misinstance\u001b[0m(image, PIL.Image.Image):                                               \u001b[31m│\u001b[0m\n",
       "\u001b[31m╰──────────────────────────────────────────────────────────────────────────────────────────────────╯\u001b[0m\n",
       "\u001b[1;91mValueError: \u001b[0mIncorrect path or url, URLs must start with `\u001b[4;94mhttp://`\u001b[0m or `\u001b[4;94mhttps://`,\u001b[0m and \n",
       ".\u001b[35m/diffusers-t2i-adapter/\u001b[0m\u001b[95mmotor.png\u001b[0m is not a valid path\n"
      ]
     },
     "metadata": {},
     "output_type": "display_data"
    }
   ],
   "source": [
    "@torch.no_grad()\n",
    "def get_color_masks(image: torch.Tensor) -> Dict[Tuple[int], torch.Tensor]:\n",
    "    h, w, c = image.shape\n",
    "    assert c == 3\n",
    "    \n",
    "    img_2d = image.view((-1, 3))\n",
    "    colors, freqs = torch.unique(img_2d, return_counts=True, dim=0)\n",
    "    colors = colors[freqs >= h]\n",
    "    color2mask = {}\n",
    "    for color in colors:\n",
    "        mask = (image == color).float().max(dim=-1).values\n",
    "        color = color.cpu().numpy().tolist()\n",
    "        color2mask[tuple(color)] = mask\n",
    "    return color2mask\n",
    "    \n",
    "mask = load_image(\"./diffusers-t2i-adapter/motor.png\")\n",
    "\n",
    "prompt = [\"A black Honda motorcycle parked in front of a garage\"]\n",
    "\n",
    "image = pipe(prompt, [mask, mask]).images[0]\n",
    "image.save('test.jpg')"
   ]
  },
  {
   "cell_type": "code",
   "execution_count": 26,
   "id": "15c0a1a5-dbd5-41e2-a637-277f64691174",
   "metadata": {},
   "outputs": [
    {
     "data": {
      "text/plain": [
       "odict_keys(['body.0.block1.weight', 'body.0.block1.bias', 'body.0.block2.weight', 'body.0.block2.bias', 'body.1.block1.weight', 'body.1.block1.bias', 'body.1.block2.weight', 'body.1.block2.bias', 'body.2.conv1.weight', 'body.2.conv1.bias', 'body.2.block1.weight', 'body.2.block1.bias', 'body.2.block2.weight', 'body.2.block2.bias', 'body.3.block1.weight', 'body.3.block1.bias', 'body.3.block2.weight', 'body.3.block2.bias', 'body.4.conv1.weight', 'body.4.conv1.bias', 'body.4.block1.weight', 'body.4.block1.bias', 'body.4.block2.weight', 'body.4.block2.bias', 'body.5.block1.weight', 'body.5.block1.bias', 'body.5.block2.weight', 'body.5.block2.bias', 'body.6.block1.weight', 'body.6.block1.bias', 'body.6.block2.weight', 'body.6.block2.bias', 'body.7.block1.weight', 'body.7.block1.bias', 'body.7.block2.weight', 'body.7.block2.bias', 'conv_in.weight', 'conv_in.bias'])"
      ]
     },
     "execution_count": 26,
     "metadata": {},
     "output_type": "execute_result"
    }
   ],
   "source": [
    "pipe.adapter.state_dict().keys()"
   ]
  },
  {
   "cell_type": "code",
   "execution_count": 18,
   "id": "b8d47545-46c5-40c1-ba2c-f546e13b4365",
   "metadata": {},
   "outputs": [
    {
     "data": {
      "text/plain": [
       "dict_keys(['body.0.block1.weight', 'body.0.block1.bias', 'body.0.block2.weight', 'body.0.block2.bias', 'body.1.block1.weight', 'body.1.block1.bias', 'body.1.block2.weight', 'body.1.block2.bias', 'body.2.in_conv.weight', 'body.2.in_conv.bias', 'body.2.block1.weight', 'body.2.block1.bias', 'body.2.block2.weight', 'body.2.block2.bias', 'body.3.block1.weight', 'body.3.block1.bias', 'body.3.block2.weight', 'body.3.block2.bias', 'body.4.in_conv.weight', 'body.4.in_conv.bias', 'body.4.block1.weight', 'body.4.block1.bias', 'body.4.block2.weight', 'body.4.block2.bias', 'body.5.block1.weight', 'body.5.block1.bias', 'body.5.block2.weight', 'body.5.block2.bias', 'body.6.block1.weight', 'body.6.block1.bias', 'body.6.block2.weight', 'body.6.block2.bias', 'body.7.block1.weight', 'body.7.block1.bias', 'body.7.block2.weight', 'body.7.block2.bias', 'conv_in.weight', 'conv_in.bias'])"
      ]
     },
     "execution_count": 18,
     "metadata": {},
     "output_type": "execute_result"
    }
   ],
   "source": [
    "torch.load(adapter_ckpt).keys()"
   ]
  },
  {
   "cell_type": "code",
   "execution_count": 27,
   "id": "427e833e-202c-4583-9151-163e821009fa",
   "metadata": {},
   "outputs": [
    {
     "name": "stdout",
     "output_type": "stream",
     "text": [
      "Defaulting to user installation because normal site-packages is not writeable\n",
      "Processing /n/home07/adamaraju/fasrc/diffusers-t2i-adapter\n",
      "  Installing build dependencies ... \u001b[?25ldone\n",
      "\u001b[?25h  Getting requirements to build wheel ... \u001b[?25ldone\n",
      "\u001b[?25h    Preparing wheel metadata ... \u001b[?25ldone\n",
      "\u001b[?25hRequirement already satisfied: huggingface-hub>=0.13.2 in /n/home07/adamaraju/.local/lib/python3.8/site-packages (from diffusers==0.16.0.dev0) (0.15.1)\n",
      "Requirement already satisfied: regex!=2019.12.17 in /n/sw/helmod/apps/centos7/Core/Anaconda3/2021.05-jupyterood-fasrc01/x/lib/python3.8/site-packages (from diffusers==0.16.0.dev0) (2021.4.4)\n",
      "Requirement already satisfied: requests in /n/sw/helmod/apps/centos7/Core/Anaconda3/2021.05-jupyterood-fasrc01/x/lib/python3.8/site-packages (from diffusers==0.16.0.dev0) (2.25.1)\n",
      "Requirement already satisfied: importlib-metadata in /n/home07/adamaraju/.local/lib/python3.8/site-packages (from diffusers==0.16.0.dev0) (5.0.0)\n",
      "Requirement already satisfied: Pillow in /n/sw/helmod/apps/centos7/Core/Anaconda3/2021.05-jupyterood-fasrc01/x/lib/python3.8/site-packages (from diffusers==0.16.0.dev0) (8.2.0)\n",
      "Requirement already satisfied: numpy in /n/sw/helmod/apps/centos7/Core/Anaconda3/2021.05-jupyterood-fasrc01/x/lib/python3.8/site-packages (from diffusers==0.16.0.dev0) (1.20.1)\n",
      "Requirement already satisfied: filelock in /n/sw/helmod/apps/centos7/Core/Anaconda3/2021.05-jupyterood-fasrc01/x/lib/python3.8/site-packages (from diffusers==0.16.0.dev0) (3.0.12)\n",
      "Requirement already satisfied: typing-extensions>=3.7.4.3 in /n/home07/adamaraju/.local/lib/python3.8/site-packages (from huggingface-hub>=0.13.2->diffusers==0.16.0.dev0) (4.5.0)\n",
      "Requirement already satisfied: fsspec in /n/home07/adamaraju/.local/lib/python3.8/site-packages (from huggingface-hub>=0.13.2->diffusers==0.16.0.dev0) (2023.5.0)\n",
      "Requirement already satisfied: packaging>=20.9 in /n/sw/helmod/apps/centos7/Core/Anaconda3/2021.05-jupyterood-fasrc01/x/lib/python3.8/site-packages (from huggingface-hub>=0.13.2->diffusers==0.16.0.dev0) (20.9)\n",
      "Requirement already satisfied: tqdm>=4.42.1 in /n/home07/adamaraju/.local/lib/python3.8/site-packages (from huggingface-hub>=0.13.2->diffusers==0.16.0.dev0) (4.65.0)\n",
      "Requirement already satisfied: pyyaml>=5.1 in /n/sw/helmod/apps/centos7/Core/Anaconda3/2021.05-jupyterood-fasrc01/x/lib/python3.8/site-packages (from huggingface-hub>=0.13.2->diffusers==0.16.0.dev0) (5.4.1)\n",
      "Requirement already satisfied: pyparsing>=2.0.2 in /n/sw/helmod/apps/centos7/Core/Anaconda3/2021.05-jupyterood-fasrc01/x/lib/python3.8/site-packages (from packaging>=20.9->huggingface-hub>=0.13.2->diffusers==0.16.0.dev0) (2.4.7)\n",
      "Requirement already satisfied: zipp>=0.5 in /n/sw/helmod/apps/centos7/Core/Anaconda3/2021.05-jupyterood-fasrc01/x/lib/python3.8/site-packages (from importlib-metadata->diffusers==0.16.0.dev0) (3.4.1)\n",
      "Requirement already satisfied: urllib3<1.27,>=1.21.1 in /n/sw/helmod/apps/centos7/Core/Anaconda3/2021.05-jupyterood-fasrc01/x/lib/python3.8/site-packages (from requests->diffusers==0.16.0.dev0) (1.26.4)\n",
      "Requirement already satisfied: certifi>=2017.4.17 in /n/sw/helmod/apps/centos7/Core/Anaconda3/2021.05-jupyterood-fasrc01/x/lib/python3.8/site-packages (from requests->diffusers==0.16.0.dev0) (2020.12.5)\n",
      "Requirement already satisfied: idna<3,>=2.5 in /n/sw/helmod/apps/centos7/Core/Anaconda3/2021.05-jupyterood-fasrc01/x/lib/python3.8/site-packages (from requests->diffusers==0.16.0.dev0) (2.10)\n",
      "Requirement already satisfied: chardet<5,>=3.0.2 in /n/sw/helmod/apps/centos7/Core/Anaconda3/2021.05-jupyterood-fasrc01/x/lib/python3.8/site-packages (from requests->diffusers==0.16.0.dev0) (4.0.0)\n",
      "Building wheels for collected packages: diffusers\n",
      "  Building wheel for diffusers (PEP 517) ... \u001b[?25ldone\n",
      "\u001b[?25h  Created wheel for diffusers: filename=diffusers-0.16.0.dev0-py3-none-any.whl size=877380 sha256=d788a3470d51ba6b3ed65cda3f1195ec3a9cdb4ab531597c5722e55083c06a44\n",
      "  Stored in directory: /n/home07/adamaraju/.cache/pip/wheels/3c/8b/ec/3a7ad4250255f19881dec9cb1fb244751e1c61a1c20f76a2d9\n",
      "Successfully built diffusers\n",
      "Installing collected packages: diffusers\n",
      "  Attempting uninstall: diffusers\n",
      "    Found existing installation: diffusers 0.16.0.dev0\n",
      "    Uninstalling diffusers-0.16.0.dev0:\n",
      "      Successfully uninstalled diffusers-0.16.0.dev0\n",
      "Successfully installed diffusers-0.16.0.dev0\n"
     ]
    }
   ],
   "source": [
    "!pip install ."
   ]
  },
  {
   "cell_type": "code",
   "execution_count": null,
   "id": "c85b9f55-4940-4434-98dc-babada91cc68",
   "metadata": {},
   "outputs": [],
   "source": []
  }
 ],
 "metadata": {
  "kernelspec": {
   "display_name": "Python 3",
   "language": "python",
   "name": "python3"
  },
  "language_info": {
   "codemirror_mode": {
    "name": "ipython",
    "version": 3
   },
   "file_extension": ".py",
   "mimetype": "text/x-python",
   "name": "python",
   "nbconvert_exporter": "python",
   "pygments_lexer": "ipython3",
   "version": "3.8.8"
  }
 },
 "nbformat": 4,
 "nbformat_minor": 5
}
