{
 "cells": [
  {
   "cell_type": "code",
   "execution_count": 1,
   "id": "81d700a6-ea19-43f1-a91c-694df2a791ba",
   "metadata": {},
   "outputs": [
    {
     "name": "stderr",
     "output_type": "stream",
     "text": [
      "/n/home07/adamaraju/.local/lib/python3.8/site-packages/torchvision/io/image.py:13: UserWarning: Failed to load image Python extension: libtorch_cuda_cu.so: cannot open shared object file: No such file or directory\n",
      "  warn(f\"Failed to load image Python extension: {e}\")\n"
     ]
    }
   ],
   "source": [
    "from transformers import CLIPFeatureExtractor, CLIPTextModel, CLIPTokenizer\n",
    "\n",
    "from diffusers import (\n",
    "    AutoencoderKL,\n",
    "    T2IAdapter,\n",
    "    MultiAdapter,\n",
    "    StableDiffusionAdapterPipeline,\n",
    "    DDPMScheduler\n",
    ")\n",
    "\n",
    "import torch\n",
    "from torchvision import transforms"
   ]
  },
  {
   "cell_type": "code",
   "execution_count": 2,
   "id": "ce4020bf-7bbf-418c-af38-1dd644e3c6cf",
   "metadata": {},
   "outputs": [
    {
     "data": {
      "text/plain": [
       "(-0.5, 511.5, 511.5, -0.5)"
      ]
     },
     "execution_count": 2,
     "metadata": {},
     "output_type": "execute_result"
    },
    {
     "data": {
      "image/png": "[encoded data removed]",
      "text/plain": [
       "<Figure size 432x288 with 1 Axes>"
      ]
     },
     "metadata": {
      "needs_background": "light"
     },
     "output_type": "display_data"
    },
    {
     "data": {
      "image/png": "[encoded data removed]",
      "text/plain": [
       "<Figure size 432x288 with 3 Axes>"
      ]
     },
     "metadata": {},
     "output_type": "display_data"
    },
    {
     "data": {
      "image/png": "[encoded data removed]",
      "text/plain": [
       "<Figure size 432x288 with 1 Axes>"
      ]
     },
     "metadata": {
      "needs_background": "light"
     },
     "output_type": "display_data"
    }
   ],
   "source": [
    "#Generate some generic training data real quick\n",
    "\n",
    "\n",
    "import numpy as np \n",
    "import cv2\n",
    "import matplotlib.pyplot as plt\n",
    "\n",
    "def generate_triangle_sdf(H,W):\n",
    "    \n",
    "    \n",
    "    EPS = 1e-12\n",
    "    x_pos, y_pos = np.meshgrid(np.linspace(0, (H-1), H),np.linspace(0, (W-1), W))\n",
    "\n",
    "    thresh = int(.2*W)\n",
    "    len_thresh = thresh*2\n",
    "    img_np = np.zeros((H, W), dtype=np.uint8)\n",
    "    valid2 = False\n",
    "    valid3 = False\n",
    "    while valid2 == False or valid3 == False:\n",
    "        x_1 = int(np.random.uniform(thresh,H-thresh))\n",
    "        y_1 = int(np.random.uniform(thresh,W-thresh))\n",
    "\n",
    "        #Compute a second point for the triangle\n",
    "        x_2 = int(np.random.uniform(thresh,H-thresh))\n",
    "        y_2 = int(np.random.uniform(thresh,W-thresh))\n",
    "        idx = 0 \n",
    "        while np.linalg.norm(np.array([x_1,y_1]) - np.array([x_2,y_2])) < len_thresh:\n",
    "            if idx < 50:\n",
    "                x_2 = int(np.random.uniform(thresh,H-thresh))\n",
    "                y_2 = int(np.random.uniform(thresh,W-thresh))\n",
    "                valid2 = True\n",
    "            else:\n",
    "                valid2 = False\n",
    "                break\n",
    "\n",
    "        x_3 = int(np.random.uniform(thresh,H-thresh))\n",
    "        y_3 = int(np.random.uniform(thresh,W-thresh))\n",
    "        idx = 0\n",
    "        while (np.linalg.norm(np.array([x_1,y_1]) - np.array([x_3,y_3])) < len_thresh) or (np.linalg.norm(np.array([x_2,y_2]) - np.array([x_3,y_3])) < len_thresh):\n",
    "            idx = idx +1\n",
    "            if idx < 50:\n",
    "                x_3 = int(np.random.uniform(thresh,H-thresh))\n",
    "                y_3 = int(np.random.uniform(thresh,W-thresh)) \n",
    "                valid3 = True\n",
    "            else:\n",
    "                valid3 = False\n",
    "                break\n",
    "    \n",
    "    pts_inp = np.array([[x_1, y_1], [x_2, y_2], [x_3, y_3]])\n",
    "    \n",
    "    oop_normal = [0,0,1]\n",
    "    \n",
    "    n = np.cross([x_1-x_2,y_1-y_2,0], [x_3-x_2,y_3-y_2])\n",
    "    \n",
    "    if np.dot(n,oop_normal) < 0:\n",
    "        pts_inp = pts_inp[[0,2,1],:]\n",
    "        x_2,y_2 = pts_inp[1,:]\n",
    "        x_3,y_3 = pts_inp[2,:]\n",
    "        \n",
    "    normals = []\n",
    "    ix_12 = np.linspace(x_1,x_2,500)\n",
    "    m_12 = (y_2-y_1)/(x_2-x_1 + EPS)\n",
    "    iy_12 = y_2 + m_12*(ix_12 - x_2)\n",
    "    out_12 =  np.array([[x, y] for (x, y) in zip(ix_12, iy_12)])\n",
    "    norm_12 = [np.arctan2(y_2-y_1, x_2-x_1)+np.pi/2] * len(ix_12)\n",
    "    normals.extend(norm_12)\n",
    "    \n",
    "    ix_23 = np.linspace(x_2,x_3,500)\n",
    "    m_23 = (y_3-y_2)/(x_3-x_2 + EPS)\n",
    "    iy_23 = y_3 + m_23*(ix_23 - x_3)\n",
    "    out_23 =  np.array([[x, y] for (x, y) in zip(ix_23, iy_23)])\n",
    "    norm_23 = [np.arctan2(y_3-y_2, x_3-x_2)+np.pi/2] * len(ix_23)\n",
    "    normals.extend(norm_23)\n",
    "    \n",
    "    ix_31 = np.linspace(x_3,x_1,500)\n",
    "    m_31 = (y_1-y_3)/(x_1-x_3 + EPS)\n",
    "    iy_31 = y_1 + m_31*(ix_31 - x_1)\n",
    "    out_31 =  np.array([[x, y] for (x, y) in zip(ix_31, iy_31)])\n",
    "    norm_31 = [np.arctan2(y_1-y_3, x_1-x_3)+np.pi/2] * len(ix_31)\n",
    "    normals.extend(norm_31)\n",
    "    \n",
    "    #Combine all 3 ouputs\n",
    "    out_pts = np.concatenate([out_12,out_23,out_31],axis=0)\n",
    "    out_pts = out_pts.reshape((1, -1, 2))\n",
    "\n",
    "    \n",
    "    pts = pts_inp.reshape((1,-1,2))\n",
    "    cv2.fillPoly(img_np, pts, color=255, lineType=cv2.LINE_AA)\n",
    "    img = img_np.reshape(img_np.shape[0],img_np.shape[1],1)\n",
    "    img = np.asarray(img/255.0,dtype=np.float32)\n",
    "    img = np.asarray(img>.5,dtype=np.float32)\n",
    "    normals = np.asarray(normals)\n",
    "    \n",
    "    return img, out_pts, normals\n",
    "\n",
    "H=W=512\n",
    "\n",
    "img,out_pts,normals = generate_triangle_sdf(H,W)\n",
    "img = 1- img\n",
    "first_img = (np.repeat(img,3,-1)* 255).astype(np.uint8)\n",
    "plt.imshow(first_img)\n",
    "\n",
    "mask_img,_,_ = generate_triangle_sdf(H,W)\n",
    "mask_img = mask_img[:,:,0].astype(int)\n",
    "\n",
    "\n",
    "masked_img = np.copy(img)\n",
    "masked_img[mask_img==1] = .5\n",
    "\n",
    "\n",
    "plt.subplot(122)\n",
    "plt.imshow((np.repeat(masked_img,3,-1)* 255).astype(np.uint8),cmap='gray_r')\n",
    "\n",
    "plt.figure()\n",
    "plt.subplot(131)\n",
    "fg_layer = mask_img\n",
    "plt.imshow(fg_layer,cmap='gray',vmin=0,vmax=1)\n",
    "plt.xticks([]);plt.yticks([]);\n",
    "\n",
    "plt.subplot(132)\n",
    "mid_layer = (1-img).squeeze()\n",
    "plt.imshow(mid_layer,cmap='gray',vmin=0,vmax=1)\n",
    "plt.xticks([]);plt.yticks([]);\n",
    "\n",
    "plt.subplot(133)\n",
    "bg_layer = np.ones(mid_layer.shape)\n",
    "plt.imshow(bg_layer,cmap='gray',vmin=0,vmax=1)\n",
    "plt.xticks([]);plt.yticks([]);\n",
    "\n",
    "plt.figure()\n",
    "layer_img = np.stack([fg_layer,mid_layer,bg_layer],axis=-1)\n",
    "plt.imshow(layer_img)\n",
    "plt.axis('off')"
   ]
  },
  {
   "cell_type": "code",
   "execution_count": 3,
   "id": "9e7077a8-9412-47a9-8962-21976d5cdcf8",
   "metadata": {},
   "outputs": [
    {
     "name": "stdout",
     "output_type": "stream",
     "text": [
      "0\n"
     ]
    }
   ],
   "source": [
    "DATASET_SIZE=10\n",
    "H=W=512\n",
    "\n",
    "layer_binaries = []\n",
    "layer_imgs = []\n",
    "base_imgs = []\n",
    "\n",
    "def gray2rgb(img):\n",
    "    return (np.repeat(img,3,-1)* 255).astype(np.uint8)\n",
    "\n",
    "for itr in range(DATASET_SIZE):\n",
    "    img,_,_ = generate_triangle_sdf(H,W)\n",
    "    img = 1- img\n",
    "    \n",
    "    #Mask (foreground layer)\n",
    "    mask_img,_,_ = generate_triangle_sdf(H,W)\n",
    "    mask_img = mask_img[:,:,0].astype(int)\n",
    "\n",
    "    #Plain background layer\n",
    "    bg_layer = np.ones([H,W])\n",
    "    \n",
    "    #Compositing full image\n",
    "    masked_img = np.copy(img)\n",
    "    masked_img[mask_img==1] = .5\n",
    "    \n",
    "    #Compositing layer map\n",
    "    fg_layer = mask_img\n",
    "    mid_layer = (1-img).squeeze()\n",
    "    layer_bin = np.stack([fg_layer,mid_layer,bg_layer],axis=-1)\n",
    "\n",
    "    #add to lists\n",
    "    layer_binaries.append(layer_bin)\n",
    "    layer_imgs.append((gray2rgb(1-fg_layer[...,np.newaxis]*.5),\n",
    "                       gray2rgb(1-mid_layer[...,np.newaxis]),\n",
    "                       gray2rgb(bg_layer[...,np.newaxis])))\n",
    "    base_imgs.append(gray2rgb(masked_img))\n",
    "    \n",
    "    if itr%200 == 0:\n",
    "        print(itr)\n",
    "    "
   ]
  },
  {
   "cell_type": "code",
   "execution_count": 4,
   "id": "68ff71d8-eb1c-43b5-b067-4d4c89f07033",
   "metadata": {},
   "outputs": [
    {
     "data": {
      "text/plain": [
       "(512, 512, 3)"
      ]
     },
     "execution_count": 4,
     "metadata": {},
     "output_type": "execute_result"
    }
   ],
   "source": [
    "layer_imgs[0][0].shape"
   ]
  },
  {
   "cell_type": "code",
   "execution_count": 5,
   "id": "deb385a9-0ee3-4ca3-8034-8b205bc84656",
   "metadata": {},
   "outputs": [
    {
     "data": {
      "text/plain": [
       "<matplotlib.image.AxesImage at 0x14ddbccd20a0>"
      ]
     },
     "execution_count": 5,
     "metadata": {},
     "output_type": "execute_result"
    },
    {
     "data": {
      "image/png": "[encoded data removed]",
      "text/plain": [
       "<Figure size 432x288 with 1 Axes>"
      ]
     },
     "metadata": {
      "needs_background": "light"
     },
     "output_type": "display_data"
    }
   ],
   "source": [
    "# plt.imshow(layer_imgs[0][2])\n",
    "plt.imshow(layer_imgs[0][0])"
   ]
  },
  {
   "cell_type": "code",
   "execution_count": 6,
   "id": "56b489f3-4420-48e6-81b3-5ed9846fc792",
   "metadata": {},
   "outputs": [],
   "source": [
    "# Also need to generate some utils for the training for the layering maps\n",
    "# For example need some code that combines all layer maps below a layer and all above a layer\n",
    "# Also need analagous code that does this for the layered  objects in the image\n",
    "\n",
    "def get_front_layers(layer_imgs, layer_bin, layer_no):\n",
    "    num_layers = len(layer_imgs) -1 #subtract 1 for loops??\n",
    "    front_layers = np.ones(layer_imgs[0].shape)\n",
    "    front_bin = np.zeros(layer_bin.shape)\n",
    "    if layer_no == num_layers:\n",
    "        return front_layers,front_bin\n",
    "    else:\n",
    "        for layer_idx in range(layer_no,num_layers):\n",
    "            front_layers[layer_bin==1,:] = layer_imgs[layer_bin==1,:]\n",
    "            front_bin[layer_bin==1] = 1\n",
    "        return front_layers,front_bin\n",
    "        \n",
    "\n",
    "def get_back_layer(layer_imgs, layer_bin, layer_no):\n",
    "    num_layers = len(layer_imgs) - 1\n",
    "    back_layers = np.ones(layer_imgs[0].shape)\n",
    "    back_bin = np.zeros(layer_bin.shape)\n",
    "    for layer_idx in range(layer_no):\n",
    "        #FINISH / FIX THIS CODE AT SOMEPOINT\n",
    "        front_layers[layer_bin==1,:] = layer_imgs[layer_bin==1,:]\n",
    "        front_bin[layer_bin==1] = 1\n",
    "    return front_layers,front_bin"
   ]
  },
  {
   "cell_type": "code",
   "execution_count": 7,
   "id": "a1817a7a-6ae8-4c74-93fe-dc36f318696f",
   "metadata": {},
   "outputs": [],
   "source": [
    "import torch\n",
    "import torch.nn as nn\n",
    "\n",
    "## Network that takes 4 dimensional input and pushes it to 3 dimensions for the vae\n",
    "class ContractNet(nn.Module):\n",
    "    def __init__(self):\n",
    "        super(ContractNet, self).__init__()\n",
    "        self.conv = nn.Conv2d(4, 3, kernel_size=1)\n",
    "\n",
    "    def forward(self, x):\n",
    "        return self.conv(x)\n",
    "\n",
    "    \n",
    "\n",
    "## Network that takes 3 dimensional input and pushes it to 4 dimensions for model out\n",
    "class ExpandNet(nn.Module):\n",
    "    def __init__(self):\n",
    "        super(ExpandNet, self).__init__()\n",
    "        self.conv = nn.Conv2d(3, 4, kernel_size=1)\n",
    "\n",
    "    def forward(self, x):\n",
    "        return self.conv(x)\n"
   ]
  },
  {
   "cell_type": "code",
   "execution_count": 8,
   "id": "0d58bbfc-ec06-42ee-8f25-0e7b5b22e583",
   "metadata": {},
   "outputs": [
    {
     "name": "stderr",
     "output_type": "stream",
     "text": [
      "`text_config_dict` is provided which will be used to initialize `CLIPTextConfig`. The value `text_config[\"id2label\"]` will be overriden.\n"
     ]
    }
   ],
   "source": [
    "#Instantiate the two adapters and the pretrained model\n",
    "\n",
    "# An adapter that takes in the original image (or a subset of layers)\n",
    "RGB_adapter = T2IAdapter(channels_in=int(3), \n",
    "                       block_out_channels=[320, 640, 1280, 1280][:4], \n",
    "                       num_res_blocks=2, \n",
    "                       kernel_size=1, \n",
    "                       res_block_skip=True, \n",
    "                       use_conv=False)\n",
    "\n",
    "# An adapter that takes in the mask given by the layers above the current one\n",
    "mask_adapter = T2IAdapter(channels_in=int(1), \n",
    "                       block_out_channels=[320, 640, 1280, 1280][:4], \n",
    "                       num_res_blocks=2, \n",
    "                       kernel_size=1, \n",
    "                       res_block_skip=True, \n",
    "                       use_conv=False)\n",
    "\n",
    "#Combine them into a single adapter\n",
    "# adapter = MultiAdapter([RGB_adapter,mask_adapter])\n",
    "adapter = RGB_adapter\n",
    "\n",
    "#Instantiate the Convolutional layers\n",
    "contract_layer = ContractNet()\n",
    "expand_layer = ExpandNet()\n",
    "\n",
    "#Pretrained stable diffusion model that we will try not to touch (may end up changing the final conv_out though.\n",
    "#To be honest I am really hoping this works\n",
    "\n",
    "model_name = \"runwayml/stable-diffusion-v1-5\"\n",
    "pipe = StableDiffusionAdapterPipeline.from_pretrained(model_name, torch_dtype=torch.float32).to('cuda')\n",
    "\n",
    "vae = pipe.vae\n",
    "unet = pipe.unet\n",
    "# also get the clip model because it matters probably....\n",
    "\n",
    "#But looks like it may not work as just the model for training so we have to separate it into parts for training anyway"
   ]
  },
  {
   "cell_type": "code",
   "execution_count": 9,
   "id": "9af19c60-c4a6-4d3e-aef4-072f6b489d7d",
   "metadata": {},
   "outputs": [],
   "source": [
    "noise_scheduler = DDPMScheduler.from_pretrained(model_name, subfolder=\"scheduler\")\n",
    "# text_encoder = text_encoder_cls.from_pretrained(\n",
    "    # args.pretrained_model_name_or_path, subfolder=\"text_encoder\")"
   ]
  },
  {
   "cell_type": "code",
   "execution_count": 10,
   "id": "3b858c58-d6e5-4006-8532-a35066896acc",
   "metadata": {},
   "outputs": [],
   "source": [
    "#Random point, what if I dont do anything about the masking etc, and just try and make a model that removes the top object in a scene, or like just tries to get the layer mappings?"
   ]
  },
  {
   "cell_type": "code",
   "execution_count": 13,
   "id": "b236bcea-8337-4368-8d29-c1e274e13a3a",
   "metadata": {},
   "outputs": [],
   "source": [
    "\n",
    "def make_train_dataset(args):\n",
    "    # Get the datasets: you can either provide your own training and evaluation files (see below)\n",
    "    # or specify a Dataset from the hub (the dataset will be downloaded automatically from the datasets Hub).\n",
    "\n",
    "    # In distributed training, the load_dataset function guarantees that only one local process can concurrently\n",
    "    # download the dataset.\n",
    "    if args.dataset_name is not None:\n",
    "        # Downloading and loading a dataset from the hub.\n",
    "        dataset = load_dataset(\n",
    "            args.dataset_name,\n",
    "            args.dataset_config_name,\n",
    "            cache_dir=args.cache_dir,\n",
    "        )\n",
    "    else:\n",
    "        if args.train_data_dir is not None:\n",
    "            dataset = load_dataset(\n",
    "                args.train_data_dir,\n",
    "                cache_dir=args.cache_dir,\n",
    "            )\n",
    "        # See more about loading custom images at\n",
    "        # https://huggingface.co/docs/datasets/v2.0.0/en/dataset_script\n",
    "\n",
    "    # Preprocessing the datasets.\n",
    "    # We need to tokenize inputs and targets.\n",
    "    column_names = dataset[\"train\"].column_names\n",
    "\n",
    "    # 6. Get the column names for input/target.\n",
    "    if args.image_column is None:\n",
    "        image_column = column_names[0]\n",
    "        print(f\"image column defaulting to {image_column}\")\n",
    "    else:\n",
    "        image_column = args.image_column\n",
    "        if image_column not in column_names:\n",
    "            raise ValueError(\n",
    "                f\"`--image_column` value '{args.image_column}' not found in dataset columns. Dataset columns are: {', '.join(column_names)}\"\n",
    "            )\n",
    "\n",
    "    if args.caption_column is None:\n",
    "        caption_column = column_names[1]\n",
    "        print(f\"caption column defaulting to {caption_column}\")\n",
    "    else:\n",
    "        caption_column = args.caption_column\n",
    "        if caption_column not in column_names:\n",
    "            raise ValueError(\n",
    "                f\"`--caption_column` value '{args.caption_column}' not found in dataset columns. Dataset columns are: {', '.join(column_names)}\"\n",
    "            )\n",
    "\n",
    "    if args.conditioning_image_column is None:\n",
    "        conditioning_image_column = column_names[2]\n",
    "        print(f\"conditioning image column defaulting to {conditioning_image_column}\")\n",
    "    else:\n",
    "        conditioning_image_column = args.conditioning_image_column\n",
    "        if conditioning_image_column not in column_names:\n",
    "            raise ValueError(\n",
    "                f\"`--conditioning_image_column` value '{args.conditioning_image_column}' not found in dataset columns. Dataset columns are: {', '.join(column_names)}\"\n",
    "            )\n",
    "\n",
    "    # def tokenize_captions(examples, is_train=True):\n",
    "    #     captions = []\n",
    "    #     for caption in examples[caption_column]:\n",
    "    #         if random.random() < args.proportion_empty_prompts:\n",
    "    #             captions.append(\"\")\n",
    "    #         elif isinstance(caption, str):\n",
    "    #             captions.append(caption)\n",
    "    #         elif isinstance(caption, (list, np.ndarray)):\n",
    "    #             # take a random caption if there are multiple\n",
    "    #             captions.append(random.choice(caption) if is_train else caption[0])\n",
    "    #         else:\n",
    "    #             raise ValueError(\n",
    "    #                 f\"Caption column `{caption_column}` should contain either strings or lists of strings.\"\n",
    "    #             )\n",
    "    #     inputs = tokenizer(\n",
    "    #         captions, max_length=tokenizer.model_max_length, padding=\"max_length\", truncation=True, return_tensors=\"pt\"\n",
    "    #     )\n",
    "    #     return inputs.input_ids\n",
    "\n",
    "    image_transforms = transforms.Compose(\n",
    "        [\n",
    "            transforms.Resize(args.resolution, interpolation=transforms.InterpolationMode.BILINEAR),\n",
    "            transforms.CenterCrop(args.resolution),\n",
    "            transforms.ToTensor(),\n",
    "            transforms.Normalize([0.5], [0.5]),\n",
    "        ]\n",
    "    )\n",
    "\n",
    "    conditioning_image_transforms = transforms.Compose(\n",
    "        [\n",
    "            transforms.Resize(args.resolution, interpolation=transforms.InterpolationMode.BILINEAR),\n",
    "            transforms.CenterCrop(args.resolution),\n",
    "            transforms.ToTensor(),\n",
    "        ]\n",
    "    )\n",
    "\n",
    "    def preprocess_train(examples):\n",
    "        images = [image.convert(\"RGB\") for image in examples[image_column]]\n",
    "        images = [image_transforms(image) for image in images]\n",
    "\n",
    "        conditioning_images = [image.convert(\"RGB\") for image in examples[conditioning_image_column]]\n",
    "        conditioning_images = [conditioning_image_transforms(image) for image in conditioning_images]\n",
    "\n",
    "        examples[\"pixel_values\"] = images\n",
    "        examples[\"conditioning_pixel_values\"] = conditioning_images\n",
    "        # examples[\"input_ids\"] = tokenize_captions(examples)\n",
    "\n",
    "        return examples\n",
    "\n",
    "    # with accelerator.main_process_first():\n",
    "    if args.max_train_samples is not None:\n",
    "        dataset[\"train\"] = dataset[\"train\"].shuffle(seed=args.seed).select(range(args.max_train_samples))\n",
    "    # Set the training transforms\n",
    "    train_dataset = dataset[\"train\"].with_transform(preprocess_train)\n",
    "\n",
    "    return train_dataset\n"
   ]
  },
  {
   "cell_type": "code",
   "execution_count": 26,
   "id": "8e957bd7-8c7b-4ae8-9be2-420ffca57387",
   "metadata": {},
   "outputs": [
    {
     "data": {
      "text/html": [
       "<pre style=\"white-space:pre;overflow-x:auto;line-height:normal;font-family:Menlo,'DejaVu Sans Mono',consolas,'Courier New',monospace\"><span style=\"color: #800000; text-decoration-color: #800000\">╭─────────────────────────────── </span><span style=\"color: #800000; text-decoration-color: #800000; font-weight: bold\">Traceback </span><span style=\"color: #bf7f7f; text-decoration-color: #bf7f7f; font-weight: bold\">(most recent call last)</span><span style=\"color: #800000; text-decoration-color: #800000\"> ────────────────────────────────╮</span>\n",
       "<span style=\"color: #800000; text-decoration-color: #800000\">│</span> in <span style=\"color: #00ff00; text-decoration-color: #00ff00\">&lt;module&gt;</span>:<span style=\"color: #0000ff; text-decoration-color: #0000ff\">1</span>                                                                                    <span style=\"color: #800000; text-decoration-color: #800000\">│</span>\n",
       "<span style=\"color: #800000; text-decoration-color: #800000\">╰──────────────────────────────────────────────────────────────────────────────────────────────────╯</span>\n",
       "<span style=\"color: #ff0000; text-decoration-color: #ff0000; font-weight: bold\">NameError: </span>name <span style=\"color: #008000; text-decoration-color: #008000\">'dataset'</span> is not defined\n",
       "</pre>\n"
      ],
      "text/plain": [
       "\u001b[31m╭─\u001b[0m\u001b[31m──────────────────────────────\u001b[0m\u001b[31m \u001b[0m\u001b[1;31mTraceback \u001b[0m\u001b[1;2;31m(most recent call last)\u001b[0m\u001b[31m \u001b[0m\u001b[31m───────────────────────────────\u001b[0m\u001b[31m─╮\u001b[0m\n",
       "\u001b[31m│\u001b[0m in \u001b[92m<module>\u001b[0m:\u001b[94m1\u001b[0m                                                                                    \u001b[31m│\u001b[0m\n",
       "\u001b[31m╰──────────────────────────────────────────────────────────────────────────────────────────────────╯\u001b[0m\n",
       "\u001b[1;91mNameError: \u001b[0mname \u001b[32m'dataset'\u001b[0m is not defined\n"
      ]
     },
     "metadata": {},
     "output_type": "display_data"
    }
   ],
   "source": [
    "dataset"
   ]
  },
  {
   "cell_type": "code",
   "execution_count": 11,
   "id": "5557aab5-a6f6-4505-a202-1bd965204624",
   "metadata": {},
   "outputs": [
    {
     "data": {
      "text/html": [
       "<pre style=\"white-space:pre;overflow-x:auto;line-height:normal;font-family:Menlo,'DejaVu Sans Mono',consolas,'Courier New',monospace\"><span style=\"color: #800000; text-decoration-color: #800000\">╭─────────────────────────────── </span><span style=\"color: #800000; text-decoration-color: #800000; font-weight: bold\">Traceback </span><span style=\"color: #bf7f7f; text-decoration-color: #bf7f7f; font-weight: bold\">(most recent call last)</span><span style=\"color: #800000; text-decoration-color: #800000\"> ────────────────────────────────╮</span>\n",
       "<span style=\"color: #800000; text-decoration-color: #800000\">│</span> in <span style=\"color: #00ff00; text-decoration-color: #00ff00\">&lt;module&gt;</span>:<span style=\"color: #0000ff; text-decoration-color: #0000ff\">1</span>                                                                                    <span style=\"color: #800000; text-decoration-color: #800000\">│</span>\n",
       "<span style=\"color: #800000; text-decoration-color: #800000\">╰──────────────────────────────────────────────────────────────────────────────────────────────────╯</span>\n",
       "<span style=\"color: #ff0000; text-decoration-color: #ff0000; font-weight: bold\">NameError: </span>name <span style=\"color: #008000; text-decoration-color: #008000\">'load_dataset'</span> is not defined\n",
       "</pre>\n"
      ],
      "text/plain": [
       "\u001b[31m╭─\u001b[0m\u001b[31m──────────────────────────────\u001b[0m\u001b[31m \u001b[0m\u001b[1;31mTraceback \u001b[0m\u001b[1;2;31m(most recent call last)\u001b[0m\u001b[31m \u001b[0m\u001b[31m───────────────────────────────\u001b[0m\u001b[31m─╮\u001b[0m\n",
       "\u001b[31m│\u001b[0m in \u001b[92m<module>\u001b[0m:\u001b[94m1\u001b[0m                                                                                    \u001b[31m│\u001b[0m\n",
       "\u001b[31m╰──────────────────────────────────────────────────────────────────────────────────────────────────╯\u001b[0m\n",
       "\u001b[1;91mNameError: \u001b[0mname \u001b[32m'load_dataset'\u001b[0m is not defined\n"
      ]
     },
     "metadata": {},
     "output_type": "display_data"
    }
   ],
   "source": [
    "dataset = load_dataset(args.dataset_name)"
   ]
  },
  {
   "cell_type": "code",
   "execution_count": 14,
   "id": "b63510d6-3c08-4ad0-b0af-2f02424ff3bf",
   "metadata": {},
   "outputs": [],
   "source": [
    "from types import SimpleNamespace\n",
    "from datasets import load_dataset\n",
    "\n",
    "args = SimpleNamespace()\n",
    "\n",
    "args.dataset_name = \"fusing/fill50k\"\n",
    "args.train_data_dir = None #\"../ControlNet/training/fill50k\"\n",
    "args.dataset_config_name=None\n",
    "args.cache_dir = None\n",
    "args.image_column = \"image\"\n",
    "args.caption_column = \"text\"\n",
    "args.conditioning_image_column = \"conditioning_image\"\n",
    "args.resolution = 512\n",
    "args.max_train_samples = 1000\n",
    "args.seed = None\n",
    "args.train_batch_size = 4\n",
    "args.dataloader_num_workers = 0"
   ]
  },
  {
   "cell_type": "code",
   "execution_count": null,
   "id": "136a0eaa-7cd4-40b7-8c01-75b638a2df2d",
   "metadata": {},
   "outputs": [],
   "source": []
  },
  {
   "cell_type": "code",
   "execution_count": 15,
   "id": "a583745e-183d-4928-b691-a3dd9d1dc58e",
   "metadata": {},
   "outputs": [
    {
     "name": "stderr",
     "output_type": "stream",
     "text": [
      "No config specified, defaulting to: fill50k/default\n",
      "Found cached dataset fill50k (/n/home07/adamaraju/.cache/huggingface/datasets/fusing___fill50k/default/0.0.2/f23b778406682a796a540934e7163495e1b8a88fefc76ca08f7e5a79ddcd668b)\n"
     ]
    },
    {
     "data": {
      "application/vnd.jupyter.widget-view+json": {
       "model_id": "d35b6f63f5f947bfa4679367418389e4",
       "version_major": 2,
       "version_minor": 0
      },
      "text/plain": [
       "  0%|          | 0/1 [00:00<?, ?it/s]"
      ]
     },
     "metadata": {},
     "output_type": "display_data"
    }
   ],
   "source": [
    "train_data = make_train_dataset(args)"
   ]
  },
  {
   "cell_type": "code",
   "execution_count": 16,
   "id": "9500485b-db98-40f8-8b1a-fceb7fa42cdc",
   "metadata": {},
   "outputs": [],
   "source": [
    "def collate_fn(examples):\n",
    "    pixel_values = torch.stack([example[\"pixel_values\"] for example in examples])\n",
    "    pixel_values = pixel_values.to(memory_format=torch.contiguous_format).float()\n",
    "\n",
    "    conditioning_pixel_values = torch.stack([example[\"conditioning_pixel_values\"] for example in examples])\n",
    "    conditioning_pixel_values = conditioning_pixel_values.to(memory_format=torch.contiguous_format).float()\n",
    "\n",
    "    # input_ids = torch.stack([example[\"input_ids\"] for example in examples])\n",
    "\n",
    "    return {\n",
    "        \"pixel_values\": pixel_values,\n",
    "        \"conditioning_pixel_values\": conditioning_pixel_values,\n",
    "        # \"input_ids\": input_ids,\n",
    "    }"
   ]
  },
  {
   "cell_type": "code",
   "execution_count": 17,
   "id": "fb51a592-4207-4872-b239-706e989d8778",
   "metadata": {},
   "outputs": [],
   "source": [
    "train_dataloader = torch.utils.data.DataLoader(\n",
    "    train_data,\n",
    "    shuffle=True,\n",
    "    collate_fn=collate_fn,\n",
    "    batch_size=args.train_batch_size,\n",
    "    num_workers=args.dataloader_num_workers,\n",
    ")"
   ]
  },
  {
   "cell_type": "code",
   "execution_count": 17,
   "id": "0eae734f-456b-41c0-89dd-03a835043155",
   "metadata": {},
   "outputs": [
    {
     "name": "stdout",
     "output_type": "stream",
     "text": [
      "torch.Size([4, 3, 512, 512])\n"
     ]
    }
   ],
   "source": [
    "for step, batch in enumerate(train_dataloader):\n",
    "    print(batch[\"pixel_values\"].shape)\n",
    "    break"
   ]
  },
  {
   "cell_type": "code",
   "execution_count": 59,
   "id": "0bdde994-b42d-4083-b329-0987bc25e9c6",
   "metadata": {},
   "outputs": [],
   "source": [
    "#Instantiate the Convolutional layers\n",
    "\n",
    "contract_layer = ContractNet().to(\"cuda\")\n",
    "expand_layer = ExpandNet().to(\"cuda\")"
   ]
  },
  {
   "cell_type": "code",
   "execution_count": 18,
   "id": "d368b2fc-132c-4262-819e-7a73c2290482",
   "metadata": {},
   "outputs": [],
   "source": [
    "#Set optimizer class\n",
    "# params_to_optimize = list(contract_layer.parameters()) + list(expand_layer.parameters()) + list(adapter.parameters())\n",
    "params_to_optimize =adapter.parameters()\n",
    "\n",
    "optimizer_class = torch.optim.AdamW\n",
    "optimizer = optimizer_class(\n",
    "    params_to_optimize,\n",
    "    lr = 1e-3,#lr=args.learning_rate,\n",
    "    #betas=(args.adam_beta1, args.adam_beta2),\n",
    "    #weight_decay=args.adam_weight_decay,\n",
    "    #eps=args.adam_epsilon,\n",
    ") #put args/ optimizer class here!!"
   ]
  },
  {
   "cell_type": "code",
   "execution_count": 19,
   "id": "0be22739-8a74-4b9b-8be2-07074ad8a68f",
   "metadata": {},
   "outputs": [
    {
     "data": {
      "text/html": [
       "<pre style=\"white-space:pre;overflow-x:auto;line-height:normal;font-family:Menlo,'DejaVu Sans Mono',consolas,'Courier New',monospace\"><span style=\"color: #800000; text-decoration-color: #800000\">╭─────────────────────────────── </span><span style=\"color: #800000; text-decoration-color: #800000; font-weight: bold\">Traceback </span><span style=\"color: #bf7f7f; text-decoration-color: #bf7f7f; font-weight: bold\">(most recent call last)</span><span style=\"color: #800000; text-decoration-color: #800000\"> ────────────────────────────────╮</span>\n",
       "<span style=\"color: #800000; text-decoration-color: #800000\">│</span> in <span style=\"color: #00ff00; text-decoration-color: #00ff00\">&lt;module&gt;</span>:<span style=\"color: #0000ff; text-decoration-color: #0000ff\">1</span>                                                                                    <span style=\"color: #800000; text-decoration-color: #800000\">│</span>\n",
       "<span style=\"color: #800000; text-decoration-color: #800000\">╰──────────────────────────────────────────────────────────────────────────────────────────────────╯</span>\n",
       "<span style=\"color: #ff0000; text-decoration-color: #ff0000; font-weight: bold\">TypeError: </span><span style=\"color: #800080; text-decoration-color: #800080; font-weight: bold\">imshow</span><span style=\"font-weight: bold\">()</span> missing <span style=\"color: #008080; text-decoration-color: #008080; font-weight: bold\">1</span> required positional argument: <span style=\"color: #008000; text-decoration-color: #008000\">'X'</span>\n",
       "</pre>\n"
      ],
      "text/plain": [
       "\u001b[31m╭─\u001b[0m\u001b[31m──────────────────────────────\u001b[0m\u001b[31m \u001b[0m\u001b[1;31mTraceback \u001b[0m\u001b[1;2;31m(most recent call last)\u001b[0m\u001b[31m \u001b[0m\u001b[31m───────────────────────────────\u001b[0m\u001b[31m─╮\u001b[0m\n",
       "\u001b[31m│\u001b[0m in \u001b[92m<module>\u001b[0m:\u001b[94m1\u001b[0m                                                                                    \u001b[31m│\u001b[0m\n",
       "\u001b[31m╰──────────────────────────────────────────────────────────────────────────────────────────────────╯\u001b[0m\n",
       "\u001b[1;91mTypeError: \u001b[0m\u001b[1;35mimshow\u001b[0m\u001b[1m(\u001b[0m\u001b[1m)\u001b[0m missing \u001b[1;36m1\u001b[0m required positional argument: \u001b[32m'X'\u001b[0m\n"
      ]
     },
     "metadata": {},
     "output_type": "display_data"
    }
   ],
   "source": [
    "plt.imshow()"
   ]
  },
  {
   "cell_type": "code",
   "execution_count": 20,
   "id": "5322aa2b-1954-43e4-b0a5-bcf7d52238d5",
   "metadata": {},
   "outputs": [],
   "source": [
    "test1 = torch.tensor(layer_imgs[0][1]).permute(2,0,1)\n",
    "test2 = torch.tensor(layer_binaries[0][...,0]).unsqueeze(0)\n",
    "test_T = torch.cat([test1,test2],axis=0).to(\"cuda:0\")\n",
    "test_T = test_T.unsqueeze(0)\n",
    "weight_dtype = torch.float32\n",
    "# contract_in = contract_layer(test_T.to(dtype=weight_dtype))"
   ]
  },
  {
   "cell_type": "code",
   "execution_count": 21,
   "id": "a174631f-a499-458f-86c1-6475080b18e6",
   "metadata": {},
   "outputs": [],
   "source": [
    "bsz = 4\n",
    "val1 = test1.unsqueeze(0).to('cuda').repeat(bsz,1,1,1)"
   ]
  },
  {
   "cell_type": "code",
   "execution_count": 22,
   "id": "65456b1e-d08a-428c-87ba-e5d64400e870",
   "metadata": {},
   "outputs": [
    {
     "data": {
      "text/plain": [
       "torch.Size([4, 3, 512, 512])"
      ]
     },
     "execution_count": 22,
     "metadata": {},
     "output_type": "execute_result"
    }
   ],
   "source": [
    "val1.shape"
   ]
  },
  {
   "cell_type": "code",
   "execution_count": 23,
   "id": "a7050ce7-a506-40d5-9243-6cbe389d3b3e",
   "metadata": {},
   "outputs": [
    {
     "data": {
      "text/html": [
       "<pre style=\"white-space:pre;overflow-x:auto;line-height:normal;font-family:Menlo,'DejaVu Sans Mono',consolas,'Courier New',monospace\"><span style=\"color: #800000; text-decoration-color: #800000\">╭─────────────────────────────── </span><span style=\"color: #800000; text-decoration-color: #800000; font-weight: bold\">Traceback </span><span style=\"color: #bf7f7f; text-decoration-color: #bf7f7f; font-weight: bold\">(most recent call last)</span><span style=\"color: #800000; text-decoration-color: #800000\"> ────────────────────────────────╮</span>\n",
       "<span style=\"color: #800000; text-decoration-color: #800000\">│</span> in <span style=\"color: #00ff00; text-decoration-color: #00ff00\">&lt;module&gt;</span>:<span style=\"color: #0000ff; text-decoration-color: #0000ff\">1</span>                                                                                    <span style=\"color: #800000; text-decoration-color: #800000\">│</span>\n",
       "<span style=\"color: #800000; text-decoration-color: #800000\">╰──────────────────────────────────────────────────────────────────────────────────────────────────╯</span>\n",
       "<span style=\"color: #ff0000; text-decoration-color: #ff0000; font-weight: bold\">NameError: </span>name <span style=\"color: #008000; text-decoration-color: #008000\">'in1'</span> is not defined\n",
       "</pre>\n"
      ],
      "text/plain": [
       "\u001b[31m╭─\u001b[0m\u001b[31m──────────────────────────────\u001b[0m\u001b[31m \u001b[0m\u001b[1;31mTraceback \u001b[0m\u001b[1;2;31m(most recent call last)\u001b[0m\u001b[31m \u001b[0m\u001b[31m───────────────────────────────\u001b[0m\u001b[31m─╮\u001b[0m\n",
       "\u001b[31m│\u001b[0m in \u001b[92m<module>\u001b[0m:\u001b[94m1\u001b[0m                                                                                    \u001b[31m│\u001b[0m\n",
       "\u001b[31m╰──────────────────────────────────────────────────────────────────────────────────────────────────╯\u001b[0m\n",
       "\u001b[1;91mNameError: \u001b[0mname \u001b[32m'in1'\u001b[0m is not defined\n"
      ]
     },
     "metadata": {},
     "output_type": "display_data"
    }
   ],
   "source": [
    "in1.shape"
   ]
  },
  {
   "cell_type": "code",
   "execution_count": 24,
   "id": "d5ffb558-9ab6-498d-8f4c-da81aec741dd",
   "metadata": {},
   "outputs": [],
   "source": [
    "condition_img = torch.tensor(base_imgs[0]).permute(2,0,1).unsqueeze(0).to(torch.float)\n",
    "condition_mask = torch.tensor(layer_binaries[0][...,-1]).unsqueeze(0).unsqueeze(0).to(torch.float)\n",
    "# conditional_in = torch.cat([in1,in2],axis=0).to(\"cuda:0\")\n",
    "# conditional_in = conditional_in.unsqueeze(0)"
   ]
  },
  {
   "cell_type": "code",
   "execution_count": 25,
   "id": "85e95690-4746-461f-94e1-c92b63c6eff6",
   "metadata": {},
   "outputs": [
    {
     "data": {
      "text/html": [
       "<pre style=\"white-space:pre;overflow-x:auto;line-height:normal;font-family:Menlo,'DejaVu Sans Mono',consolas,'Courier New',monospace\"><span style=\"color: #800000; text-decoration-color: #800000\">╭─────────────────────────────── </span><span style=\"color: #800000; text-decoration-color: #800000; font-weight: bold\">Traceback </span><span style=\"color: #bf7f7f; text-decoration-color: #bf7f7f; font-weight: bold\">(most recent call last)</span><span style=\"color: #800000; text-decoration-color: #800000\"> ────────────────────────────────╮</span>\n",
       "<span style=\"color: #800000; text-decoration-color: #800000\">│</span> in <span style=\"color: #00ff00; text-decoration-color: #00ff00\">&lt;module&gt;</span>:<span style=\"color: #0000ff; text-decoration-color: #0000ff\">1</span>                                                                                    <span style=\"color: #800000; text-decoration-color: #800000\">│</span>\n",
       "<span style=\"color: #800000; text-decoration-color: #800000\">╰──────────────────────────────────────────────────────────────────────────────────────────────────╯</span>\n",
       "<span style=\"color: #ff0000; text-decoration-color: #ff0000; font-weight: bold\">NameError: </span>name <span style=\"color: #008000; text-decoration-color: #008000\">'conditional_in'</span> is not defined\n",
       "</pre>\n"
      ],
      "text/plain": [
       "\u001b[31m╭─\u001b[0m\u001b[31m──────────────────────────────\u001b[0m\u001b[31m \u001b[0m\u001b[1;31mTraceback \u001b[0m\u001b[1;2;31m(most recent call last)\u001b[0m\u001b[31m \u001b[0m\u001b[31m───────────────────────────────\u001b[0m\u001b[31m─╮\u001b[0m\n",
       "\u001b[31m│\u001b[0m in \u001b[92m<module>\u001b[0m:\u001b[94m1\u001b[0m                                                                                    \u001b[31m│\u001b[0m\n",
       "\u001b[31m╰──────────────────────────────────────────────────────────────────────────────────────────────────╯\u001b[0m\n",
       "\u001b[1;91mNameError: \u001b[0mname \u001b[32m'conditional_in'\u001b[0m is not defined\n"
      ]
     },
     "metadata": {},
     "output_type": "display_data"
    }
   ],
   "source": [
    "conditional_in.shape"
   ]
  },
  {
   "cell_type": "code",
   "execution_count": 26,
   "id": "3cc98e47-c450-41ab-aa5c-45f13d0c68d4",
   "metadata": {},
   "outputs": [
    {
     "data": {
      "text/html": [
       "<pre style=\"white-space:pre;overflow-x:auto;line-height:normal;font-family:Menlo,'DejaVu Sans Mono',consolas,'Courier New',monospace\"><span style=\"color: #800000; text-decoration-color: #800000\">╭─────────────────────────────── </span><span style=\"color: #800000; text-decoration-color: #800000; font-weight: bold\">Traceback </span><span style=\"color: #bf7f7f; text-decoration-color: #bf7f7f; font-weight: bold\">(most recent call last)</span><span style=\"color: #800000; text-decoration-color: #800000\"> ────────────────────────────────╮</span>\n",
       "<span style=\"color: #800000; text-decoration-color: #800000\">│</span> in <span style=\"color: #00ff00; text-decoration-color: #00ff00\">&lt;module&gt;</span>:<span style=\"color: #0000ff; text-decoration-color: #0000ff\">1</span>                                                                                    <span style=\"color: #800000; text-decoration-color: #800000\">│</span>\n",
       "<span style=\"color: #800000; text-decoration-color: #800000\">╰──────────────────────────────────────────────────────────────────────────────────────────────────╯</span>\n",
       "<span style=\"color: #ff0000; text-decoration-color: #ff0000; font-weight: bold\">NameError: </span>name <span style=\"color: #008000; text-decoration-color: #008000\">'contract_in'</span> is not defined\n",
       "</pre>\n"
      ],
      "text/plain": [
       "\u001b[31m╭─\u001b[0m\u001b[31m──────────────────────────────\u001b[0m\u001b[31m \u001b[0m\u001b[1;31mTraceback \u001b[0m\u001b[1;2;31m(most recent call last)\u001b[0m\u001b[31m \u001b[0m\u001b[31m───────────────────────────────\u001b[0m\u001b[31m─╮\u001b[0m\n",
       "\u001b[31m│\u001b[0m in \u001b[92m<module>\u001b[0m:\u001b[94m1\u001b[0m                                                                                    \u001b[31m│\u001b[0m\n",
       "\u001b[31m╰──────────────────────────────────────────────────────────────────────────────────────────────────╯\u001b[0m\n",
       "\u001b[1;91mNameError: \u001b[0mname \u001b[32m'contract_in'\u001b[0m is not defined\n"
      ]
     },
     "metadata": {},
     "output_type": "display_data"
    }
   ],
   "source": [
    "contract_in.shape"
   ]
  },
  {
   "cell_type": "code",
   "execution_count": 27,
   "id": "53c309ae-3217-4bcb-ae69-f99b700afd68",
   "metadata": {},
   "outputs": [],
   "source": [
    "latents = vae.encode(val1.to(dtype=weight_dtype)).latent_dist.sample()"
   ]
  },
  {
   "cell_type": "code",
   "execution_count": 28,
   "id": "b29119b0-1011-478f-bcbb-d99fc6d85402",
   "metadata": {},
   "outputs": [
    {
     "data": {
      "text/plain": [
       "torch.Size([4, 4, 64, 64])"
      ]
     },
     "execution_count": 28,
     "metadata": {},
     "output_type": "execute_result"
    }
   ],
   "source": [
    "latents.shape"
   ]
  },
  {
   "cell_type": "code",
   "execution_count": 29,
   "id": "78c9279f-80b0-4ffc-be95-f55271e219c5",
   "metadata": {},
   "outputs": [],
   "source": [
    "# Sample noise that we'll add to the latents\n",
    "noise = torch.randn_like(latents)\n",
    "bsz = latents.shape[0]\n",
    "# Sample a random timestep for each image\n",
    "timesteps = torch.randint(0, noise_scheduler.config.num_train_timesteps, (bsz,), device=latents.device)\n",
    "timesteps = timesteps.long()\n",
    "\n",
    "# Add noise to the latents according to the noise magnitude at each timestep\n",
    "# (this is the forward diffusion process)\n",
    "noisy_latents = noise_scheduler.add_noise(latents, noise, timesteps)"
   ]
  },
  {
   "cell_type": "code",
   "execution_count": 30,
   "id": "d7abc79a-4b39-4bb4-a3d9-be69959c88fa",
   "metadata": {},
   "outputs": [
    {
     "data": {
      "text/plain": [
       "torch.Size([4, 4, 64, 64])"
      ]
     },
     "execution_count": 30,
     "metadata": {},
     "output_type": "execute_result"
    }
   ],
   "source": [
    "noisy_latents.shape"
   ]
  },
  {
   "cell_type": "code",
   "execution_count": 31,
   "id": "2644ee52-4c21-4ca1-8ff4-58d08e361a55",
   "metadata": {},
   "outputs": [
    {
     "data": {
      "text/plain": [
       "torch.Size([1, 3, 512, 512])"
      ]
     },
     "execution_count": 31,
     "metadata": {},
     "output_type": "execute_result"
    }
   ],
   "source": [
    "condition_img.shape"
   ]
  },
  {
   "cell_type": "code",
   "execution_count": 32,
   "id": "5a9437a3-fb02-4f63-a1f5-322eff3ecddf",
   "metadata": {},
   "outputs": [],
   "source": [
    "adapter_input = condition_img.repeat(bsz,1,1,1)\n",
    "\n",
    "#MultiAdapter stuff\n",
    "# n, c, h, w = adapter_input[0].shape\n",
    "# adapter_input = torch.stack([x.reshape([n * x.shape[1], h, w]) for x in adapter_input])\n",
    "\n",
    "#CHANGE THE CODE SO I CAN GIVE IT A LIST OF adapters or just slice correctly\n",
    "\n",
    "adapter_state = adapter(adapter_input)\n",
    "# len(out)"
   ]
  },
  {
   "cell_type": "code",
   "execution_count": 33,
   "id": "f7186daa-a02e-4642-a7d3-48c40617201c",
   "metadata": {},
   "outputs": [
    {
     "data": {
      "text/plain": [
       "torch.Size([4, 3, 512, 512])"
      ]
     },
     "execution_count": 33,
     "metadata": {},
     "output_type": "execute_result"
    }
   ],
   "source": [
    "adapter_input.shape"
   ]
  },
  {
   "cell_type": "code",
   "execution_count": 34,
   "id": "e1b014b2-cf99-4faf-b320-05523bdd2d4e",
   "metadata": {},
   "outputs": [],
   "source": [
    "do_classifier_free_guidance= False"
   ]
  },
  {
   "cell_type": "code",
   "execution_count": 52,
   "id": "e54d453e-b237-4346-a54f-4f33635ae1df",
   "metadata": {},
   "outputs": [],
   "source": [
    "for k, v in enumerate(adapter_state):\n",
    "    adapter_state[k] = v.to(\"cuda\")#* adapter_conditioning_scale\n",
    "if do_classifier_free_guidance:\n",
    "    for k, v in enumerate(adapter_state):\n",
    "        adapter_state[k] = torch.cat([v] * 2, dim=0).to(\"cuda\")"
   ]
  },
  {
   "cell_type": "code",
   "execution_count": 36,
   "id": "eef28322-87f1-4e46-96a6-425d68db57a8",
   "metadata": {},
   "outputs": [],
   "source": [
    "noisy_latents = torch.cat([noisy_latents] * 2) if do_classifier_free_guidance else noisy_latents"
   ]
  },
  {
   "cell_type": "code",
   "execution_count": 37,
   "id": "ac5a898d-8ea6-4db6-bbb0-542f3280b9e6",
   "metadata": {},
   "outputs": [],
   "source": [
    "# # adapter_state = adapter(adapter_input)\n",
    "# for k, v in enumerate(adapter_state):\n",
    "#     adapter_state[k] = v * adapter_conditioning_scale\n",
    "# if num_images_per_prompt > 1:\n",
    "#     for k, v in enumerate(adapter_state):\n",
    "#         adapter_state[k] = v.repeat(num_images_per_prompt, 1, 1, 1)\n",
    "# if do_classifier_free_guidance:\n",
    "#     for k, v in enumerate(adapter_state):\n",
    "#         adapter_state[k] = torch.cat([v] * 2, dim=0)\n",
    "\n",
    "# # ## expand the latents if we are doing classifier free guidance\n",
    "# # noisy_latents = torch.cat([noisy_latents] * 2) if do_classifier_free_guidance else latents"
   ]
  },
  {
   "cell_type": "code",
   "execution_count": 38,
   "id": "e99179d7-1ea8-446f-8212-41fb6a9cba54",
   "metadata": {},
   "outputs": [
    {
     "data": {
      "text/plain": [
       "device(type='cpu')"
      ]
     },
     "execution_count": 38,
     "metadata": {},
     "output_type": "execute_result"
    }
   ],
   "source": [
    "adapter_state[k].device"
   ]
  },
  {
   "cell_type": "code",
   "execution_count": 43,
   "id": "f0202209-0094-4b91-929d-f90a4b34e79e",
   "metadata": {},
   "outputs": [],
   "source": [
    "prompt_embeds = pipe._encode_prompt(\n",
    "    \"\",\n",
    "    device=\"cuda\",\n",
    "    num_images_per_prompt = bsz ,\n",
    "    do_classifier_free_guidance=do_classifier_free_guidance,\n",
    "    negative_prompt=None,\n",
    "    prompt_embeds=None,\n",
    "    negative_prompt_embeds=None,\n",
    ")\n"
   ]
  },
  {
   "cell_type": "code",
   "execution_count": 44,
   "id": "7beb53fd-282b-4103-bc97-cc01f378c697",
   "metadata": {},
   "outputs": [
    {
     "data": {
      "text/plain": [
       "torch.Size([4, 77, 768])"
      ]
     },
     "execution_count": 44,
     "metadata": {},
     "output_type": "execute_result"
    }
   ],
   "source": [
    "prompt_embeds.shape"
   ]
  },
  {
   "cell_type": "code",
   "execution_count": 45,
   "id": "fd8aa7ca-6dd8-4ab2-9163-0f1496222249",
   "metadata": {},
   "outputs": [
    {
     "data": {
      "text/plain": [
       "torch.Size([4, 4, 64, 64])"
      ]
     },
     "execution_count": 45,
     "metadata": {},
     "output_type": "execute_result"
    }
   ],
   "source": [
    "noisy_latents.shape"
   ]
  },
  {
   "cell_type": "code",
   "execution_count": 46,
   "id": "1e504bdf-9f75-4911-8ff7-c4eb7daf5efe",
   "metadata": {},
   "outputs": [
    {
     "data": {
      "text/plain": [
       "torch.Size([4, 1280, 8, 8])"
      ]
     },
     "execution_count": 46,
     "metadata": {},
     "output_type": "execute_result"
    }
   ],
   "source": [
    " adapter_state[k].shape"
   ]
  },
  {
   "cell_type": "code",
   "execution_count": 47,
   "id": "4c0e8f2b-a146-4d91-9c38-be7798c2b683",
   "metadata": {},
   "outputs": [
    {
     "data": {
      "text/plain": [
       "torch.Size([4])"
      ]
     },
     "execution_count": 47,
     "metadata": {},
     "output_type": "execute_result"
    }
   ],
   "source": [
    "timesteps.shape"
   ]
  },
  {
   "cell_type": "code",
   "execution_count": 53,
   "id": "376b77ad-8b6d-4797-9df1-92e80dff33f9",
   "metadata": {},
   "outputs": [
    {
     "data": {
      "text/plain": [
       "device(type='cuda', index=0)"
      ]
     },
     "execution_count": 53,
     "metadata": {},
     "output_type": "execute_result"
    }
   ],
   "source": [
    "adapter_state[k].device"
   ]
  },
  {
   "cell_type": "code",
   "execution_count": 54,
   "id": "d1d81d09-b9d6-4b77-993b-f5f73bfe3f00",
   "metadata": {},
   "outputs": [],
   "source": [
    "with torch.no_grad():\n",
    "    noise_pred = unet(\n",
    "            noisy_latents,\n",
    "            timesteps,\n",
    "            encoder_hidden_states=prompt_embeds,\n",
    "            cross_attention_kwargs=None,\n",
    "            down_block_additional_residuals=[state.clone() for state in adapter_state],\n",
    "    ).sample"
   ]
  },
  {
   "cell_type": "code",
   "execution_count": 70,
   "id": "8c94195b-17d0-4ff7-82dc-16498702a4aa",
   "metadata": {},
   "outputs": [
    {
     "data": {
      "text/plain": [
       "8"
      ]
     },
     "execution_count": 70,
     "metadata": {},
     "output_type": "execute_result"
    }
   ],
   "source": [
    "noisy_latents.shape[0]"
   ]
  },
  {
   "cell_type": "code",
   "execution_count": 45,
   "id": "34befc87-861d-4339-9805-06e25f1a24c2",
   "metadata": {},
   "outputs": [
    {
     "data": {
      "text/plain": [
       "torch.Size([2, 4, 64, 64])"
      ]
     },
     "execution_count": 45,
     "metadata": {},
     "output_type": "execute_result"
    }
   ],
   "source": [
    "noise_pred.shape"
   ]
  },
  {
   "cell_type": "code",
   "execution_count": 147,
   "id": "f7cd6cc3-b7cc-4811-9df9-44836980a235",
   "metadata": {},
   "outputs": [
    {
     "name": "stderr",
     "output_type": "stream",
     "text": [
      "<ipython-input-147-7f51ce7b94b8>:2: UserWarning: Using a target size (torch.Size([1, 4, 64, 64])) that is different to the input size (torch.Size([2, 4, 64, 64])). This will likely lead to incorrect results due to broadcasting. Please ensure they have the same size.\n",
      "  loss = F.mse_loss(noise_pred.float(), noise.float(), reduction=\"mean\")\n"
     ]
    }
   ],
   "source": [
    "import torch.nn.functional as F\n",
    "loss = F.mse_loss(noise_pred.float(), noise.float(), reduction=\"mean\")\n",
    "optimizer.step()"
   ]
  },
  {
   "cell_type": "code",
   "execution_count": 3,
   "id": "7e7875a7-36e7-479b-9d30-20249fe0fed8",
   "metadata": {},
   "outputs": [
    {
     "data": {
      "text/html": [
       "<pre style=\"white-space:pre;overflow-x:auto;line-height:normal;font-family:Menlo,'DejaVu Sans Mono',consolas,'Courier New',monospace\"><span style=\"color: #800000; text-decoration-color: #800000\">╭─────────────────────────────── </span><span style=\"color: #800000; text-decoration-color: #800000; font-weight: bold\">Traceback </span><span style=\"color: #bf7f7f; text-decoration-color: #bf7f7f; font-weight: bold\">(most recent call last)</span><span style=\"color: #800000; text-decoration-color: #800000\"> ────────────────────────────────╮</span>\n",
       "<span style=\"color: #800000; text-decoration-color: #800000\">│</span> in <span style=\"color: #00ff00; text-decoration-color: #00ff00\">&lt;module&gt;</span>:<span style=\"color: #0000ff; text-decoration-color: #0000ff\">5</span>                                                                                    <span style=\"color: #800000; text-decoration-color: #800000\">│</span>\n",
       "<span style=\"color: #800000; text-decoration-color: #800000\">╰──────────────────────────────────────────────────────────────────────────────────────────────────╯</span>\n",
       "<span style=\"color: #ff0000; text-decoration-color: #ff0000; font-weight: bold\">NameError: </span>name <span style=\"color: #008000; text-decoration-color: #008000\">'adapter'</span> is not defined\n",
       "</pre>\n"
      ],
      "text/plain": [
       "\u001b[31m╭─\u001b[0m\u001b[31m──────────────────────────────\u001b[0m\u001b[31m \u001b[0m\u001b[1;31mTraceback \u001b[0m\u001b[1;2;31m(most recent call last)\u001b[0m\u001b[31m \u001b[0m\u001b[31m───────────────────────────────\u001b[0m\u001b[31m─╮\u001b[0m\n",
       "\u001b[31m│\u001b[0m in \u001b[92m<module>\u001b[0m:\u001b[94m5\u001b[0m                                                                                    \u001b[31m│\u001b[0m\n",
       "\u001b[31m╰──────────────────────────────────────────────────────────────────────────────────────────────────╯\u001b[0m\n",
       "\u001b[1;91mNameError: \u001b[0mname \u001b[32m'adapter'\u001b[0m is not defined\n"
      ]
     },
     "metadata": {},
     "output_type": "display_data"
    }
   ],
   "source": [
    "#Set optimizer class\n",
    "optimizer_class = torch.optim.AdamW\n",
    "\n",
    "#Get parameters to optimize\n",
    "params_to_optimize = list(contract_layer.parameters()) + list(expand_layer.parameters()) + list(adapter.parameters())\n",
    "optimizer = optimizer_class(\n",
    "    params_to_optimize,\n",
    "    lr = 1e-3,#lr=args.learning_rate,\n",
    "    #betas=(args.adam_beta1, args.adam_beta2),\n",
    "    #weight_decay=args.adam_weight_decay,\n",
    "    #eps=args.adam_epsilon,\n",
    ") #put args/ optimizer class here!!\n",
    "\n",
    "# Also add two tiny networks that are a conv2D with 1 kernel size and 1 stride, going from 3 to 4 dimensions\n",
    "# Pipeline\n",
    "### IN PARALLEL: turn image + mask into 4d mask -> 4d mask to 3d using convolution -> 3d to latent with vae\n",
    "### IN PARALLEL: layer image + other mask into 2 part adapter\n",
    "### get unet and put both models into this\n",
    "## back prop and thats it!!\n",
    "\n",
    "\n",
    "# additional, try to figure out accelerator\n",
    "# additional work on getting saving for outputs, see if i can get it to work..\n",
    "\n",
    "\n",
    "# Train!\n",
    "total_batch_size = args.train_batch_size * accelerator.num_processes * args.gradient_accumulation_steps\n",
    "\n",
    "logger.info(\"***** Running training *****\")\n",
    "logger.info(f\"  Num examples = {len(train_dataset)}\")\n",
    "logger.info(f\"  Num batches each epoch = {len(train_dataloader)}\")\n",
    "logger.info(f\"  Num Epochs = {args.num_train_epochs}\")\n",
    "logger.info(f\"  Instantaneous batch size per device = {args.train_batch_size}\")\n",
    "logger.info(f\"  Total train batch size (w. parallel, distributed & accumulation) = {total_batch_size}\")\n",
    "logger.info(f\"  Gradient Accumulation steps = {args.gradient_accumulation_steps}\")\n",
    "logger.info(f\"  Total optimization steps = {args.max_train_steps}\")\n",
    "global_step = 0\n",
    "first_epoch = 0\n",
    "\n",
    "# Potentially load in the weights and states from a previous save\n",
    "if args.resume_from_checkpoint:\n",
    "    if args.resume_from_checkpoint != \"latest\":\n",
    "        path = os.path.basename(args.resume_from_checkpoint)\n",
    "    else:\n",
    "        # Get the most recent checkpoint\n",
    "        dirs = os.listdir(args.output_dir)\n",
    "        dirs = [d for d in dirs if d.startswith(\"checkpoint\")]\n",
    "        dirs = sorted(dirs, key=lambda x: int(x.split(\"-\")[1]))\n",
    "        path = dirs[-1] if len(dirs) > 0 else None\n",
    "\n",
    "    if path is None:\n",
    "        accelerator.print(\n",
    "            f\"Checkpoint '{args.resume_from_checkpoint}' does not exist. Starting a new training run.\"\n",
    "        )\n",
    "        args.resume_from_checkpoint = None\n",
    "        initial_global_step = 0\n",
    "    else:\n",
    "        accelerator.print(f\"Resuming from checkpoint {path}\")\n",
    "        accelerator.load_state(os.path.join(args.output_dir, path))\n",
    "        global_step = int(path.split(\"-\")[1])\n",
    "\n",
    "        initial_global_step = global_step\n",
    "        first_epoch = global_step // num_update_steps_per_epoch\n",
    "else:\n",
    "    initial_global_step = 0\n",
    "\n",
    "progress_bar = tqdm(\n",
    "    range(0, args.max_train_steps),\n",
    "    initial=initial_global_step,\n",
    "    desc=\"Steps\",\n",
    "    # Only show the progress bar once on each machine.\n",
    "    # disable=not accelerator.is_local_main_process,\n",
    ")\n",
    "\n",
    "weight_dtype = torch.float32\n",
    "image_logs = None\n",
    "for epoch in range(first_epoch, args.num_train_epochs):\n",
    "    for step, batch in enumerate(train_dataloader):\n",
    "        with accelerator.accumulate(controlnet):\n",
    "            #### Convert images to latent space\n",
    "            #network that goes from four to three dimensions\n",
    "            contract_in = contract_layer(batch[\"pixel_values\"].to(dtype=weight_dtype))\n",
    "            latents = vae.encode(contract_in).latent_dist.sample()\n",
    "            latents = latents * vae.config.scaling_factor\n",
    "            \n",
    "            \n",
    "            # 5. Prepare latent variables\n",
    "            # one possible option\n",
    "            # latents = vae.encode(batch[\"pixel_values\"].to(dtype=weight_dtype)).latent_dist.sample()\n",
    "            # latents = latents * vae.config.scaling_factor\n",
    "            # \n",
    "            \n",
    "            # num_channels_latents = self.unet.in_channels + 1 ##ADDED 1 ( 3->4)\n",
    "#             latents = self.prepare_latents(\n",
    "#                 batch_size * num_images_per_prompt,\n",
    "#                 num_channels_latents,\n",
    "#                 height,\n",
    "#                 width,\n",
    "#                 prompt_embeds.dtype,\n",
    "#                 device,\n",
    "#                 generator,\n",
    "#                 latents,\n",
    "#             )\n",
    "            \n",
    "            \n",
    "            \n",
    "            \n",
    "            # Sample noise that we'll add to the latents\n",
    "            noise = torch.randn_like(latents)\n",
    "            bsz = latents.shape[0]\n",
    "            # Sample a random timestep for each image\n",
    "            timesteps = torch.randint(0, noise_scheduler.config.num_train_timesteps, (bsz,), device=latents.device)\n",
    "            timesteps = timesteps.long()\n",
    "\n",
    "            # Add noise to the latents according to the noise magnitude at each timestep\n",
    "            # (this is the forward diffusion process)\n",
    "            noisy_latents = noise_scheduler.add_noise(latents, noise, timesteps)\n",
    "\n",
    "            # Get the text embedding for conditioning\n",
    "            encoder_hidden_states = text_encoder(batch[\"input_ids\"])[0]\n",
    "\n",
    "            # controlnet_image = batch[\"conditioning_pixel_values\"].to(dtype=weight_dtype)\n",
    "\n",
    "#             down_block_res_samples, mid_block_res_sample = controlnet(\n",
    "#                 noisy_latents,\n",
    "#                 timesteps,\n",
    "#                 encoder_hidden_states=encoder_hidden_states,\n",
    "#                 controlnet_cond=controlnet_image,\n",
    "#                 return_dict=False,\n",
    "#             )\n",
    "\n",
    "#             # Predict the noise residual\n",
    "#             model_pred = unet(\n",
    "#                 noisy_latents,\n",
    "#                 timesteps,\n",
    "#                 encoder_hidden_states=encoder_hidden_states,\n",
    "#                 down_block_additional_residuals=[\n",
    "#                     sample.to(dtype=weight_dtype) for sample in down_block_res_samples\n",
    "#                 ],\n",
    "#                 mid_block_additional_residual=mid_block_res_sample.to(dtype=weight_dtype),\n",
    "#             ).sample\n",
    "            \n",
    "    \n",
    "            # 7. Denoising loop\n",
    "            adapter_state = self.adapter(adapter_input)\n",
    "            for k, v in enumerate(adapter_state):\n",
    "                adapter_state[k] = v * adapter_conditioning_scale\n",
    "            if num_images_per_prompt > 1:\n",
    "                for k, v in enumerate(adapter_state):\n",
    "                    adapter_state[k] = v.repeat(num_images_per_prompt, 1, 1, 1)\n",
    "            if do_classifier_free_guidance:\n",
    "                for k, v in enumerate(adapter_state):\n",
    "                    adapter_state[k] = torch.cat([v] * 2, dim=0)\n",
    "\n",
    "            ## expand the latents if we are doing classifier free guidance\n",
    "            latent_model_input = torch.cat([latents] * 2) if do_classifier_free_guidance else latents\n",
    "\n",
    "            # predict the noise residual\n",
    "            noise_pred = unet(\n",
    "                    latent_model_input,\n",
    "                    t,\n",
    "                    encoder_hidden_states=prompt_embeds,\n",
    "                    cross_attention_kwargs=cross_attention_kwargs,\n",
    "                    down_block_additional_residuals=[state.clone() for state in adapter_state],\n",
    "            ).sample\n",
    "    \n",
    "            # Add something here that is consistent with increasing the dimensionality of the model from three to four dimensions\n",
    "            # something like noisy_out = depth_conv(noise_pred)\n",
    "            \n",
    "            \n",
    "            # Get the target for loss depending on the prediction type\n",
    "            if noise_scheduler.config.prediction_type == \"epsilon\":\n",
    "                target = noise\n",
    "            elif noise_scheduler.config.prediction_type == \"v_prediction\":\n",
    "                target = noise_scheduler.get_velocity(latents, noise, timesteps)\n",
    "            else:\n",
    "                raise ValueError(f\"Unknown prediction type {noise_scheduler.config.prediction_type}\")\n",
    "            loss = F.mse_loss(model_pred.float(), target.float(), reduction=\"mean\")\n",
    "\n",
    "            # loss backward\n",
    "            # accelerator.backward(loss)\n",
    "            # if accelerator.sync_gradients:\n",
    "            #     params_to_clip = controlnet.parameters()\n",
    "            #     accelerator.clip_grad_norm_(params_to_clip, args.max_grad_norm)\n",
    "            optimizer.step()\n",
    "            lr_scheduler.step()\n",
    "            optimizer.zero_grad(set_to_none=args.set_grads_to_none)\n",
    "\n",
    "        # Checks if the accelerator has performed an optimization step behind the scenes\n",
    "        if accelerator.sync_gradients:\n",
    "            progress_bar.update(1)\n",
    "            global_step += 1\n",
    "\n",
    "            if accelerator.is_main_process:\n",
    "                if global_step % args.checkpointing_steps == 0:\n",
    "                    # _before_ saving state, check if this save would set us over the `checkpoints_total_limit`\n",
    "                    if args.checkpoints_total_limit is not None:\n",
    "                        checkpoints = os.listdir(args.output_dir)\n",
    "                        checkpoints = [d for d in checkpoints if d.startswith(\"checkpoint\")]\n",
    "                        checkpoints = sorted(checkpoints, key=lambda x: int(x.split(\"-\")[1]))\n",
    "\n",
    "                        # before we save the new checkpoint, we need to have at _most_ `checkpoints_total_limit - 1` checkpoints\n",
    "                        if len(checkpoints) >= args.checkpoints_total_limit:\n",
    "                            num_to_remove = len(checkpoints) - args.checkpoints_total_limit + 1\n",
    "                            removing_checkpoints = checkpoints[0:num_to_remove]\n",
    "\n",
    "                            logger.info(\n",
    "                                f\"{len(checkpoints)} checkpoints already exist, removing {len(removing_checkpoints)} checkpoints\"\n",
    "                            )\n",
    "                            logger.info(f\"removing checkpoints: {', '.join(removing_checkpoints)}\")\n",
    "\n",
    "                            for removing_checkpoint in removing_checkpoints:\n",
    "                                removing_checkpoint = os.path.join(args.output_dir, removing_checkpoint)\n",
    "                                shutil.rmtree(removing_checkpoint)\n",
    "\n",
    "                    save_path = os.path.join(args.output_dir, f\"checkpoint-{global_step}\")\n",
    "                    accelerator.save_state(save_path)\n",
    "                    logger.info(f\"Saved state to {save_path}\")\n",
    "\n",
    "                if args.validation_prompt is not None and global_step % args.validation_steps == 0:\n",
    "                    image_logs = log_validation(\n",
    "                        vae,\n",
    "                        text_encoder,\n",
    "                        tokenizer,\n",
    "                        unet,\n",
    "                        controlnet,\n",
    "                        args,\n",
    "                        accelerator,\n",
    "                        weight_dtype,\n",
    "                        global_step,\n",
    "                    )\n",
    "\n",
    "        logs = {\"loss\": loss.detach().item(), \"lr\": lr_scheduler.get_last_lr()[0]}\n",
    "        progress_bar.set_postfix(**logs)\n",
    "        accelerator.log(logs, step=global_step)\n",
    "\n",
    "        if global_step >= args.max_train_steps:\n",
    "            break\n",
    "\n",
    "# Create the pipeline using using the trained modules and save it.\n",
    "accelerator.wait_for_everyone()\n",
    "if accelerator.is_main_process:\n",
    "    controlnet = accelerator.unwrap_model(controlnet)\n",
    "    controlnet.save_pretrained(args.output_dir)\n",
    "\n",
    "    if args.push_to_hub:\n",
    "        save_model_card(\n",
    "            repo_id,\n",
    "            image_logs=image_logs,\n",
    "            base_model=args.pretrained_model_name_or_path,\n",
    "            repo_folder=args.output_dir,\n",
    "        )\n",
    "        upload_folder(\n",
    "            repo_id=repo_id,\n",
    "            folder_path=args.output_dir,\n",
    "            commit_message=\"End of training\",\n",
    "            ignore_patterns=[\"step_*\", \"epoch_*\"],\n",
    "        )\n",
    "\n",
    "accelerator.end_training()"
   ]
  },
  {
   "cell_type": "code",
   "execution_count": null,
   "id": "b9511d74-c451-4257-8750-7b51d3d97c95",
   "metadata": {},
   "outputs": [],
   "source": []
  },
  {
   "cell_type": "code",
   "execution_count": null,
   "id": "aceecab0-bc05-4d09-9ff9-8f2cf6a041bb",
   "metadata": {},
   "outputs": [],
   "source": []
  }
 ],
 "metadata": {
  "kernelspec": {
   "display_name": "Python 3",
   "language": "python",
   "name": "python3"
  },
  "language_info": {
   "codemirror_mode": {
    "name": "ipython",
    "version": 3
   },
   "file_extension": ".py",
   "mimetype": "text/x-python",
   "name": "python",
   "nbconvert_exporter": "python",
   "pygments_lexer": "ipython3",
   "version": "3.8.8"
  }
 },
 "nbformat": 4,
 "nbformat_minor": 5
}
