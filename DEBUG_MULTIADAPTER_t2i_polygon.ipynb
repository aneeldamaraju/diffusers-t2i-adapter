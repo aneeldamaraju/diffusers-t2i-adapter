{
 "cells": [
  {
   "cell_type": "markdown",
   "id": "7804df82-9664-40c5-b6c8-c787c2037212",
   "metadata": {},
   "source": [
    "## Imports and helper functions"
   ]
  },
  {
   "cell_type": "code",
   "execution_count": 20,
   "id": "03d2a93a-8a00-4de8-b4ad-bd0ce0ed082d",
   "metadata": {},
   "outputs": [],
   "source": [
    "from transformers import CLIPFeatureExtractor, CLIPTextModel, CLIPTokenizer\n",
    "\n",
    "from diffusers import (\n",
    "    AutoencoderKL,\n",
    "    T2IAdapter,\n",
    "    MultiAdapter,\n",
    "    StableDiffusionAdapterPipeline,\n",
    "    DDPMScheduler\n",
    ")\n",
    "\n",
    "import torch\n",
    "from torchvision import transforms\n",
    "from torch.utils.data import Dataset\n",
    "import torch.nn.functional as F\n",
    "from tqdm.auto import tqdm\n",
    "from diffusers.optimization import get_scheduler"
   ]
  },
  {
   "cell_type": "code",
   "execution_count": 21,
   "id": "82cc191f-074b-4e42-91ee-5f2567a403a5",
   "metadata": {},
   "outputs": [],
   "source": [
    "from types import SimpleNamespace\n",
    "from datasets import load_dataset\n",
    "\n",
    "#Generate an arg list \n",
    "\n",
    "args = SimpleNamespace()\n",
    "\n",
    "#Dataset generation args\n",
    "args.dataset_name = \"fusing/fill50k\"\n",
    "args.train_data_dir = None #\"../ControlNet/training/fill50k\"\n",
    "args.dataset_config_name=None\n",
    "args.cache_dir = None\n",
    "args.image_column = \"image\"\n",
    "args.caption_column = \"text\"\n",
    "args.conditioning_image_column = \"conditioning_image\"\n",
    "args.resolution = 512\n",
    "args.max_train_samples = 1000\n",
    "args.seed = None\n",
    "args.train_batch_size = 4\n",
    "args.dataloader_num_workers = 0\n",
    "\n",
    "#Training args\n",
    "args.num_train_epochs = 200\n",
    "args.max_train_steps = 1000\n",
    "args.gradient_accumulation_steps = 1\n",
    "args.do_classifier_free_guidance= False\n",
    "args.validation_steps = 1\n",
    "args.set_grads_to_none = False\n",
    "#learning rate\n",
    "args.lr_scheduler = \"constant\"\n",
    "args.lr_num_cycles = 1\n",
    "args.lr_power = 1\n",
    "args.lr_warmup_steps = 500\n",
    "args.lr = 1e-5\n",
    "\n",
    "#Validation args\n",
    "args.seed = None\n",
    "\n",
    "#adapter args\n",
    "args.adapter_conditioning_scale = 1.0\n",
    "args.num_images_per_prompt = 1"
   ]
  },
  {
   "cell_type": "markdown",
   "id": "7418c0fc-770e-43dc-8849-34ba75385e59",
   "metadata": {
    "tags": []
   },
   "source": [
    "## Generate training dataset"
   ]
  },
  {
   "cell_type": "markdown",
   "id": "00651edd-4743-425b-9d1d-faf0b7abea45",
   "metadata": {
    "tags": []
   },
   "source": [
    "### Generate base images first"
   ]
  },
  {
   "cell_type": "code",
   "execution_count": 22,
   "id": "ce4020bf-7bbf-418c-af38-1dd644e3c6cf",
   "metadata": {},
   "outputs": [
    {
     "data": {
      "text/plain": [
       "(-0.5, 511.5, 511.5, -0.5)"
      ]
     },
     "execution_count": 22,
     "metadata": {},
     "output_type": "execute_result"
    },
    {
     "data": {
      "image/png": "[encoded data removed]",
      "text/plain": [
       "<Figure size 432x288 with 2 Axes>"
      ]
     },
     "metadata": {},
     "output_type": "display_data"
    },
    {
     "data": {
      "image/png": "[encoded data removed]",
      "text/plain": [
       "<Figure size 432x288 with 3 Axes>"
      ]
     },
     "metadata": {},
     "output_type": "display_data"
    },
    {
     "data": {
      "image/png": "[encoded data removed]",
      "text/plain": [
       "<Figure size 432x288 with 1 Axes>"
      ]
     },
     "metadata": {
      "needs_background": "light"
     },
     "output_type": "display_data"
    }
   ],
   "source": [
    "#Generate some generic training data real quick\n",
    "\n",
    "\n",
    "import numpy as np \n",
    "import cv2\n",
    "import matplotlib.pyplot as plt\n",
    "\n",
    "def generate_triangle_sdf(H,W):\n",
    "    \n",
    "    EPS = 1e-12\n",
    "    x_pos, y_pos = np.meshgrid(np.linspace(0, (H-1), H),np.linspace(0, (W-1), W))\n",
    "\n",
    "    thresh = int(.2*W)\n",
    "    len_thresh = thresh*2\n",
    "    img_np = np.zeros((H, W), dtype=np.uint8)\n",
    "    valid2 = False\n",
    "    valid3 = False\n",
    "    while valid2 == False or valid3 == False:\n",
    "        x_1 = int(np.random.uniform(thresh,H-thresh))\n",
    "        y_1 = int(np.random.uniform(thresh,W-thresh))\n",
    "\n",
    "        #Compute a second point for the triangle\n",
    "        x_2 = int(np.random.uniform(thresh,H-thresh))\n",
    "        y_2 = int(np.random.uniform(thresh,W-thresh))\n",
    "        idx = 0 \n",
    "        while np.linalg.norm(np.array([x_1,y_1]) - np.array([x_2,y_2])) < len_thresh:\n",
    "            if idx < 50:\n",
    "                x_2 = int(np.random.uniform(thresh,H-thresh))\n",
    "                y_2 = int(np.random.uniform(thresh,W-thresh))\n",
    "                valid2 = True\n",
    "            else:\n",
    "                valid2 = False\n",
    "                break\n",
    "\n",
    "        x_3 = int(np.random.uniform(thresh,H-thresh))\n",
    "        y_3 = int(np.random.uniform(thresh,W-thresh))\n",
    "        idx = 0\n",
    "        while (np.linalg.norm(np.array([x_1,y_1]) - np.array([x_3,y_3])) < len_thresh) or (np.linalg.norm(np.array([x_2,y_2]) - np.array([x_3,y_3])) < len_thresh):\n",
    "            idx = idx +1\n",
    "            if idx < 50:\n",
    "                x_3 = int(np.random.uniform(thresh,H-thresh))\n",
    "                y_3 = int(np.random.uniform(thresh,W-thresh)) \n",
    "                valid3 = True\n",
    "            else:\n",
    "                valid3 = False\n",
    "                break\n",
    "    \n",
    "    pts_inp = np.array([[x_1, y_1], [x_2, y_2], [x_3, y_3]])\n",
    "    \n",
    "    oop_normal = [0,0,1]\n",
    "    \n",
    "    n = np.cross([x_1-x_2,y_1-y_2,0], [x_3-x_2,y_3-y_2])\n",
    "    \n",
    "    if np.dot(n,oop_normal) < 0:\n",
    "        pts_inp = pts_inp[[0,2,1],:]\n",
    "        x_2,y_2 = pts_inp[1,:]\n",
    "        x_3,y_3 = pts_inp[2,:]\n",
    "        \n",
    "    normals = []\n",
    "    ix_12 = np.linspace(x_1,x_2,500)\n",
    "    m_12 = (y_2-y_1)/(x_2-x_1 + EPS)\n",
    "    iy_12 = y_2 + m_12*(ix_12 - x_2)\n",
    "    out_12 =  np.array([[x, y] for (x, y) in zip(ix_12, iy_12)])\n",
    "    norm_12 = [np.arctan2(y_2-y_1, x_2-x_1)+np.pi/2] * len(ix_12)\n",
    "    normals.extend(norm_12)\n",
    "    \n",
    "    ix_23 = np.linspace(x_2,x_3,500)\n",
    "    m_23 = (y_3-y_2)/(x_3-x_2 + EPS)\n",
    "    iy_23 = y_3 + m_23*(ix_23 - x_3)\n",
    "    out_23 =  np.array([[x, y] for (x, y) in zip(ix_23, iy_23)])\n",
    "    norm_23 = [np.arctan2(y_3-y_2, x_3-x_2)+np.pi/2] * len(ix_23)\n",
    "    normals.extend(norm_23)\n",
    "    \n",
    "    ix_31 = np.linspace(x_3,x_1,500)\n",
    "    m_31 = (y_1-y_3)/(x_1-x_3 + EPS)\n",
    "    iy_31 = y_1 + m_31*(ix_31 - x_1)\n",
    "    out_31 =  np.array([[x, y] for (x, y) in zip(ix_31, iy_31)])\n",
    "    norm_31 = [np.arctan2(y_1-y_3, x_1-x_3)+np.pi/2] * len(ix_31)\n",
    "    normals.extend(norm_31)\n",
    "    \n",
    "    #Combine all 3 ouputs\n",
    "    out_pts = np.concatenate([out_12,out_23,out_31],axis=0)\n",
    "    out_pts = out_pts.reshape((1, -1, 2))\n",
    "\n",
    "    \n",
    "    pts = pts_inp.reshape((1,-1,2))\n",
    "    cv2.fillPoly(img_np, pts, color=255, lineType=cv2.LINE_AA)\n",
    "    img = img_np.reshape(img_np.shape[0],img_np.shape[1],1)\n",
    "    img = np.asarray(img/255.0,dtype=np.float32)\n",
    "    img = np.asarray(img>.5,dtype=np.float32)\n",
    "    normals = np.asarray(normals)\n",
    "    \n",
    "    return img, out_pts, normals\n",
    "\n",
    "H=W=512\n",
    "\n",
    "plt.figure()\n",
    "plt.subplot(122)\n",
    "img,out_pts,normals = generate_triangle_sdf(H,W)\n",
    "img = 1 - img\n",
    "first_img = (np.repeat(img,3,-1)* 255).astype(np.uint8)\n",
    "plt.imshow(first_img)\n",
    "plt.xticks([]); plt.yticks([])\n",
    "mask_img,_,_ = generate_triangle_sdf(H,W)\n",
    "mask_img = mask_img[:,:,0].astype(int)\n",
    "plt.title('Occluded layer')\n",
    "\n",
    "masked_img = np.copy(img)\n",
    "masked_img[mask_img==1] = .5\n",
    "\n",
    "\n",
    "plt.subplot(121)\n",
    "plt.imshow((np.repeat(masked_img,3,-1)* 255).astype(np.uint8),cmap='gray_r')\n",
    "plt.xticks([]); plt.yticks([])\n",
    "plt.title('Input image')\n",
    "\n",
    "plt.figure()\n",
    "plt.subplot(131)\n",
    "fg_layer = mask_img\n",
    "plt.imshow(fg_layer,cmap='gray',vmin=0,vmax=1)\n",
    "plt.xticks([]);plt.yticks([]);\n",
    "plt.title('Foreground mask')\n",
    "\n",
    "plt.subplot(132)\n",
    "mid_layer = (1-img).squeeze()\n",
    "plt.imshow(mid_layer,cmap='gray',vmin=0,vmax=1)\n",
    "plt.xticks([]);plt.yticks([]);\n",
    "plt.title('Midground mask')\n",
    "\n",
    "plt.subplot(133)\n",
    "bg_layer = np.ones(mid_layer.shape)\n",
    "plt.imshow(bg_layer,cmap='gray',vmin=0,vmax=1)\n",
    "plt.xticks([]);plt.yticks([]);\n",
    "plt.title('Background mask')\n",
    "\n",
    "plt.figure()\n",
    "layer_img = np.stack([fg_layer,mid_layer,bg_layer],axis=-1)\n",
    "plt.imshow(layer_img)\n",
    "plt.axis('off')"
   ]
  },
  {
   "cell_type": "code",
   "execution_count": 23,
   "id": "275b0c93-bb83-467b-8efa-a756672b7d6a",
   "metadata": {},
   "outputs": [
    {
     "data": {
      "image/png": "[encoded data removed]",
      "text/plain": [
       "<Figure size 432x288 with 9 Axes>"
      ]
     },
     "metadata": {},
     "output_type": "display_data"
    }
   ],
   "source": [
    "#Generate some generic training data real quick\n",
    "\n",
    "import numpy as np \n",
    "import cv2\n",
    "import matplotlib.pyplot as plt\n",
    "\n",
    "def create_polygon(center, min_radius, max_radius, color, H=H,W=W):\n",
    "    num_sides = 3# np.random.randint(6, 10)  # Random number of sides between 3 and 10\n",
    "    angles = [np.random.randn()/8 + .5 for _ in range(num_sides)]\n",
    "    angles = angles /  np.sum(angles) * np.pi *2\n",
    "    angles = np.cumsum(angles)\n",
    "    \n",
    "    \n",
    "    # Generate random radii for the vertices\n",
    "    radii = [np.random.uniform(min_radius, max_radius) for _ in range(num_sides)]\n",
    "\n",
    "    # Calculate the vertex coordinates\n",
    "    vertices = []\n",
    "    for i in range(num_sides):\n",
    "        angle = angles[i]  #\n",
    "        radius = radii[i]\n",
    "        x = center[0] + radius * np.cos(angle)\n",
    "        y = center[1] + radius * np.sin(angle)\n",
    "        vertices.append((x, y))\n",
    "\n",
    "    # Close the polygon by connecting the last vertex to the first vertex\n",
    "    vertices.append(vertices[0])\n",
    "    \n",
    "    mask = np.zeros((H, W,1), dtype=np.uint8)\n",
    "    cv2.fillPoly(mask, [np.array(vertices, dtype=np.int32)], 255)\n",
    "\n",
    "    \n",
    "    poly_img = np.zeros((H, W,3), dtype=np.uint8)\n",
    "    cv2.fillPoly(poly_img, [np.array(vertices, dtype=np.int32)], color)\n",
    "    return vertices, mask, poly_img\n",
    "\n",
    "\n",
    "def generate_overlapping_polygons(H,W,num_polygons = 3):\n",
    "    \n",
    "    img_np = np.zeros((H, W,3), dtype=np.uint8)\n",
    "    \n",
    "    # Get the matplotlib colormap\n",
    "    colormap = plt.get_cmap(\"tab20\")\n",
    "    polygons = []\n",
    "    masks = []\n",
    "\n",
    "    for _ in range(num_polygons):\n",
    "        center_point = (np.random.uniform(H*.4,H*.6), np.random.uniform(W*.4,W*.6))\n",
    "        minimum_radius = np.random.uniform(H*.15, H*.2)\n",
    "        maximum_radius = np.random.uniform(H*.3, H*.4)\n",
    "\n",
    "        # Generate a random color index within the colormap range\n",
    "        color_index = np.random.randint(0, 20)\n",
    "        color = colormap(color_index)\n",
    "\n",
    "        # Convert the color from the range [0, 1] to [0, 255]\n",
    "        color = tuple(int(c * 255) for c in color)\n",
    "        # Convert the vertices to an array of integers\n",
    "        vertices, mask,polygon =  create_polygon(center_point, minimum_radius, maximum_radius,color)\n",
    "        vertices_int = np.array(vertices, dtype=np.int32)\n",
    "\n",
    "        # Draw the filled polygon on the canvas\n",
    "        cv2.fillPoly(img_np, [vertices_int], color)\n",
    "        \n",
    "        polygons.append(polygon)\n",
    "        masks.append(mask)\n",
    "\n",
    "    img = img_np.reshape(img_np.shape[0],img_np.shape[1],3)\n",
    "    img = np.asarray(img/255.0,dtype=np.float32)\n",
    "    # img = np.asarray(img>.5,dtype=np.float32)\n",
    "    \n",
    "    masks.reverse()\n",
    "    polygons.reverse()\n",
    "    \n",
    "    return img, masks, polygons\n",
    "\n",
    "for itr in range(9):\n",
    "    plt.subplot(3,3,itr+1)\n",
    "    img, masks, polygons = generate_overlapping_polygons(H,W,3)\n",
    "    plt.xticks([]); plt.yticks([]);\n",
    "    plt.imshow(img)"
   ]
  },
  {
   "cell_type": "code",
   "execution_count": 24,
   "id": "940fa854-653e-45eb-9264-c2b9decb91ba",
   "metadata": {},
   "outputs": [],
   "source": [
    "def combine_masks(binary_masks, index):\n",
    "    '''\n",
    "    input: binary_masks, size B x Layers x C x H x W\n",
    "    '''\n",
    "    \n",
    "    combined_list = []\n",
    "    for batch_id in range(binary_masks.shape[0]):\n",
    "        combined_mask = torch.zeros_like(binary_masks[0,0,...], dtype=torch.uint8)\n",
    "        for i in range(index):\n",
    "            combined_mask = torch.logical_or(combined_mask, binary_masks[batch_id,i,...])\n",
    "        combined_list.append(combined_mask)\n",
    "    return torch.stack(combined_list)\n",
    "\n",
    "\n",
    "# combined_mask = combine_masks(torch.tensor(masks).squeeze().unsqueeze(0),2)\n",
    "\n",
    "# plt.imshow(combined_mask.squeeze(),cmap='gray')"
   ]
  },
  {
   "cell_type": "code",
   "execution_count": 25,
   "id": "726f66e8-d1f2-46f5-89c3-01635240bdd3",
   "metadata": {},
   "outputs": [
    {
     "data": {
      "image/png": "[encoded data removed]",
      "text/plain": [
       "<Figure size 432x288 with 2 Axes>"
      ]
     },
     "metadata": {
      "needs_background": "light"
     },
     "output_type": "display_data"
    },
    {
     "data": {
      "image/png": "[encoded data removed]",
      "text/plain": [
       "<Figure size 432x288 with 2 Axes>"
      ]
     },
     "metadata": {
      "needs_background": "light"
     },
     "output_type": "display_data"
    },
    {
     "data": {
      "image/png": "[encoded data removed]",
      "text/plain": [
       "<Figure size 432x288 with 2 Axes>"
      ]
     },
     "metadata": {
      "needs_background": "light"
     },
     "output_type": "display_data"
    }
   ],
   "source": [
    "for mask,polygon in zip(masks,polygons):\n",
    "    plt.figure()\n",
    "    plt.subplot(121)\n",
    "    plt.imshow(mask,cmap='gray')\n",
    "    plt.axis('off')\n",
    "    \n",
    "    plt.subplot(122)\n",
    "    plt.imshow(polygon)\n",
    "    plt.axis('off')"
   ]
  },
  {
   "cell_type": "code",
   "execution_count": null,
   "id": "9e7077a8-9412-47a9-8962-21976d5cdcf8",
   "metadata": {},
   "outputs": [
    {
     "name": "stdout",
     "output_type": "stream",
     "text": [
      "0\n",
      "200\n",
      "400\n",
      "600\n"
     ]
    }
   ],
   "source": [
    "DATASET_SIZE=1000\n",
    "H=W=512\n",
    "\n",
    "layer_binaries = []\n",
    "layer_imgs = []\n",
    "base_imgs = []\n",
    "\n",
    "def gray2rgb(img):\n",
    "    return (np.repeat(img,3,-1)* 255).astype(np.uint8)\n",
    "\n",
    "for itr in range(DATASET_SIZE):\n",
    "    img, masks, polygons = generate_overlapping_polygons(H,W,3)\n",
    "    \n",
    "    #add to lists\n",
    "    layer_binaries.append(gray2rgb(masks))\n",
    "    layer_imgs.append(polygons)\n",
    "    base_imgs.append(img)\n",
    "    \n",
    "    if itr%200 == 0:\n",
    "        print(itr)\n",
    "    "
   ]
  },
  {
   "cell_type": "code",
   "execution_count": null,
   "id": "56b489f3-4420-48e6-81b3-5ed9846fc792",
   "metadata": {},
   "outputs": [],
   "source": [
    "# # Also need to generate some utils for the training for the layering maps\n",
    "# # For example need some code that combines all layer maps below a layer and all above a layer\n",
    "# # Also need analagous code that does this for the layered  objects in the image\n",
    "\n",
    "# def get_front_layers(layer_imgs, layer_bin, layer_no):\n",
    "#     num_layers = len(layer_imgs) -1 #subtract 1 for loops??\n",
    "#     front_layers = np.ones(layer_imgs[0].shape)\n",
    "#     front_bin = np.zeros(layer_bin.shape)\n",
    "#     if layer_no == num_layers:\n",
    "#         return front_layers,front_bin\n",
    "#     else:\n",
    "#         for layer_idx in range(layer_no,num_layers):\n",
    "#             front_layers[layer_bin==1,:] = layer_imgs[layer_bin==1,:]\n",
    "#             front_bin[layer_bin==1] = 1\n",
    "#         return front_layers,front_bin\n",
    "        \n",
    "\n",
    "# def get_back_layer(layer_imgs, layer_bin, layer_no):\n",
    "#     num_layers = len(layer_imgs) - 1\n",
    "#     back_layers = np.ones(layer_imgs[0].shape)\n",
    "#     back_bin = np.zeros(layer_bin.shape)\n",
    "#     for layer_idx in range(layer_no):\n",
    "#         #FINISH / FIX THIS CODE AT SOMEPOINT\n",
    "#         front_layers[layer_bin==1,:] = layer_imgs[layer_bin==1,:]\n",
    "#         front_bin[layer_bin==1] = 1\n",
    "#     return front_layers,front_bin"
   ]
  },
  {
   "cell_type": "markdown",
   "id": "680a5fc3-d250-440b-9553-d951055f9009",
   "metadata": {
    "tags": []
   },
   "source": [
    "### Put data into dataset objects"
   ]
  },
  {
   "cell_type": "code",
   "execution_count": null,
   "id": "a412e66a-6b81-44f0-9ffd-fbb4eae7ac58",
   "metadata": {},
   "outputs": [],
   "source": [
    "#Define image transforms\n",
    "\n",
    "image_transforms = transforms.Compose(\n",
    "    [\n",
    "        transforms.ToPILImage(),\n",
    "        transforms.Resize(args.resolution, interpolation=transforms.InterpolationMode.BILINEAR),\n",
    "        transforms.CenterCrop(args.resolution),\n",
    "        transforms.ToTensor(),\n",
    "        transforms.Normalize([0.5], [0.5]),\n",
    "    ]\n",
    ")\n",
    "\n",
    "conditioning_image_transforms = transforms.Compose(\n",
    "    [\n",
    "        transforms.ToPILImage(),\n",
    "        transforms.Resize(args.resolution, interpolation=transforms.InterpolationMode.BILINEAR),\n",
    "        transforms.CenterCrop(args.resolution),\n",
    "        transforms.ToTensor(),\n",
    "    ]\n",
    ")"
   ]
  },
  {
   "cell_type": "code",
   "execution_count": null,
   "id": "1d502d9c-7b20-4660-a885-419ba1e32030",
   "metadata": {},
   "outputs": [],
   "source": [
    "# Create a dataset class\n",
    "class LayerDataset(Dataset):\n",
    "    def __init__(self,base_imgs,layer_imgs,layer_binaries):\n",
    "        self.data = list(zip(base_imgs,layer_imgs,layer_binaries))\n",
    "        \n",
    "    def __len__(self):\n",
    "        return len(self.data)\n",
    "\n",
    "    def __getitem__(self, idx):\n",
    "        item = self.data[idx]\n",
    "        prompt = 'an object on a black background'\n",
    "\n",
    "        source = item[0]\n",
    "        targets = item[1]\n",
    "        masks = item[2]\n",
    "        \n",
    "        #Convert to torch tensors and apply image transforms\n",
    "        source = torch.tensor(source).permute(2,0,1)\n",
    "        source = conditioning_image_transforms(source)\n",
    "\n",
    "        target_list = []\n",
    "        for target in targets:\n",
    "            target_list.append(image_transforms(255*torch.tensor(target).permute(2,0,1)))\n",
    "        target_tensor = torch.stack(target_list)\n",
    "        \n",
    "        mask_list = []\n",
    "        for mask in masks:\n",
    "            mask_list.append(conditioning_image_transforms(255*torch.tensor(mask).permute(2,0,1)))\n",
    "        mask_tensor = torch.stack(mask_list)\n",
    "\n",
    "        return dict(pixel_values=target_tensor, pixel_binaries =mask_tensor,  txt=prompt, conditioning_pixel_values=source)"
   ]
  },
  {
   "cell_type": "code",
   "execution_count": null,
   "id": "ff8e0a6d-f125-4ae5-95a1-2cfa34d539c4",
   "metadata": {},
   "outputs": [],
   "source": [
    "def collate_fn(examples):\n",
    "    pixel_values = torch.stack([example[\"pixel_values\"] for example in examples])\n",
    "    pixel_values = pixel_values.to(memory_format=torch.contiguous_format).float()\n",
    "\n",
    "    conditioning_pixel_values = torch.stack([example[\"conditioning_pixel_values\"] for example in examples])\n",
    "    conditioning_pixel_values = conditioning_pixel_values.to(memory_format=torch.contiguous_format).float()\n",
    "\n",
    "    pixel_binaries = torch.stack([example[\"pixel_binaries\"] for example in examples])\n",
    "    pixel_binaries = pixel_binaries.to(memory_format=torch.contiguous_format).float()\n",
    "    # input_ids = torch.stack([example[\"input_ids\"] for example in examples])\n",
    "\n",
    "    return {\n",
    "        \"pixel_values\": pixel_values,\n",
    "        \"conditioning_pixel_values\": conditioning_pixel_values,\n",
    "        \"pixel_binaries\": pixel_binaries,\n",
    "        # \"input_ids\": input_ids,\n",
    "    }\n"
   ]
  },
  {
   "cell_type": "code",
   "execution_count": null,
   "id": "e9512576-262d-4e7a-8a66-3b681be37eb6",
   "metadata": {},
   "outputs": [],
   "source": [
    "train_dataset =  LayerDataset(base_imgs,layer_imgs,layer_binaries)\n",
    "\n",
    "# plt.subplot(121)\n",
    "# plt.imshow(train_dataset[0]['pixel_values'].permute(1,2,0)/ 2 + 1/2)\n",
    "\n",
    "# plt.subplot(122)\n",
    "# plt.imshow(train_dataset[0]['conditioning_pixel_values'].permute(1,2,0))"
   ]
  },
  {
   "cell_type": "code",
   "execution_count": null,
   "id": "f77162e9-bbd2-42a1-bdc0-02e5cfc3c737",
   "metadata": {},
   "outputs": [],
   "source": [
    "train_dataloader = torch.utils.data.DataLoader(\n",
    "    train_dataset,\n",
    "    shuffle=True,\n",
    "    collate_fn=collate_fn,\n",
    "    batch_size=args.train_batch_size,\n",
    "    num_workers=args.dataloader_num_workers,\n",
    ")"
   ]
  },
  {
   "cell_type": "markdown",
   "id": "43cbe135-bcc4-4c84-9089-4dc418a50204",
   "metadata": {
    "tags": []
   },
   "source": [
    "### Create a subset of validation images"
   ]
  },
  {
   "cell_type": "code",
   "execution_count": null,
   "id": "485ca10c-44d7-4838-a7c1-4e1962644d50",
   "metadata": {},
   "outputs": [],
   "source": [
    "VALIDATION_SIZE=2\n",
    "H=W=512\n",
    "\n",
    "val_binaries = []\n",
    "val_layers = []\n",
    "val_imgs = []\n",
    "\n",
    "def gray2rgb(img):\n",
    "    return (np.repeat(img,3,-1)* 255).astype(np.uint8)\n",
    "\n",
    "for itr in range(VALIDATION_SIZE):\n",
    "    img, masks, polygons = generate_overlapping_polygons(H,W,3)\n",
    "    \n",
    "    #add to lists\n",
    "    val_binaries.append(gray2rgb(masks))\n",
    "    val_layers.append(polygons)\n",
    "    val_imgs.append(img)\n",
    "    \n",
    "#     if itr%200 == 0:\n",
    "#         print(itr)"
   ]
  },
  {
   "cell_type": "code",
   "execution_count": null,
   "id": "ef6462ff-ea36-4ada-aa8f-6ac9de8eee4d",
   "metadata": {},
   "outputs": [],
   "source": [
    "from PIL import Image\n",
    "\n",
    "val_imgs_PIL = []\n",
    "val_layers_PIL = []\n",
    "for idx in range(len(val_imgs)):\n",
    "    rint = np.random.randint(0,3)\n",
    "    val_imgs_PIL.append([Image.fromarray((val_imgs[idx]*255).astype(np.uint8)), Image.fromarray((val_binaries[idx][rint]*255).astype(np.uint8))])\n",
    "    val_layers_PIL.append(Image.fromarray(val_layers[idx][rint].astype(np.uint8)))\n",
    "    \n",
    "transform = transforms.Compose([transforms.PILToTensor()])\n",
    "val_set = []\n",
    "for imgs in val_imgs_PIL:\n",
    "    # val_set.append(imgs)\n",
    "    val_set.append(torch.cat([transform(img) for img in imgs],dim=0).unsqueeze(0))\n",
    "    \n",
    "args.validation_image = val_set\n",
    "args.validation_prompt = [\"picture of an object on a black background\"]\n",
    "args.num_validation_images = VALIDATION_SIZE"
   ]
  },
  {
   "cell_type": "code",
   "execution_count": null,
   "id": "8f563f67-4bb5-4321-9662-e8a183a106f6",
   "metadata": {},
   "outputs": [],
   "source": [
    "## Hard code some things for getting the first layer of each val_layers for now\n",
    "\n",
    "plt.subplot(221)\n",
    "plt.imshow(val_imgs_PIL[0][0])\n",
    "plt.xticks([]);plt.yticks([]);\n",
    "\n",
    "plt.subplot(222)\n",
    "plt.imshow(val_layers_PIL[0])\n",
    "plt.xticks([]);plt.yticks([]);\n",
    "\n",
    "plt.subplot(223)\n",
    "plt.imshow(val_imgs_PIL[1][0])\n",
    "plt.xticks([]);plt.yticks([]);\n",
    "\n",
    "plt.subplot(224)\n",
    "plt.imshow(val_layers_PIL[1])\n",
    "plt.xticks([]);plt.yticks([]);"
   ]
  },
  {
   "cell_type": "code",
   "execution_count": null,
   "id": "dd2b9610-2f38-4b33-b410-c640284e23c9",
   "metadata": {},
   "outputs": [],
   "source": [
    "# conditioning_image_transforms(np.array(val_imgs_PIL[0]))"
   ]
  },
  {
   "cell_type": "markdown",
   "id": "bf1cf04b-9400-4ba6-a406-2d65ba39c6a0",
   "metadata": {
    "tags": []
   },
   "source": [
    "## Implement the adapter models"
   ]
  },
  {
   "cell_type": "code",
   "execution_count": null,
   "id": "a1817a7a-6ae8-4c74-93fe-dc36f318696f",
   "metadata": {},
   "outputs": [],
   "source": [
    "import torch\n",
    "import torch.nn as nn\n",
    "\n",
    "## Network that takes 4 dimensional input and pushes it to 3 dimensions for the vae\n",
    "class ContractNet(nn.Module):\n",
    "    def __init__(self):\n",
    "        super(ContractNet, self).__init__()\n",
    "        self.conv = nn.Conv2d(4, 3, kernel_size=1)\n",
    "\n",
    "    def forward(self, x):\n",
    "        return self.conv(x)\n",
    "\n",
    "    \n",
    "\n",
    "## Network that takes 3 dimensional input and pushes it to 4 dimensions for model out\n",
    "class ExpandNet(nn.Module):\n",
    "    def __init__(self):\n",
    "        super(ExpandNet, self).__init__()\n",
    "        self.conv = nn.Conv2d(3, 4, kernel_size=1)\n",
    "\n",
    "    def forward(self, x):\n",
    "        return self.conv(x)\n"
   ]
  },
  {
   "cell_type": "code",
   "execution_count": null,
   "id": "0d58bbfc-ec06-42ee-8f25-0e7b5b22e583",
   "metadata": {},
   "outputs": [],
   "source": [
    "#Instantiate the two adapters and the pretrained model\n",
    "\n",
    "# An adapter that takes in the original image (or a subset of layers)\n",
    "RGB_adapter = T2IAdapter(channels_in=int(3), \n",
    "                       block_out_channels=[320, 640, 1280, 1280][:4], \n",
    "                       num_res_blocks=2, \n",
    "                       kernel_size=1, \n",
    "                       res_block_skip=True, \n",
    "                       use_conv=False)\n",
    "\n",
    "# An adapter that takes in the mask given by the layers above the current one\n",
    "mask_adapter = T2IAdapter(channels_in=int(3), \n",
    "                       block_out_channels=[320, 640, 1280, 1280][:4], \n",
    "                       num_res_blocks=2, \n",
    "                       kernel_size=1, \n",
    "                       res_block_skip=True, \n",
    "                       use_conv=False)\n",
    "\n",
    "#Combine them into a single adapter\n",
    "adapter = MultiAdapter([RGB_adapter,mask_adapter])\n",
    "# adapter = RGB_adapter\n",
    "\n",
    "#Instantiate the Convolutional layers\n",
    "# contract_layer = ContractNet()\n",
    "# expand_layer = ExpandNet()\n",
    "\n",
    "#Pretrained stable diffusion model that we will try not to touch (may end up changing the final conv_out though.\n",
    "#To be honest I am really hoping this works\n",
    "\n",
    "model_name = \"runwayml/stable-diffusion-v1-5\"\n",
    "pipe = StableDiffusionAdapterPipeline.from_pretrained(model_name, torch_dtype=torch.float32).to('cuda')\n",
    "pipe.safety_checker = None\n",
    "\n",
    "vae = pipe.vae\n",
    "unet = pipe.unet\n",
    "noise_scheduler = DDPMScheduler.from_pretrained(model_name, subfolder=\"scheduler\")\n",
    "\n",
    "## Not sure, do i turn off gradients for these networks? Probaly not in my optinion\n",
    "# vae.requires_grad_(False)\n",
    "# unet.requires_grad_(False)\n",
    "# text_encoder.requires_grad_(False)\n",
    "# also get the clip model because it matters probably....\n",
    "\n",
    "#But looks like it may not work as just the model for training so we have to separate it into parts for training anyway"
   ]
  },
  {
   "cell_type": "code",
   "execution_count": null,
   "id": "3b858c58-d6e5-4006-8532-a35066896acc",
   "metadata": {},
   "outputs": [],
   "source": [
    "#Random point, what if I dont do anything about the masking etc, and just try and make a model that removes the top object in a scene, or like just tries to get the layer mappings?"
   ]
  },
  {
   "cell_type": "markdown",
   "id": "6036cf0b-3ce3-44d4-b42b-154d20d29045",
   "metadata": {},
   "source": [
    "## Train the model"
   ]
  },
  {
   "cell_type": "markdown",
   "id": "324e10a3-3e60-4314-806b-26bd3bd3c065",
   "metadata": {
    "tags": []
   },
   "source": [
    "### TODO: Write a validation loop"
   ]
  },
  {
   "cell_type": "code",
   "execution_count": null,
   "id": "d903a7f3-9124-4b5a-8bea-814f144cf75e",
   "metadata": {},
   "outputs": [],
   "source": [
    "def log_validation(pipe, adapter, args, step=0,accelerator=None):\n",
    "    print(f\"step = {step}\")\n",
    "\n",
    "    # controlnet = accelerator.unwrap_model(controlnet)\n",
    "\n",
    "    pipe.adapter = adapter\n",
    "    # pipeline.scheduler = UniPCMultistepScheduler.from_config(pipeline.scheduler.config)\n",
    "    # pipeline = pipeline.to(accelerator.device)\n",
    "    # pipeline.set_progress_bar_config(disable=True)\n",
    "\n",
    "#     if args.enable_xformers_memory_efficient_attention:\n",
    "#         pipeline.enable_xformers_memory_efficient_attention()\n",
    "\n",
    "    if args.seed is None:\n",
    "        generator = None\n",
    "    else:\n",
    "        generator = torch.Generator(device=accelerator.device).manual_seed(args.seed)\n",
    "\n",
    "    if len(args.validation_image) == len(args.validation_prompt):\n",
    "        validation_images = args.validation_image\n",
    "        validation_prompts = args.validation_prompt\n",
    "    elif len(args.validation_image) == 1:\n",
    "        validation_images = args.validation_image * len(args.validation_prompt)\n",
    "        validation_prompts = args.validation_prompt\n",
    "    elif len(args.validation_prompt) == 1:\n",
    "        validation_images = args.validation_image\n",
    "        validation_prompts = args.validation_prompt * len(args.validation_image)\n",
    "    else:\n",
    "        raise ValueError(\n",
    "            \"number of `args.validation_image` and `args.validation_prompt` should be checked in `parse_args`\"\n",
    "        )\n",
    "\n",
    "    image_logs = []\n",
    "\n",
    "    for validation_prompt, validation_image in zip(validation_prompts, validation_images):\n",
    "        # validation_image = Image.open(validation_image).convert(\"RGB\")\n",
    "\n",
    "        images = []\n",
    "\n",
    "        for _ in range(args.num_validation_images):\n",
    "            print(validation_image.shape)\n",
    "            # print([preprocess(img) for img in validation_image.unsqueeze(0)][0].shape)\n",
    "            with torch.autocast(\"cuda\"):\n",
    "                image = pipe(\n",
    "                    validation_prompt, validation_image, num_inference_steps=20, generator=generator,adapter_conditioning_scale = [1.0,0.0]\n",
    "                ).images[0]\n",
    "\n",
    "            images.append(image)\n",
    "\n",
    "        image_logs.append(\n",
    "            {\"validation_image\": validation_image, \"images\": images, \"validation_prompt\": validation_prompt}\n",
    "        )\n",
    "    return image_logs\n",
    "\n",
    "# Here I need to make a set of images \n",
    "# Looks like top row, validation image *2, next validation image *2, bottom row is outputs\n",
    "\n",
    "def save_image_logs(image_logs,step=0):\n",
    "    plt.figure()\n",
    "    plt.subplot(241)\n",
    "    plt.imshow(image_logs[0]['validation_image'][0,:3,...].permute(1,2,0))\n",
    "    plt.subplot(242)\n",
    "    plt.imshow(image_logs[0]['validation_image'][0,:3,...].permute(1,2,0))\n",
    "    plt.subplot(243)\n",
    "    plt.imshow(image_logs[1]['validation_image'][0,:3,...].permute(1,2,0))\n",
    "    plt.subplot(244)\n",
    "    plt.imshow(image_logs[1]['validation_image'][0,:3,...].permute(1,2,0))\n",
    "\n",
    "    plt.subplot(245)\n",
    "    plt.imshow(image_logs[0]['images'][0])\n",
    "    plt.subplot(246)\n",
    "    plt.imshow(image_logs[0]['images'][1])\n",
    "    plt.subplot(247)\n",
    "    plt.imshow(image_logs[1]['images'][0])\n",
    "    plt.subplot(248)\n",
    "    plt.imshow(image_logs[1]['images'][1])\n",
    "\n",
    "    plt.setp(plt.gcf().get_axes(), xticks=[], yticks=[]);\n",
    "\n",
    "    plt.savefig(f'test_logs/v2_3_layer_training_epoch_{step}_val.png')"
   ]
  },
  {
   "cell_type": "code",
   "execution_count": null,
   "id": "25492198-5b05-488f-bf82-cece092e23a7",
   "metadata": {},
   "outputs": [],
   "source": [
    "log_validation(pipe, adapter, args)"
   ]
  },
  {
   "cell_type": "markdown",
   "id": "3a02b598-6e3f-4e60-96a0-1051c8f99c3c",
   "metadata": {},
   "source": [
    "### Actual training loop"
   ]
  },
  {
   "cell_type": "code",
   "execution_count": null,
   "id": "b76f417b-8a7c-4d9e-ac9b-23ca246a40bd",
   "metadata": {},
   "outputs": [],
   "source": [
    "from src.diffusers.models.modeling_utils import ModelMixin\n",
    "from typing import List, Optional\n",
    "\n",
    "class MultiAdapter(ModelMixin):\n",
    "    r\"\"\"\n",
    "    MultiAdapter is a wrapper model that contains multiple adapter models and merges their outputs according to\n",
    "    user-assigned weighting.\n",
    "\n",
    "    This model inherits from [`ModelMixin`]. Check the superclass documentation for the generic methods the library\n",
    "    implements for all the model (such as downloading or saving, etc.)\n",
    "\n",
    "    Parameters:\n",
    "        adapters (`List[T2IAdapter]`, *optional*, defaults to None):\n",
    "            A list of `T2IAdapter` model instances.\n",
    "    \"\"\"\n",
    "\n",
    "    def __init__(self, adapters: List[T2IAdapter]):\n",
    "        super(MultiAdapter, self).__init__()\n",
    "\n",
    "        self.num_adapter = len(adapters)\n",
    "        self.adapters = nn.ModuleList(adapters)\n",
    "\n",
    "    def forward(self, xs: torch.Tensor, adapter_weights: Optional[List[float]] = None) -> List[torch.Tensor]:\n",
    "        r\"\"\"\n",
    "        Args:\n",
    "            xs (`torch.Tensor`):\n",
    "                (batch, channel, height, width) input images for multiple adapter models concated along dimension 1,\n",
    "                `channel` should equal to `num_adapter` * \"number of channel of image\".\n",
    "            adapter_weights (`List[float]`, *optional*, defaults to None):\n",
    "                List of floats representing the weight which will be multiply to each adapter's output before adding\n",
    "                them together.\n",
    "        \"\"\"\n",
    "        if adapter_weights is None:\n",
    "            adapter_weights = torch.tensor([1 / self.num_adapter] * self.num_adapter)\n",
    "        else:\n",
    "            adapter_weights = torch.tensor(adapter_weights)\n",
    "\n",
    "        if xs.shape[1] % self.num_adapter != 0:\n",
    "            raise ValueError(\n",
    "                f\"Expecting multi-adapter's input have number of channel that cab be evenly divisible \"\n",
    "                f\"by num_adapter: {xs.shape[1]} % {self.num_adapter} != 0\"\n",
    "            )\n",
    "        x_list = torch.chunk(xs, self.num_adapter, dim=1)\n",
    "        accume_state = None\n",
    "        for x, w, adapter in zip(x_list, adapter_weights, self.adapters):\n",
    "            features = adapter(x)\n",
    "            if accume_state is None:\n",
    "                accume_state = features\n",
    "            else:\n",
    "                for i in range(len(features)):\n",
    "                    accume_state[i] = accume_state[i] + w * features[i]\n",
    "        return accume_state\n"
   ]
  },
  {
   "cell_type": "code",
   "execution_count": null,
   "id": "4a453e67-e269-401a-8060-669830655d34",
   "metadata": {},
   "outputs": [],
   "source": [
    "RGB_adapter = T2IAdapter(channels_in=int(3), \n",
    "                       block_out_channels=[320, 640, 1280, 1280][:4], \n",
    "                       num_res_blocks=2, \n",
    "                       kernel_size=1, \n",
    "                       res_block_skip=True, \n",
    "                       use_conv=False)\n",
    "\n",
    "# An adapter that takes in the mask given by the layers above the current one\n",
    "mask_adapter = T2IAdapter(channels_in=int(3), \n",
    "                       block_out_channels=[320, 640, 1280, 1280][:4], \n",
    "                       num_res_blocks=2, \n",
    "                       kernel_size=1, \n",
    "                       res_block_skip=True, \n",
    "                       use_conv=False)\n",
    "\n",
    "#Combine them into a single adapter\n",
    "\n",
    "adapter = MultiAdapter([RGB_adapter,mask_adapter])\n",
    "# adapters = [RGB_adapter,mask_adapter]\n",
    "\n",
    "# adapter = RGB_adapter"
   ]
  },
  {
   "cell_type": "code",
   "execution_count": null,
   "id": "22b83ac8-25c0-42f8-82c0-0509f147bf67",
   "metadata": {},
   "outputs": [],
   "source": [
    "#Put adapter on GPU\n",
    "# for adapter in adapters:\n",
    "adapter = adapter.to(\"cuda\")\n",
    "adapter.train()\n",
    "\n",
    "#Set optimizer class\n",
    "optimizer_class = torch.optim.AdamW\n",
    "\n",
    "#Get parameters to optimize\n",
    "# params_to_optimize = list(adapters[0].parameters()) + list(adapters[1].parameters())\n",
    "params_to_optimize = adapter.parameters()\n",
    "optimizer = optimizer_class(\n",
    "    params_to_optimize,\n",
    "    lr = args.lr\n",
    ") \n",
    "\n",
    "#Get lr scheduler = \n",
    "lr_scheduler = get_scheduler(\n",
    "    args.lr_scheduler,\n",
    "    optimizer=optimizer,\n",
    "    num_warmup_steps=args.lr_warmup_steps,# * args.gradient_accumulation_steps,\n",
    "    num_training_steps=args.max_train_steps,# * args.gradient_accumulation_steps,\n",
    "    num_cycles=args.lr_num_cycles,\n",
    "    power=args.lr_power,\n",
    ")\n",
    "\n",
    "# additional, try to figure out accelerator"
   ]
  },
  {
   "cell_type": "code",
   "execution_count": null,
   "id": "bcb94683-dbb1-4450-a445-9b3950eb8d3c",
   "metadata": {},
   "outputs": [],
   "source": [
    "vae.requires_grad_(False);\n",
    "# unet.requires_grad_(False);"
   ]
  },
  {
   "cell_type": "code",
   "execution_count": null,
   "id": "7e7875a7-36e7-479b-9d30-20249fe0fed8",
   "metadata": {},
   "outputs": [
    {
     "name": "stdout",
     "output_type": "stream",
     "text": [
      "***** Running training *****\n",
      "  Num examples = 1000\n",
      "  Num batches each epoch = 250\n",
      "  Num Epochs = 200\n",
      "  Instantaneous batch size per device = 4\n",
      "  Total train batch size (w. parallel, distributed & accumulation) = 4\n",
      "  Gradient Accumulation steps = 1\n",
      "  Total optimization steps = 50000\n"
     ]
    },
    {
     "data": {
      "application/vnd.jupyter.widget-view+json": {
       "model_id": "c2dbe6baedb64edfb3bb7a01c05e60cf",
       "version_major": 2,
       "version_minor": 0
      },
      "text/plain": [
       "Steps:   0%|          | 0/50000 [00:00<?, ?it/s]"
      ]
     },
     "metadata": {},
     "output_type": "display_data"
    },
    {
     "name": "stdout",
     "output_type": "stream",
     "text": [
      "{'loss': 0.0029526110738515854, 'lr': 1e-05}\n",
      "step = 0\n",
      "torch.Size([1, 6, 512, 512])\n"
     ]
    },
    {
     "name": "stderr",
     "output_type": "stream",
     "text": [
      "/n/home07/adamaraju/.local/lib/python3.8/site-packages/diffusers/pipelines/stable_diffusion/pipeline_stable_diffusion_adapter.py:698: FutureWarning: Accessing config attribute `in_channels` directly via 'UNet2DConditionModel' object attribute is deprecated. Please access 'in_channels' over 'UNet2DConditionModel's config object instead, e.g. 'unet.config.in_channels'.\n",
      "  num_channels_latents = self.unet.in_channels\n"
     ]
    },
    {
     "data": {
      "application/vnd.jupyter.widget-view+json": {
       "model_id": "7e69e74bc74a4db2ba5aa40a364afc84",
       "version_major": 2,
       "version_minor": 0
      },
      "text/plain": [
       "  0%|          | 0/20 [00:00<?, ?it/s]"
      ]
     },
     "metadata": {},
     "output_type": "display_data"
    },
    {
     "name": "stdout",
     "output_type": "stream",
     "text": [
      "torch.Size([1, 6, 512, 512])\n"
     ]
    },
    {
     "data": {
      "application/vnd.jupyter.widget-view+json": {
       "model_id": "e1bd790ce6f542b79f0c14ffeced6c20",
       "version_major": 2,
       "version_minor": 0
      },
      "text/plain": [
       "  0%|          | 0/20 [00:00<?, ?it/s]"
      ]
     },
     "metadata": {},
     "output_type": "display_data"
    },
    {
     "name": "stdout",
     "output_type": "stream",
     "text": [
      "torch.Size([1, 6, 512, 512])\n"
     ]
    },
    {
     "data": {
      "application/vnd.jupyter.widget-view+json": {
       "model_id": "2b424064c7d644a7874728661e8e96b5",
       "version_major": 2,
       "version_minor": 0
      },
      "text/plain": [
       "  0%|          | 0/20 [00:00<?, ?it/s]"
      ]
     },
     "metadata": {},
     "output_type": "display_data"
    },
    {
     "name": "stdout",
     "output_type": "stream",
     "text": [
      "torch.Size([1, 6, 512, 512])\n"
     ]
    },
    {
     "data": {
      "application/vnd.jupyter.widget-view+json": {
       "model_id": "d0a916837cfe4ed398e9f5268889f006",
       "version_major": 2,
       "version_minor": 0
      },
      "text/plain": [
       "  0%|          | 0/20 [00:00<?, ?it/s]"
      ]
     },
     "metadata": {},
     "output_type": "display_data"
    },
    {
     "name": "stdout",
     "output_type": "stream",
     "text": [
      "{'loss': 0.0032385806553065777, 'lr': 1e-05}\n",
      "step = 0\n",
      "torch.Size([1, 6, 512, 512])\n"
     ]
    },
    {
     "data": {
      "application/vnd.jupyter.widget-view+json": {
       "model_id": "2f4a289709c243679e6bbb5d9a355990",
       "version_major": 2,
       "version_minor": 0
      },
      "text/plain": [
       "  0%|          | 0/20 [00:00<?, ?it/s]"
      ]
     },
     "metadata": {},
     "output_type": "display_data"
    },
    {
     "name": "stdout",
     "output_type": "stream",
     "text": [
      "torch.Size([1, 6, 512, 512])\n"
     ]
    },
    {
     "data": {
      "application/vnd.jupyter.widget-view+json": {
       "model_id": "12d0797e6d674ea6a05831b7868804c6",
       "version_major": 2,
       "version_minor": 0
      },
      "text/plain": [
       "  0%|          | 0/20 [00:00<?, ?it/s]"
      ]
     },
     "metadata": {},
     "output_type": "display_data"
    },
    {
     "name": "stdout",
     "output_type": "stream",
     "text": [
      "torch.Size([1, 6, 512, 512])\n"
     ]
    },
    {
     "data": {
      "application/vnd.jupyter.widget-view+json": {
       "model_id": "375cf9ddbff4424d8ef2f54520c7c100",
       "version_major": 2,
       "version_minor": 0
      },
      "text/plain": [
       "  0%|          | 0/20 [00:00<?, ?it/s]"
      ]
     },
     "metadata": {},
     "output_type": "display_data"
    },
    {
     "name": "stdout",
     "output_type": "stream",
     "text": [
      "torch.Size([1, 6, 512, 512])\n"
     ]
    },
    {
     "data": {
      "application/vnd.jupyter.widget-view+json": {
       "model_id": "3d22b754581f4366923de328e25dbc58",
       "version_major": 2,
       "version_minor": 0
      },
      "text/plain": [
       "  0%|          | 0/20 [00:00<?, ?it/s]"
      ]
     },
     "metadata": {},
     "output_type": "display_data"
    }
   ],
   "source": [
    "## https://github.com/huggingface/diffusers/blob/main/examples/controlnet/train_controlnet.py\n",
    "#Set number of max train steps?\n",
    "torch.autograd.set_detect_anomaly(True)\n",
    "args.max_train_steps = args.num_train_epochs * len(train_dataloader)\n",
    "\n",
    "\n",
    "# Train!\n",
    "total_batch_size = args.train_batch_size #* accelerator.num_processes * args.gradient_accumulation_steps\n",
    "\n",
    "print(\"***** Running training *****\")\n",
    "print(f\"  Num examples = {len(train_dataset)}\")\n",
    "print(f\"  Num batches each epoch = {len(train_dataloader)}\")\n",
    "print(f\"  Num Epochs = {args.num_train_epochs}\")\n",
    "print(f\"  Instantaneous batch size per device = {args.train_batch_size}\")\n",
    "print(f\"  Total train batch size (w. parallel, distributed & accumulation) = {total_batch_size}\")\n",
    "print(f\"  Gradient Accumulation steps = {args.gradient_accumulation_steps}\")\n",
    "print(f\"  Total optimization steps = {args.max_train_steps}\")\n",
    "global_step = 0\n",
    "first_epoch = 0\n",
    "\n",
    "initial_global_step = 0\n",
    "\n",
    "progress_bar = tqdm(\n",
    "    range(0, args.max_train_steps),\n",
    "    initial=initial_global_step,\n",
    "    desc=\"Steps\",\n",
    "    # Only show the progress bar once on each machine.\n",
    "    # disable=not accelerator.is_local_main_process,\n",
    ")\n",
    "\n",
    "weight_dtype = torch.float32\n",
    "image_logs = None\n",
    "for epoch in range(first_epoch, args.num_train_epochs):\n",
    "    for step, batch in enumerate(train_dataloader):\n",
    "        #### Convert images to latent space\n",
    "        #network that goes from four to three dimensions\n",
    "        \n",
    "        # For each batch, we have to get a random layer\n",
    "        # Generate mask and find polygon for that layer\n",
    "        #Batch['pixel_values'] will correspond to the polygon for that layer\n",
    "        rlayer = np.random.randint(0,3)\n",
    "        \n",
    "        latents = vae.encode(batch[\"pixel_values\"][:,rlayer,:].squeeze().to(dtype=weight_dtype).to('cuda')).latent_dist.sample()\n",
    "        latents = latents * vae.config.scaling_factor\n",
    "        # print('Latents calculated')\n",
    "        \n",
    "        # Sample noise that we'll add to the latents\n",
    "        noise = torch.randn_like(latents)\n",
    "        bsz = latents.shape[0]\n",
    "        # Sample a random timestep for each image\n",
    "        timesteps = torch.randint(0, noise_scheduler.config.num_train_timesteps, (bsz,), device=latents.device)\n",
    "        #Following two lines are for uneven sampling (see t2i section 3.4)\n",
    "        timesteps = (1 - (timesteps/ noise_scheduler.config.num_train_timesteps)**3) *  noise_scheduler.config.num_train_timesteps\n",
    "        timesteps = timesteps.to(torch.int).clip(0,noise_scheduler.config.num_train_timesteps-1).to(latents.device).long()\n",
    "        # print(timesteps)\n",
    "        # timesteps = timesteps.long()\n",
    "        # print('Noise Generated')\n",
    "\n",
    "        # Add noise to the latents according to the noise magnitude at each timestep\n",
    "        # (this is the forward diffusion process)\n",
    "        noisy_latents = noise_scheduler.add_noise(latents, noise, timesteps)\n",
    "\n",
    "        # Get the text embedding for conditioning\n",
    "        prompt_embeds = pipe._encode_prompt(\n",
    "            \"picture of an object on a white background\",\n",
    "            device=\"cuda\",\n",
    "            num_images_per_prompt = args.train_batch_size ,\n",
    "            do_classifier_free_guidance=args.do_classifier_free_guidance,\n",
    "            negative_prompt=None,\n",
    "            prompt_embeds=None,\n",
    "            negative_prompt_embeds=None,\n",
    "        )\n",
    "        # print('Prompt Embeddings Generated')\n",
    "\n",
    "        # Denoising loop\n",
    "        #We will have two inputs into the adapter, batch{'conditioning_pixel_values'} corresponds to the ground truth image (unchanged)\n",
    "        layer_masks = combine_masks(batch['pixel_binaries'],rlayer).clone()\n",
    "        adapter_input = torch.cat([batch[\"conditioning_pixel_values\"].to(dtype=weight_dtype).to('cuda').clone(), layer_masks.to(dtype=weight_dtype).to('cuda')],dim=1)\n",
    "        adapter_state = adapter(adapter_input,[1.0,0.0])\n",
    "        \n",
    "        # adapter_inputs = [batch[\"conditioning_pixel_values\"].to(dtype=weight_dtype).to('cuda'), \n",
    "        #                   layer_masks.to(dtype=weight_dtype).to('cuda')]\n",
    "        # adapter_state = None\n",
    "        # for x, adapter in zip(adapter_inputs, adapters):\n",
    "        #     features = adapter(x)\n",
    "        #     if adapter_state is None:\n",
    "        #         adapter_state = features\n",
    "        #     else:\n",
    "        #         for i in range(len(features)):\n",
    "        #             adapter_state[i] + adapter_state[i]+  .5 * features[i]\n",
    "        \n",
    "        \n",
    "        for k, v in enumerate(adapter_state):\n",
    "            adapter_state[k] = v * args.adapter_conditioning_scale\n",
    "        if args.num_images_per_prompt > 1:\n",
    "            for k, v in enumerate(adapter_state):\n",
    "                adapter_state[k] = v.repeat(args.num_images_per_prompt, 1, 1, 1)\n",
    "        if args.do_classifier_free_guidance:\n",
    "            for k, v in enumerate(adapter_state):\n",
    "                adapter_state[k] = torch.cat([v] * 2, dim=0)\n",
    "        # print('Adapter values Generated')\n",
    "\n",
    "        \n",
    "        ## expand the latents if we are doing classifier free guidance\n",
    "        latent_model_input = torch.cat([noisy_latents] * 2) if args.do_classifier_free_guidance else noisy_latents\n",
    "\n",
    "        # predict the noise residual\n",
    "        noise_pred = unet(\n",
    "                latent_model_input,\n",
    "                timesteps,\n",
    "                encoder_hidden_states=prompt_embeds,\n",
    "                cross_attention_kwargs=None,\n",
    "                down_block_additional_residuals=[state.clone() for state in adapter_state],\n",
    "        ).sample\n",
    "\n",
    "        # print('Prediction complete')\n",
    "        # Get the target for loss depending on the prediction type\n",
    "        if noise_scheduler.config.prediction_type == \"epsilon\":\n",
    "            target = noise\n",
    "        elif noise_scheduler.config.prediction_type == \"v_prediction\":\n",
    "            target = noise_scheduler.get_velocity(latents, noise, timesteps)\n",
    "        else:\n",
    "            raise ValueError(f\"Unknown prediction type {noise_scheduler.config.prediction_type}\")\n",
    "        loss = F.mse_loss(noise_pred.float(), target.float(), reduction=\"mean\")\n",
    "        # print('loss computed')\n",
    "        loss.backward()\n",
    "        optimizer.step()\n",
    "        lr_scheduler.step()\n",
    "        optimizer.zero_grad(set_to_none=args.set_grads_to_none)\n",
    "        progress_bar.update(1)\n",
    "\n",
    "    logs = {\"loss\": loss.detach().item(), \"lr\": lr_scheduler.get_last_lr()[0]}\n",
    "    print(logs)\n",
    "    \n",
    "    progress_bar.set_postfix(**logs)\n",
    "    if epoch % 1 == 0:\n",
    "        val_out = log_validation(pipe, adapter, args)\n",
    "        save_image_logs(val_out,step=epoch)\n",
    "    if global_step >= args.max_train_steps:\n",
    "        break"
   ]
  },
  {
   "cell_type": "code",
   "execution_count": 74,
   "id": "f72fd495-7a71-409c-80d7-88b307078c9a",
   "metadata": {},
   "outputs": [],
   "source": [
    "VALIDATION_SIZE=2\n",
    "H=W=512\n",
    "\n",
    "val_binaries = []\n",
    "val_layers = []\n",
    "val_imgs = []\n",
    "\n",
    "def gray2rgb(img):\n",
    "    return (np.repeat(img,3,-1)* 255).astype(np.uint8)\n",
    "\n",
    "for itr in range(VALIDATION_SIZE):\n",
    "    \n",
    "    #add to lists\n",
    "    val_binaries.append(masks)\n",
    "    val_layers.append(polygons)\n",
    "    val_imgs.append(img)\n",
    "    \n",
    "#     if itr%200 == 0:\n",
    "#         print(itr)"
   ]
  },
  {
   "cell_type": "code",
   "execution_count": null,
   "id": "9ac746d6-ec19-421b-b818-87751bcdd3cd",
   "metadata": {},
   "outputs": [],
   "source": [
    "from PIL import Image\n",
    "\n",
    "val_imgs_PIL = []\n",
    "val_layers_PIL = []\n",
    "for idx in range(len(val_imgs)):\n",
    "    val_imgs_PIL.append(Image.fromarray((val_imgs[idx]*255).astype(np.uint8)))\n",
    "    val_layers_PIL.append(Image.fromarray(val_layers[idx][1].astype(np.uint8)))\n",
    "\n",
    "args.validation_image = val_imgs_PIL\n",
    "args.validation_prompt = [\"picture of an object on a white background\"]\n",
    "args.num_validation_images = VALIDATION_SIZE"
   ]
  },
  {
   "cell_type": "code",
   "execution_count": 113,
   "id": "47602401-fb8c-4f87-9452-49002f8294ac",
   "metadata": {},
   "outputs": [],
   "source": [
    "img, masks, polygons = generate_overlapping_polygons(H,W,2)\n",
    "val_img = Image.fromarray((img*255).astype(np.uint8))"
   ]
  },
  {
   "cell_type": "code",
   "execution_count": 114,
   "id": "2154568d-733b-4e09-8f90-cb6d61bf67cf",
   "metadata": {},
   "outputs": [
    {
     "data": {
      "application/vnd.jupyter.widget-view+json": {
       "model_id": "f8382403ad61488fb3736d379ca8907a",
       "version_major": 2,
       "version_minor": 0
      },
      "text/plain": [
       "  0%|          | 0/40 [00:00<?, ?it/s]"
      ]
     },
     "metadata": {},
     "output_type": "display_data"
    }
   ],
   "source": [
    "with torch.autocast(\"cuda\"):\n",
    "    image = pipe(args.validation_prompt, val_img, num_inference_steps=40, generator=None).images[0]"
   ]
  },
  {
   "cell_type": "code",
   "execution_count": 115,
   "id": "89f1a27b-c145-4ce4-b148-afd91171c9a8",
   "metadata": {},
   "outputs": [
    {
     "data": {
      "image/png": "[encoded data removed]",
      "text/plain": [
       "<Figure size 432x288 with 2 Axes>"
      ]
     },
     "metadata": {},
     "output_type": "display_data"
    }
   ],
   "source": [
    "plt.subplot(121)\n",
    "plt.imshow(img)\n",
    "plt.xticks([]); plt.yticks([])\n",
    "plt.title('Input image')\n",
    "\n",
    "plt.subplot(122)\n",
    "plt.imshow(image)\n",
    "plt.title('Output Image')\n",
    "plt.xticks([]); plt.yticks([]);"
   ]
  },
  {
   "cell_type": "code",
   "execution_count": null,
   "id": "8123e4ac-f6e0-41d3-ab19-537ee31ccc3d",
   "metadata": {},
   "outputs": [],
   "source": []
  }
 ],
 "metadata": {
  "kernelspec": {
   "display_name": "Python 3",
   "language": "python",
   "name": "python3"
  },
  "language_info": {
   "codemirror_mode": {
    "name": "ipython",
    "version": 3
   },
   "file_extension": ".py",
   "mimetype": "text/x-python",
   "name": "python",
   "nbconvert_exporter": "python",
   "pygments_lexer": "ipython3",
   "version": "3.8.8"
  }
 },
 "nbformat": 4,
 "nbformat_minor": 5
}
